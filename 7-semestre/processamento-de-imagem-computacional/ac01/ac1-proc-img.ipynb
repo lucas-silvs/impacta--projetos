{
 "cells": [
  {
   "attachments": {},
   "cell_type": "markdown",
   "metadata": {},
   "source": [
    "# AC1 orientações de execução\n",
    "\n",
    "Colocar o nome de todos os integrantes no inicio do trabalho\n",
    "Trabalho feito em grupo\n",
    "Não é necessário que todos enviem o trabalho, apenas um dos integrantes é o suficiente\n",
    "\n",
    "Elaborar um relatório em doc ou PDF\n",
    "\n",
    "Escolher uma imagem com vários cães, mais que 5.\n",
    "\n",
    "1- Localizar cada cão e gerar imagens menores, individuais de cada cão e apresentar cada uma delas.\n",
    "\n",
    "2 - Na mesma imagem(original), localizar todos os cães e remover o resto da imagem, colocando o fundo na cor preta,\n",
    "somente os cães deve ficar na imagem\n",
    "\n",
    "Para os exercícios 1 e 2, podem utilizar formar geométricas simples( quadrados ou circulos, etc), para posicionar os cães.\n",
    "\n",
    "3- Rotacionar a imagem com relação ao centro da imagem em 45 graus\n",
    "\n",
    "4-Rotacionar a imagem com relação ao centro do cão localizado mais a direita e abaixo, em -30 graus\n",
    "\n",
    "5- Reduzir a imagem do maior cão pela metade\n",
    "\n",
    "6-Apliar a imagem do menos cão em 2 vezes\n",
    "\n",
    "7-Fazer um flip de   -1,  0 e 1 com a imagem individual do maior e menor cão\n"
   ]
  },
  {
   "cell_type": "code",
   "execution_count": 1,
   "metadata": {},
   "outputs": [
    {
     "name": "stdout",
     "output_type": "stream",
     "text": [
      "Largura em pixels: 612\n",
      "Altura em pixels: 409\n",
      "Qtde de canais: 3\n"
     ]
    }
   ],
   "source": [
    "import cv2\n",
    "\n",
    "img = cv2.imread(\"5-dogs.jpg\")\n",
    "\n",
    "print('Largura em pixels: ', end='')\n",
    "print(img.shape[1]) #largura da imagem\n",
    "print('Altura em pixels: ', end='')\n",
    "print(img.shape[0]) #altura da imagem\n",
    "print('Qtde de canais: ', end='')\n",
    "print(img.shape[2])\n",
    "# Mostra a imagem com a função imshow\n",
    "# cv2.imshow(\"Imagem dos dogs\", img)\n",
    "# cv2.waitKey(0) #espera pressionar qualquer tecla"
   ]
  },
  {
   "cell_type": "code",
   "execution_count": null,
   "metadata": {},
   "outputs": [],
   "source": [
    "# 1- Localizar cada cão e gerar imagens menores, individuais de cada cão e apresentar cada uma delas.\n",
    "img = cv2.imread(\"5-dogs.jpg\")\n",
    "img_individual_cao = img.copy()\n",
    "img_cinza = cv2.cvtColor(img_individual_cao, cv2.COLOR_BGR2GRAY)\n",
    "# detectar_cao = cv2.CascadeClassifier(img_individual_cao)"
   ]
  },
  {
   "cell_type": "code",
   "execution_count": null,
   "metadata": {},
   "outputs": [],
   "source": [
    "# 2 - Na mesma imagem(original), localizar todos os cães e remover o resto da imagem, colocando o fundo na cor preta, somente os cães deve ficar na imagem"
   ]
  },
  {
   "cell_type": "code",
   "execution_count": 1,
   "metadata": {},
   "outputs": [
    {
     "data": {
      "text/plain": [
       "27"
      ]
     },
     "execution_count": 1,
     "metadata": {},
     "output_type": "execute_result"
    },
    {
     "ename": "",
     "evalue": "",
     "output_type": "error",
     "traceback": [
      "\u001b[1;31mThe Kernel crashed while executing code in the the current cell or a previous cell. Please review the code in the cell(s) to identify a possible cause of the failure. Click <a href='https://aka.ms/vscodeJupyterKernelCrash'>here</a> for more info. View Jupyter <a href='command:jupyter.viewOutput'>log</a> for further details."
     ]
    }
   ],
   "source": [
    "# 5 - Reduzir a imagem do maior cão pela metade\n",
    "\n",
    "import numpy as np\n",
    "import imutils\n",
    "import cv2\n",
    "\n",
    "img = cv2.imread(\"5-dogs.jpg\")\n",
    "\n",
    "# cv2.imshow(\"teste\",img)\n",
    "# cv2.waitKey(0)\n",
    "\n",
    "#Cortando imagem cão maior\n",
    "img_cao_maior = img[50:200, 169:238] \n",
    "\n",
    "cv2.imshow(\"teste\", img_cao_maior)\n",
    "cv2.waitKey(0)\n",
    "\n",
    "\n",
    "#redimensionando imagem cão maior\n",
    " cv2.imshow(\"Original\", img_resized)\n",
    " proporcao = 100.0 / img.shape[1]\n",
    " tamanho_novo = (100, int(img.shape[0] * proporcao))\n",
    " img_redimensionada = cv2.resize(img, tamanho_novo, interpolation = cv2.INTER_AREA)\n",
    " cv2.imshow(\"Imagem redimensionada\", img_redimensionada)\n",
    " cv2.waitKey(0)\n"
   ]
  },
  {
   "cell_type": "code",
   "execution_count": null,
   "metadata": {},
   "outputs": [],
   "source": [
    "# 6 - Apliar a imagem do menos cão em 2 vezes"
   ]
  },
  {
   "cell_type": "code",
   "execution_count": null,
   "metadata": {},
   "outputs": [],
   "source": [
    "# 3- Rotacionar a imagem com relação ao centro da imagem em 45 graus\n",
    "img = cv2.imread(\"5-dogs.jpg\")\n",
    "img_45_graus = img.copy()\n",
    "(alt, lar) = img_45_graus.shape[:2]\n",
    "centro = (lar // 2, alt // 2)\n",
    "ANGULO_ROTACAO = cv2.getRotationMatrix2D(centro, 45, 1.0)\n",
    "img_rotacionada = cv2.warpAffine(img_45_graus, ANGULO_ROTACAO, (lar, alt))\n",
    "cv2.imshow(\"Imagem rotacionada em 45 graus\", img_rotacionada)\n",
    "cv2.waitKey(0)"
   ]
  },
  {
   "cell_type": "code",
   "execution_count": null,
   "metadata": {},
   "outputs": [],
   "source": [
    "# 4-Rotacionar a imagem com relação ao centro do cão localizado mais a direita e abaixo, em -30 graus\n",
    "\n",
    "img = cv2.imread(\"5-dogs.jpg\")\n",
    "img_45_graus = img.copy()\n",
    "(alt, lar) = img_45_graus.shape[:2]\n",
    "centro = (lar // 2, alt // 2)\n",
    "ANGULO_ROTACAO = cv2.getRotationMatrix2D(centro, -30, 1.0)\n",
    "img_rotacionada = cv2.warpAffine(img_45_graus, ANGULO_ROTACAO, (lar, alt))\n",
    "cv2.imshow(\"Imagem rotacionada em -30 graus\", img_rotacionada)\n",
    "cv2.waitKey(0)"
   ]
  }
 ],
 "metadata": {
  "kernelspec": {
   "display_name": "venv",
   "language": "python",
   "name": "python3"
  },
  "language_info": {
   "codemirror_mode": {
    "name": "ipython",
    "version": 3
   },
   "file_extension": ".py",
   "mimetype": "text/x-python",
   "name": "python",
   "nbconvert_exporter": "python",
   "pygments_lexer": "ipython3",
   "version": "3.10.6"
  },
  "orig_nbformat": 4
 },
 "nbformat": 4,
 "nbformat_minor": 2
}
