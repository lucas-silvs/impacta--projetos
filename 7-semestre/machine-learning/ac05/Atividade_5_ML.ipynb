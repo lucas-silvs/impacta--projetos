{
  "cells": [
    {
      "attachments": {},
      "cell_type": "markdown",
      "metadata": {
        "id": "_T0vM0vt5Ibj"
      },
      "source": [
        "# Atividade 5 - Avaliação dos Modelos\n",
        "\n",
        "## Disciplina de Machine Learning\n",
        "\n",
        "## Prof. Me. Fernando Sequeira Sousa\n",
        "\n",
        "\n",
        "Coordenador: Larissa Ionafa RA: 1903166\n",
        "\n",
        "Secretário: Lucas da Silva Santos RA: 1904209\n",
        "\n",
        "Orador: Arthur Vinicius Santos Silva RA: 1903665"
      ]
    },
    {
      "attachments": {},
      "cell_type": "markdown",
      "metadata": {
        "id": "pMSaQLg20p1p"
      },
      "source": []
    },
    {
      "attachments": {},
      "cell_type": "markdown",
      "metadata": {
        "id": "7FYTbab8-C2N"
      },
      "source": [
        "## Tratamento de dados referente AC3"
      ]
    },
    {
      "cell_type": "code",
      "execution_count": 41,
      "metadata": {
        "id": "xra6AVVK_orc"
      },
      "outputs": [],
      "source": [
        "import pandas as pd\n",
        "import matplotlib.pyplot as plt\n",
        "import statsmodels.api as sm\n",
        "from statsmodels.formula.api import ols\n",
        "import numpy as np"
      ]
    },
    {
      "cell_type": "code",
      "execution_count": 42,
      "metadata": {
        "id": "IV2KCxEL_qns"
      },
      "outputs": [],
      "source": [
        "dados = pd.read_csv('./../base_acs/Car_Insurance_Claim.csv')"
      ]
    },
    {
      "cell_type": "code",
      "execution_count": 43,
      "metadata": {
        "colab": {
          "base_uri": "https://localhost:8080/",
          "height": 423
        },
        "id": "QP66Q17t-tsT",
        "outputId": "94e8a843-6864-4e90-b7bf-6be35595e25f"
      },
      "outputs": [
        {
          "data": {
            "text/html": [
              "<div>\n",
              "<style scoped>\n",
              "    .dataframe tbody tr th:only-of-type {\n",
              "        vertical-align: middle;\n",
              "    }\n",
              "\n",
              "    .dataframe tbody tr th {\n",
              "        vertical-align: top;\n",
              "    }\n",
              "\n",
              "    .dataframe thead th {\n",
              "        text-align: right;\n",
              "    }\n",
              "</style>\n",
              "<table border=\"1\" class=\"dataframe\">\n",
              "  <thead>\n",
              "    <tr style=\"text-align: right;\">\n",
              "      <th></th>\n",
              "      <th>ID</th>\n",
              "      <th>AGE</th>\n",
              "      <th>GENDER</th>\n",
              "      <th>RACE</th>\n",
              "      <th>DRIVING_EXPERIENCE</th>\n",
              "      <th>EDUCATION</th>\n",
              "      <th>INCOME</th>\n",
              "      <th>CREDIT_SCORE</th>\n",
              "      <th>VEHICLE_OWNERSHIP</th>\n",
              "      <th>VEHICLE_YEAR</th>\n",
              "      <th>MARRIED</th>\n",
              "      <th>CHILDREN</th>\n",
              "      <th>POSTAL_CODE</th>\n",
              "      <th>ANNUAL_MILEAGE</th>\n",
              "      <th>VEHICLE_TYPE</th>\n",
              "      <th>SPEEDING_VIOLATIONS</th>\n",
              "      <th>DUIS</th>\n",
              "      <th>PAST_ACCIDENTS</th>\n",
              "      <th>OUTCOME</th>\n",
              "    </tr>\n",
              "  </thead>\n",
              "  <tbody>\n",
              "    <tr>\n",
              "      <th>0</th>\n",
              "      <td>569520</td>\n",
              "      <td>65+</td>\n",
              "      <td>female</td>\n",
              "      <td>majority</td>\n",
              "      <td>0-9y</td>\n",
              "      <td>high school</td>\n",
              "      <td>upper class</td>\n",
              "      <td>0.629027</td>\n",
              "      <td>1.0</td>\n",
              "      <td>after 2015</td>\n",
              "      <td>0.0</td>\n",
              "      <td>1.0</td>\n",
              "      <td>10238</td>\n",
              "      <td>12000.0</td>\n",
              "      <td>sedan</td>\n",
              "      <td>0</td>\n",
              "      <td>0</td>\n",
              "      <td>0</td>\n",
              "      <td>0.0</td>\n",
              "    </tr>\n",
              "    <tr>\n",
              "      <th>1</th>\n",
              "      <td>750365</td>\n",
              "      <td>16-25</td>\n",
              "      <td>male</td>\n",
              "      <td>majority</td>\n",
              "      <td>0-9y</td>\n",
              "      <td>none</td>\n",
              "      <td>poverty</td>\n",
              "      <td>0.357757</td>\n",
              "      <td>0.0</td>\n",
              "      <td>before 2015</td>\n",
              "      <td>0.0</td>\n",
              "      <td>0.0</td>\n",
              "      <td>10238</td>\n",
              "      <td>16000.0</td>\n",
              "      <td>sedan</td>\n",
              "      <td>0</td>\n",
              "      <td>0</td>\n",
              "      <td>0</td>\n",
              "      <td>1.0</td>\n",
              "    </tr>\n",
              "    <tr>\n",
              "      <th>2</th>\n",
              "      <td>199901</td>\n",
              "      <td>16-25</td>\n",
              "      <td>female</td>\n",
              "      <td>majority</td>\n",
              "      <td>0-9y</td>\n",
              "      <td>high school</td>\n",
              "      <td>working class</td>\n",
              "      <td>0.493146</td>\n",
              "      <td>1.0</td>\n",
              "      <td>before 2015</td>\n",
              "      <td>0.0</td>\n",
              "      <td>0.0</td>\n",
              "      <td>10238</td>\n",
              "      <td>11000.0</td>\n",
              "      <td>sedan</td>\n",
              "      <td>0</td>\n",
              "      <td>0</td>\n",
              "      <td>0</td>\n",
              "      <td>0.0</td>\n",
              "    </tr>\n",
              "    <tr>\n",
              "      <th>3</th>\n",
              "      <td>478866</td>\n",
              "      <td>16-25</td>\n",
              "      <td>male</td>\n",
              "      <td>majority</td>\n",
              "      <td>0-9y</td>\n",
              "      <td>university</td>\n",
              "      <td>working class</td>\n",
              "      <td>0.206013</td>\n",
              "      <td>1.0</td>\n",
              "      <td>before 2015</td>\n",
              "      <td>0.0</td>\n",
              "      <td>1.0</td>\n",
              "      <td>32765</td>\n",
              "      <td>11000.0</td>\n",
              "      <td>sedan</td>\n",
              "      <td>0</td>\n",
              "      <td>0</td>\n",
              "      <td>0</td>\n",
              "      <td>0.0</td>\n",
              "    </tr>\n",
              "    <tr>\n",
              "      <th>4</th>\n",
              "      <td>731664</td>\n",
              "      <td>26-39</td>\n",
              "      <td>male</td>\n",
              "      <td>majority</td>\n",
              "      <td>10-19y</td>\n",
              "      <td>none</td>\n",
              "      <td>working class</td>\n",
              "      <td>0.388366</td>\n",
              "      <td>1.0</td>\n",
              "      <td>before 2015</td>\n",
              "      <td>0.0</td>\n",
              "      <td>0.0</td>\n",
              "      <td>32765</td>\n",
              "      <td>12000.0</td>\n",
              "      <td>sedan</td>\n",
              "      <td>2</td>\n",
              "      <td>0</td>\n",
              "      <td>1</td>\n",
              "      <td>1.0</td>\n",
              "    </tr>\n",
              "    <tr>\n",
              "      <th>...</th>\n",
              "      <td>...</td>\n",
              "      <td>...</td>\n",
              "      <td>...</td>\n",
              "      <td>...</td>\n",
              "      <td>...</td>\n",
              "      <td>...</td>\n",
              "      <td>...</td>\n",
              "      <td>...</td>\n",
              "      <td>...</td>\n",
              "      <td>...</td>\n",
              "      <td>...</td>\n",
              "      <td>...</td>\n",
              "      <td>...</td>\n",
              "      <td>...</td>\n",
              "      <td>...</td>\n",
              "      <td>...</td>\n",
              "      <td>...</td>\n",
              "      <td>...</td>\n",
              "      <td>...</td>\n",
              "    </tr>\n",
              "    <tr>\n",
              "      <th>9995</th>\n",
              "      <td>323164</td>\n",
              "      <td>26-39</td>\n",
              "      <td>female</td>\n",
              "      <td>majority</td>\n",
              "      <td>10-19y</td>\n",
              "      <td>university</td>\n",
              "      <td>upper class</td>\n",
              "      <td>0.582787</td>\n",
              "      <td>1.0</td>\n",
              "      <td>before 2015</td>\n",
              "      <td>0.0</td>\n",
              "      <td>0.0</td>\n",
              "      <td>10238</td>\n",
              "      <td>16000.0</td>\n",
              "      <td>sedan</td>\n",
              "      <td>0</td>\n",
              "      <td>0</td>\n",
              "      <td>1</td>\n",
              "      <td>0.0</td>\n",
              "    </tr>\n",
              "    <tr>\n",
              "      <th>9996</th>\n",
              "      <td>910346</td>\n",
              "      <td>26-39</td>\n",
              "      <td>female</td>\n",
              "      <td>majority</td>\n",
              "      <td>10-19y</td>\n",
              "      <td>none</td>\n",
              "      <td>middle class</td>\n",
              "      <td>0.522231</td>\n",
              "      <td>1.0</td>\n",
              "      <td>after 2015</td>\n",
              "      <td>0.0</td>\n",
              "      <td>1.0</td>\n",
              "      <td>32765</td>\n",
              "      <td>NaN</td>\n",
              "      <td>sedan</td>\n",
              "      <td>1</td>\n",
              "      <td>0</td>\n",
              "      <td>0</td>\n",
              "      <td>0.0</td>\n",
              "    </tr>\n",
              "    <tr>\n",
              "      <th>9997</th>\n",
              "      <td>468409</td>\n",
              "      <td>26-39</td>\n",
              "      <td>male</td>\n",
              "      <td>majority</td>\n",
              "      <td>0-9y</td>\n",
              "      <td>high school</td>\n",
              "      <td>middle class</td>\n",
              "      <td>0.470940</td>\n",
              "      <td>1.0</td>\n",
              "      <td>before 2015</td>\n",
              "      <td>0.0</td>\n",
              "      <td>1.0</td>\n",
              "      <td>10238</td>\n",
              "      <td>14000.0</td>\n",
              "      <td>sedan</td>\n",
              "      <td>0</td>\n",
              "      <td>0</td>\n",
              "      <td>0</td>\n",
              "      <td>0.0</td>\n",
              "    </tr>\n",
              "    <tr>\n",
              "      <th>9998</th>\n",
              "      <td>903459</td>\n",
              "      <td>26-39</td>\n",
              "      <td>female</td>\n",
              "      <td>majority</td>\n",
              "      <td>10-19y</td>\n",
              "      <td>high school</td>\n",
              "      <td>poverty</td>\n",
              "      <td>0.364185</td>\n",
              "      <td>0.0</td>\n",
              "      <td>before 2015</td>\n",
              "      <td>0.0</td>\n",
              "      <td>1.0</td>\n",
              "      <td>10238</td>\n",
              "      <td>13000.0</td>\n",
              "      <td>sedan</td>\n",
              "      <td>2</td>\n",
              "      <td>0</td>\n",
              "      <td>1</td>\n",
              "      <td>1.0</td>\n",
              "    </tr>\n",
              "    <tr>\n",
              "      <th>9999</th>\n",
              "      <td>442696</td>\n",
              "      <td>26-39</td>\n",
              "      <td>female</td>\n",
              "      <td>majority</td>\n",
              "      <td>0-9y</td>\n",
              "      <td>none</td>\n",
              "      <td>working class</td>\n",
              "      <td>0.435225</td>\n",
              "      <td>1.0</td>\n",
              "      <td>before 2015</td>\n",
              "      <td>1.0</td>\n",
              "      <td>1.0</td>\n",
              "      <td>10238</td>\n",
              "      <td>13000.0</td>\n",
              "      <td>sedan</td>\n",
              "      <td>0</td>\n",
              "      <td>0</td>\n",
              "      <td>0</td>\n",
              "      <td>0.0</td>\n",
              "    </tr>\n",
              "  </tbody>\n",
              "</table>\n",
              "<p>10000 rows × 19 columns</p>\n",
              "</div>"
            ],
            "text/plain": [
              "          ID    AGE  GENDER      RACE DRIVING_EXPERIENCE    EDUCATION  \\\n",
              "0     569520    65+  female  majority               0-9y  high school   \n",
              "1     750365  16-25    male  majority               0-9y         none   \n",
              "2     199901  16-25  female  majority               0-9y  high school   \n",
              "3     478866  16-25    male  majority               0-9y   university   \n",
              "4     731664  26-39    male  majority             10-19y         none   \n",
              "...      ...    ...     ...       ...                ...          ...   \n",
              "9995  323164  26-39  female  majority             10-19y   university   \n",
              "9996  910346  26-39  female  majority             10-19y         none   \n",
              "9997  468409  26-39    male  majority               0-9y  high school   \n",
              "9998  903459  26-39  female  majority             10-19y  high school   \n",
              "9999  442696  26-39  female  majority               0-9y         none   \n",
              "\n",
              "             INCOME  CREDIT_SCORE  VEHICLE_OWNERSHIP VEHICLE_YEAR  MARRIED  \\\n",
              "0       upper class      0.629027                1.0   after 2015      0.0   \n",
              "1           poverty      0.357757                0.0  before 2015      0.0   \n",
              "2     working class      0.493146                1.0  before 2015      0.0   \n",
              "3     working class      0.206013                1.0  before 2015      0.0   \n",
              "4     working class      0.388366                1.0  before 2015      0.0   \n",
              "...             ...           ...                ...          ...      ...   \n",
              "9995    upper class      0.582787                1.0  before 2015      0.0   \n",
              "9996   middle class      0.522231                1.0   after 2015      0.0   \n",
              "9997   middle class      0.470940                1.0  before 2015      0.0   \n",
              "9998        poverty      0.364185                0.0  before 2015      0.0   \n",
              "9999  working class      0.435225                1.0  before 2015      1.0   \n",
              "\n",
              "      CHILDREN  POSTAL_CODE  ANNUAL_MILEAGE VEHICLE_TYPE  SPEEDING_VIOLATIONS  \\\n",
              "0          1.0        10238         12000.0        sedan                    0   \n",
              "1          0.0        10238         16000.0        sedan                    0   \n",
              "2          0.0        10238         11000.0        sedan                    0   \n",
              "3          1.0        32765         11000.0        sedan                    0   \n",
              "4          0.0        32765         12000.0        sedan                    2   \n",
              "...        ...          ...             ...          ...                  ...   \n",
              "9995       0.0        10238         16000.0        sedan                    0   \n",
              "9996       1.0        32765             NaN        sedan                    1   \n",
              "9997       1.0        10238         14000.0        sedan                    0   \n",
              "9998       1.0        10238         13000.0        sedan                    2   \n",
              "9999       1.0        10238         13000.0        sedan                    0   \n",
              "\n",
              "      DUIS  PAST_ACCIDENTS  OUTCOME  \n",
              "0        0               0      0.0  \n",
              "1        0               0      1.0  \n",
              "2        0               0      0.0  \n",
              "3        0               0      0.0  \n",
              "4        0               1      1.0  \n",
              "...    ...             ...      ...  \n",
              "9995     0               1      0.0  \n",
              "9996     0               0      0.0  \n",
              "9997     0               0      0.0  \n",
              "9998     0               1      1.0  \n",
              "9999     0               0      0.0  \n",
              "\n",
              "[10000 rows x 19 columns]"
            ]
          },
          "execution_count": 43,
          "metadata": {},
          "output_type": "execute_result"
        }
      ],
      "source": [
        "# Descartar registros que não serão utilizados? - OK\n",
        "# Não foram removidos registros porque foi identificado que a base não possui dados inconsistente, e os registros que possuem dados nulos,\n",
        "# são de colunas que serão removidas posteriormente.\n",
        "dados"
      ]
    },
    {
      "cell_type": "code",
      "execution_count": 44,
      "metadata": {
        "colab": {
          "base_uri": "https://localhost:8080/",
          "height": 423
        },
        "id": "ip9FaIrv-4Jg",
        "outputId": "bd0d0f2a-b9f4-4b33-b684-f39d9476f62d"
      },
      "outputs": [
        {
          "data": {
            "text/html": [
              "<div>\n",
              "<style scoped>\n",
              "    .dataframe tbody tr th:only-of-type {\n",
              "        vertical-align: middle;\n",
              "    }\n",
              "\n",
              "    .dataframe tbody tr th {\n",
              "        vertical-align: top;\n",
              "    }\n",
              "\n",
              "    .dataframe thead th {\n",
              "        text-align: right;\n",
              "    }\n",
              "</style>\n",
              "<table border=\"1\" class=\"dataframe\">\n",
              "  <thead>\n",
              "    <tr style=\"text-align: right;\">\n",
              "      <th></th>\n",
              "      <th>AGE</th>\n",
              "      <th>GENDER</th>\n",
              "      <th>DRIVING_EXPERIENCE</th>\n",
              "      <th>EDUCATION</th>\n",
              "      <th>INCOME</th>\n",
              "      <th>VEHICLE_OWNERSHIP</th>\n",
              "      <th>VEHICLE_YEAR</th>\n",
              "      <th>MARRIED</th>\n",
              "      <th>CHILDREN</th>\n",
              "      <th>POSTAL_CODE</th>\n",
              "      <th>ANNUAL_MILEAGE</th>\n",
              "      <th>VEHICLE_TYPE</th>\n",
              "      <th>SPEEDING_VIOLATIONS</th>\n",
              "      <th>DUIS</th>\n",
              "      <th>PAST_ACCIDENTS</th>\n",
              "      <th>OUTCOME</th>\n",
              "    </tr>\n",
              "  </thead>\n",
              "  <tbody>\n",
              "    <tr>\n",
              "      <th>0</th>\n",
              "      <td>65+</td>\n",
              "      <td>female</td>\n",
              "      <td>0-9y</td>\n",
              "      <td>high school</td>\n",
              "      <td>upper class</td>\n",
              "      <td>1.0</td>\n",
              "      <td>after 2015</td>\n",
              "      <td>0.0</td>\n",
              "      <td>1.0</td>\n",
              "      <td>10238</td>\n",
              "      <td>12000.0</td>\n",
              "      <td>sedan</td>\n",
              "      <td>0</td>\n",
              "      <td>0</td>\n",
              "      <td>0</td>\n",
              "      <td>0.0</td>\n",
              "    </tr>\n",
              "    <tr>\n",
              "      <th>1</th>\n",
              "      <td>16-25</td>\n",
              "      <td>male</td>\n",
              "      <td>0-9y</td>\n",
              "      <td>none</td>\n",
              "      <td>poverty</td>\n",
              "      <td>0.0</td>\n",
              "      <td>before 2015</td>\n",
              "      <td>0.0</td>\n",
              "      <td>0.0</td>\n",
              "      <td>10238</td>\n",
              "      <td>16000.0</td>\n",
              "      <td>sedan</td>\n",
              "      <td>0</td>\n",
              "      <td>0</td>\n",
              "      <td>0</td>\n",
              "      <td>1.0</td>\n",
              "    </tr>\n",
              "    <tr>\n",
              "      <th>2</th>\n",
              "      <td>16-25</td>\n",
              "      <td>female</td>\n",
              "      <td>0-9y</td>\n",
              "      <td>high school</td>\n",
              "      <td>working class</td>\n",
              "      <td>1.0</td>\n",
              "      <td>before 2015</td>\n",
              "      <td>0.0</td>\n",
              "      <td>0.0</td>\n",
              "      <td>10238</td>\n",
              "      <td>11000.0</td>\n",
              "      <td>sedan</td>\n",
              "      <td>0</td>\n",
              "      <td>0</td>\n",
              "      <td>0</td>\n",
              "      <td>0.0</td>\n",
              "    </tr>\n",
              "    <tr>\n",
              "      <th>3</th>\n",
              "      <td>16-25</td>\n",
              "      <td>male</td>\n",
              "      <td>0-9y</td>\n",
              "      <td>university</td>\n",
              "      <td>working class</td>\n",
              "      <td>1.0</td>\n",
              "      <td>before 2015</td>\n",
              "      <td>0.0</td>\n",
              "      <td>1.0</td>\n",
              "      <td>32765</td>\n",
              "      <td>11000.0</td>\n",
              "      <td>sedan</td>\n",
              "      <td>0</td>\n",
              "      <td>0</td>\n",
              "      <td>0</td>\n",
              "      <td>0.0</td>\n",
              "    </tr>\n",
              "    <tr>\n",
              "      <th>4</th>\n",
              "      <td>26-39</td>\n",
              "      <td>male</td>\n",
              "      <td>10-19y</td>\n",
              "      <td>none</td>\n",
              "      <td>working class</td>\n",
              "      <td>1.0</td>\n",
              "      <td>before 2015</td>\n",
              "      <td>0.0</td>\n",
              "      <td>0.0</td>\n",
              "      <td>32765</td>\n",
              "      <td>12000.0</td>\n",
              "      <td>sedan</td>\n",
              "      <td>2</td>\n",
              "      <td>0</td>\n",
              "      <td>1</td>\n",
              "      <td>1.0</td>\n",
              "    </tr>\n",
              "    <tr>\n",
              "      <th>...</th>\n",
              "      <td>...</td>\n",
              "      <td>...</td>\n",
              "      <td>...</td>\n",
              "      <td>...</td>\n",
              "      <td>...</td>\n",
              "      <td>...</td>\n",
              "      <td>...</td>\n",
              "      <td>...</td>\n",
              "      <td>...</td>\n",
              "      <td>...</td>\n",
              "      <td>...</td>\n",
              "      <td>...</td>\n",
              "      <td>...</td>\n",
              "      <td>...</td>\n",
              "      <td>...</td>\n",
              "      <td>...</td>\n",
              "    </tr>\n",
              "    <tr>\n",
              "      <th>9995</th>\n",
              "      <td>26-39</td>\n",
              "      <td>female</td>\n",
              "      <td>10-19y</td>\n",
              "      <td>university</td>\n",
              "      <td>upper class</td>\n",
              "      <td>1.0</td>\n",
              "      <td>before 2015</td>\n",
              "      <td>0.0</td>\n",
              "      <td>0.0</td>\n",
              "      <td>10238</td>\n",
              "      <td>16000.0</td>\n",
              "      <td>sedan</td>\n",
              "      <td>0</td>\n",
              "      <td>0</td>\n",
              "      <td>1</td>\n",
              "      <td>0.0</td>\n",
              "    </tr>\n",
              "    <tr>\n",
              "      <th>9996</th>\n",
              "      <td>26-39</td>\n",
              "      <td>female</td>\n",
              "      <td>10-19y</td>\n",
              "      <td>none</td>\n",
              "      <td>middle class</td>\n",
              "      <td>1.0</td>\n",
              "      <td>after 2015</td>\n",
              "      <td>0.0</td>\n",
              "      <td>1.0</td>\n",
              "      <td>32765</td>\n",
              "      <td>NaN</td>\n",
              "      <td>sedan</td>\n",
              "      <td>1</td>\n",
              "      <td>0</td>\n",
              "      <td>0</td>\n",
              "      <td>0.0</td>\n",
              "    </tr>\n",
              "    <tr>\n",
              "      <th>9997</th>\n",
              "      <td>26-39</td>\n",
              "      <td>male</td>\n",
              "      <td>0-9y</td>\n",
              "      <td>high school</td>\n",
              "      <td>middle class</td>\n",
              "      <td>1.0</td>\n",
              "      <td>before 2015</td>\n",
              "      <td>0.0</td>\n",
              "      <td>1.0</td>\n",
              "      <td>10238</td>\n",
              "      <td>14000.0</td>\n",
              "      <td>sedan</td>\n",
              "      <td>0</td>\n",
              "      <td>0</td>\n",
              "      <td>0</td>\n",
              "      <td>0.0</td>\n",
              "    </tr>\n",
              "    <tr>\n",
              "      <th>9998</th>\n",
              "      <td>26-39</td>\n",
              "      <td>female</td>\n",
              "      <td>10-19y</td>\n",
              "      <td>high school</td>\n",
              "      <td>poverty</td>\n",
              "      <td>0.0</td>\n",
              "      <td>before 2015</td>\n",
              "      <td>0.0</td>\n",
              "      <td>1.0</td>\n",
              "      <td>10238</td>\n",
              "      <td>13000.0</td>\n",
              "      <td>sedan</td>\n",
              "      <td>2</td>\n",
              "      <td>0</td>\n",
              "      <td>1</td>\n",
              "      <td>1.0</td>\n",
              "    </tr>\n",
              "    <tr>\n",
              "      <th>9999</th>\n",
              "      <td>26-39</td>\n",
              "      <td>female</td>\n",
              "      <td>0-9y</td>\n",
              "      <td>none</td>\n",
              "      <td>working class</td>\n",
              "      <td>1.0</td>\n",
              "      <td>before 2015</td>\n",
              "      <td>1.0</td>\n",
              "      <td>1.0</td>\n",
              "      <td>10238</td>\n",
              "      <td>13000.0</td>\n",
              "      <td>sedan</td>\n",
              "      <td>0</td>\n",
              "      <td>0</td>\n",
              "      <td>0</td>\n",
              "      <td>0.0</td>\n",
              "    </tr>\n",
              "  </tbody>\n",
              "</table>\n",
              "<p>10000 rows × 16 columns</p>\n",
              "</div>"
            ],
            "text/plain": [
              "        AGE  GENDER DRIVING_EXPERIENCE    EDUCATION         INCOME  \\\n",
              "0       65+  female               0-9y  high school    upper class   \n",
              "1     16-25    male               0-9y         none        poverty   \n",
              "2     16-25  female               0-9y  high school  working class   \n",
              "3     16-25    male               0-9y   university  working class   \n",
              "4     26-39    male             10-19y         none  working class   \n",
              "...     ...     ...                ...          ...            ...   \n",
              "9995  26-39  female             10-19y   university    upper class   \n",
              "9996  26-39  female             10-19y         none   middle class   \n",
              "9997  26-39    male               0-9y  high school   middle class   \n",
              "9998  26-39  female             10-19y  high school        poverty   \n",
              "9999  26-39  female               0-9y         none  working class   \n",
              "\n",
              "      VEHICLE_OWNERSHIP VEHICLE_YEAR  MARRIED  CHILDREN  POSTAL_CODE  \\\n",
              "0                   1.0   after 2015      0.0       1.0        10238   \n",
              "1                   0.0  before 2015      0.0       0.0        10238   \n",
              "2                   1.0  before 2015      0.0       0.0        10238   \n",
              "3                   1.0  before 2015      0.0       1.0        32765   \n",
              "4                   1.0  before 2015      0.0       0.0        32765   \n",
              "...                 ...          ...      ...       ...          ...   \n",
              "9995                1.0  before 2015      0.0       0.0        10238   \n",
              "9996                1.0   after 2015      0.0       1.0        32765   \n",
              "9997                1.0  before 2015      0.0       1.0        10238   \n",
              "9998                0.0  before 2015      0.0       1.0        10238   \n",
              "9999                1.0  before 2015      1.0       1.0        10238   \n",
              "\n",
              "      ANNUAL_MILEAGE VEHICLE_TYPE  SPEEDING_VIOLATIONS  DUIS  PAST_ACCIDENTS  \\\n",
              "0            12000.0        sedan                    0     0               0   \n",
              "1            16000.0        sedan                    0     0               0   \n",
              "2            11000.0        sedan                    0     0               0   \n",
              "3            11000.0        sedan                    0     0               0   \n",
              "4            12000.0        sedan                    2     0               1   \n",
              "...              ...          ...                  ...   ...             ...   \n",
              "9995         16000.0        sedan                    0     0               1   \n",
              "9996             NaN        sedan                    1     0               0   \n",
              "9997         14000.0        sedan                    0     0               0   \n",
              "9998         13000.0        sedan                    2     0               1   \n",
              "9999         13000.0        sedan                    0     0               0   \n",
              "\n",
              "      OUTCOME  \n",
              "0         0.0  \n",
              "1         1.0  \n",
              "2         0.0  \n",
              "3         0.0  \n",
              "4         1.0  \n",
              "...       ...  \n",
              "9995      0.0  \n",
              "9996      0.0  \n",
              "9997      0.0  \n",
              "9998      1.0  \n",
              "9999      0.0  \n",
              "\n",
              "[10000 rows x 16 columns]"
            ]
          },
          "execution_count": 44,
          "metadata": {},
          "output_type": "execute_result"
        }
      ],
      "source": [
        "# Descartar atributos irrelevantes definidos no entendimento dos dados - OK\n",
        "dados = dados.drop(columns=['CREDIT_SCORE', 'RACE', 'ID'])\n",
        "dados"
      ]
    },
    {
      "cell_type": "code",
      "execution_count": 45,
      "metadata": {
        "colab": {
          "base_uri": "https://localhost:8080/",
          "height": 633
        },
        "id": "2R0uS9MGAahS",
        "outputId": "88b2f88b-a527-476d-8bcc-8277982eb155"
      },
      "outputs": [
        {
          "data": {
            "image/png": "[encoded data removed]",
            "text/plain": [
              "<Figure size 640x480 with 1 Axes>"
            ]
          },
          "metadata": {},
          "output_type": "display_data"
        }
      ],
      "source": [
        "# Preencher dados ausentes (missing values), de acordo com alguma estratégia - OK\n",
        "\n",
        "# Substituindo os valores nulos pela média\n",
        "dados[\"ANNUAL_MILEAGE_NORM\"] = dados[\"ANNUAL_MILEAGE\"].apply(lambda x: dados[\"ANNUAL_MILEAGE\"].mean() if np.isnan(x) else x) \n",
        "\n",
        "nulos_pre_tratamento = dados.isna().sum(axis=0)\n",
        "plt.figure()\n",
        "nulos_pre_tratamento.plot(kind='bar')\n",
        "plt.ylabel('Quantidade de Linhas em Branco')\n",
        "plt.xlabel('Atributos')\n",
        "plt.title('Linhas em Branco antes de preencher')\n",
        "plt.show()"
      ]
    },
    {
      "cell_type": "code",
      "execution_count": 46,
      "metadata": {
        "colab": {
          "base_uri": "https://localhost:8080/",
          "height": 1000
        },
        "id": "h0Slt1RLAF4f",
        "outputId": "bc1e30d7-0439-4bb6-8112-ea6e92dd4967"
      },
      "outputs": [
        {
          "data": {
            "image/png": "[encoded data removed]",
            "text/plain": [
              "<Figure size 640x480 with 1 Axes>"
            ]
          },
          "metadata": {},
          "output_type": "display_data"
        },
        {
          "data": {
            "image/png": "[encoded data removed]",
            "text/plain": [
              "<Figure size 640x480 with 1 Axes>"
            ]
          },
          "metadata": {},
          "output_type": "display_data"
        },
        {
          "data": {
            "image/png": "[encoded data removed]",
            "text/plain": [
              "<Figure size 640x480 with 1 Axes>"
            ]
          },
          "metadata": {},
          "output_type": "display_data"
        },
        {
          "data": {
            "image/png": "[encoded data removed]",
            "text/plain": [
              "<Figure size 640x480 with 1 Axes>"
            ]
          },
          "metadata": {},
          "output_type": "display_data"
        },
        {
          "data": {
            "image/png": "[encoded data removed]",
            "text/plain": [
              "<Figure size 640x480 with 1 Axes>"
            ]
          },
          "metadata": {},
          "output_type": "display_data"
        },
        {
          "data": {
            "image/png": "[encoded data removed]",
            "text/plain": [
              "<Figure size 640x480 with 1 Axes>"
            ]
          },
          "metadata": {},
          "output_type": "display_data"
        },
        {
          "data": {
            "image/png": "[encoded data removed]",
            "text/plain": [
              "<Figure size 640x480 with 1 Axes>"
            ]
          },
          "metadata": {},
          "output_type": "display_data"
        },
        {
          "data": {
            "image/png": "[encoded data removed]",
            "text/plain": [
              "<Figure size 640x480 with 1 Axes>"
            ]
          },
          "metadata": {},
          "output_type": "display_data"
        }
      ],
      "source": [
        "# Tratar dados que podem estar errados e outliers - OK\n",
        "def duis_encoder(x):\n",
        "    if (x == 0):\n",
        "        return 0\n",
        "    else:\n",
        "        return 1\n",
        "\n",
        "def speeding_violation_encoder(x):\n",
        "    if (x == 0):\n",
        "        return 0\n",
        "    else:\n",
        "        return 1\n",
        "\n",
        "def past_accidents_encoder(x):\n",
        "    if (x == 0):\n",
        "        return 0\n",
        "    else:\n",
        "        return 1\n",
        "\n",
        "dados[\"DUIS_CATEGORY\"] = dados[\"DUIS\"].apply(duis_encoder)\n",
        "dados[\"SPEEDING_VIOLATIONS_CATEGORY\"] = dados[\"SPEEDING_VIOLATIONS\"].apply(speeding_violation_encoder)\n",
        "dados[\"PAST_ACCIDENTS_CATEGORY\"] = dados[\"PAST_ACCIDENTS\"].apply(past_accidents_encoder)\n",
        "\n",
        "\n",
        "colunas_invalidas = [\"GENDER\", \"AGE\", \"EDUCATION\", \"DRIVING_EXPERIENCE\", \"INCOME\", \"VEHICLE_YEAR\", \"VEHICLE_TYPE\", \"VEHICLE_OWNERSHIP\", \"MARRIED\" ,\"CHILDREN\", \"OUTCOME\", \\\n",
        "                     \"POSTAL_CODE\"]\n",
        "\n",
        "\n",
        "#substituindo outliers pelo valor máximo e mínimo de uma coluna\n",
        "def remove_outlier(nome_coluna):\n",
        "  Q1 = dados[nome_coluna].quantile(0.25)\n",
        "  Q3 = dados[nome_coluna].quantile(0.75)\n",
        "  # substituir os valores menores que o máximo \n",
        "  dados[nome_coluna] = dados[nome_coluna].apply(lambda x: Q1 if x < Q1 else x) # mínimo\n",
        "\n",
        "  # substituir idade maior que 76 por 76\n",
        "  dados[nome_coluna] = dados[nome_coluna].apply(lambda x: Q3 if x > Q3 else x) # máximo\n",
        "\n",
        "\n",
        "# Removendo Outliers da coluna ANNUAL_MILEAGE_NORM\n",
        "remove_outlier(\"ANNUAL_MILEAGE_NORM\")\n",
        "\n",
        "#Printar Boxplot de cada coluna\n",
        "for coluna in dados.columns:\n",
        "\n",
        "  if(coluna not in colunas_invalidas):\n",
        "    dados[coluna].plot.box(color='blue', vert=False, grid=True)\n",
        "    plt.title(coluna)\n",
        "    plt.show()\n"
      ]
    },
    {
      "cell_type": "code",
      "execution_count": 47,
      "metadata": {
        "id": "Qm0BLtX_A1e1"
      },
      "outputs": [],
      "source": [
        "# Criar novos atributos a partir dos existentes, caso seja necessário - OK\n",
        "# não será criado!!!!\n",
        "\n",
        "# removendo atributos já convertidos\n"
      ]
    },
    {
      "cell_type": "code",
      "execution_count": 48,
      "metadata": {
        "id": "SWfPIZ0hBIQ6"
      },
      "outputs": [],
      "source": [
        "# Transformar atributos qualitativos em quantitativos (dummies) - OK\n",
        "\n",
        "def age_encoder(x):\n",
        "    if (x == \"65+\"):\n",
        "        return 3\n",
        "    elif (x == \"40-64\"):\n",
        "        return 2\n",
        "    elif (x == \"26-39\"):\n",
        "        return 1\n",
        "    else:\n",
        "        return 0\n",
        "    \n",
        "\n",
        "def gender_encoder(x):\n",
        "    if (x == \"male\"):\n",
        "        return 0\n",
        "    elif (x == \"female\"):\n",
        "        return 1\n",
        "    \n",
        "\n",
        "def race_encoder(x):\n",
        "    if (x == \"majority\"):\n",
        "        return 0\n",
        "    elif (x == \"minority\"):\n",
        "        return 1\n",
        "\n",
        "\n",
        "def driving_experience_encoder(x):\n",
        "    if (x == \"0-9y\"):\n",
        "        return 0\n",
        "    elif (x == \"10-19y\"):\n",
        "        return 1\n",
        "    elif (x == \"20-29y\"):\n",
        "        return 2\n",
        "    else:\n",
        "        return 3\n",
        "\n",
        "def education_encoder(x):\n",
        "    if (x == \"high school\"):\n",
        "        return 0\n",
        "    elif (x == \"none\"):\n",
        "        return 1\n",
        "    else:\n",
        "        return 2\n",
        "\n",
        "def income_encoder(x):\n",
        "    if (x == \"upper class\"):\n",
        "        return 0\n",
        "    elif (x == \"poverty\"):\n",
        "        return 1\n",
        "    elif (x == \"working class\"):\n",
        "        return 2\n",
        "    else:\n",
        "        return 3\n",
        "\n",
        "def vehicle_year_encoder(x):\n",
        "    if (x == \"after 2015\"):\n",
        "        return 0\n",
        "    else:\n",
        "        return 1\n",
        "\n",
        "def vehicle_type_encoder(x):\n",
        "    if (x == \"sedan\"):\n",
        "        return 0\n",
        "    else:\n",
        "        return 1        \n",
        "\n",
        "dados = dados.loc[: , dados.columns != 'ID']\n",
        "dados[\"AGE_CATEGORY\"] = dados[\"AGE\"].apply(age_encoder)\n",
        "dados[\"GENDER_CATEGORY\"] = dados[\"GENDER\"].apply(gender_encoder)\n",
        "dados[\"DRIVING_EXPERIENCE_CATEGORY\"] = dados[\"DRIVING_EXPERIENCE\"].apply(driving_experience_encoder)\n",
        "dados[\"EDUCATION_CATEGORY\"] = dados[\"EDUCATION\"].apply(education_encoder)\n",
        "dados[\"INCOME_CATEGORY\"] = dados[\"INCOME\"].apply(income_encoder)\n",
        "dados[\"VEHICLE_YEAR_CATEGORY\"] = dados[\"VEHICLE_YEAR\"].apply(vehicle_year_encoder)\n",
        "dados[\"VEHICLE_TYPE_CATEGORY\"] = dados[\"VEHICLE_TYPE\"].apply(vehicle_type_encoder)"
      ]
    },
    {
      "cell_type": "code",
      "execution_count": 49,
      "metadata": {
        "colab": {
          "base_uri": "https://localhost:8080/"
        },
        "id": "MUDH6P_dT8r4",
        "outputId": "5f79a4e2-11d8-490b-dd11-95c6e409b46a"
      },
      "outputs": [
        {
          "data": {
            "text/plain": [
              "AGE                              object\n",
              "GENDER                           object\n",
              "DRIVING_EXPERIENCE               object\n",
              "EDUCATION                        object\n",
              "INCOME                           object\n",
              "VEHICLE_OWNERSHIP               float64\n",
              "VEHICLE_YEAR                     object\n",
              "MARRIED                         float64\n",
              "CHILDREN                        float64\n",
              "POSTAL_CODE                       int64\n",
              "ANNUAL_MILEAGE                  float64\n",
              "VEHICLE_TYPE                     object\n",
              "SPEEDING_VIOLATIONS               int64\n",
              "DUIS                              int64\n",
              "PAST_ACCIDENTS                    int64\n",
              "OUTCOME                         float64\n",
              "ANNUAL_MILEAGE_NORM             float64\n",
              "DUIS_CATEGORY                     int64\n",
              "SPEEDING_VIOLATIONS_CATEGORY      int64\n",
              "PAST_ACCIDENTS_CATEGORY           int64\n",
              "AGE_CATEGORY                      int64\n",
              "GENDER_CATEGORY                   int64\n",
              "DRIVING_EXPERIENCE_CATEGORY       int64\n",
              "EDUCATION_CATEGORY                int64\n",
              "INCOME_CATEGORY                   int64\n",
              "VEHICLE_YEAR_CATEGORY             int64\n",
              "VEHICLE_TYPE_CATEGORY             int64\n",
              "dtype: object"
            ]
          },
          "execution_count": 49,
          "metadata": {},
          "output_type": "execute_result"
        }
      ],
      "source": [
        "dados.dtypes"
      ]
    },
    {
      "cell_type": "code",
      "execution_count": 50,
      "metadata": {
        "id": "1gqc7jaKA5u8"
      },
      "outputs": [],
      "source": [
        "# Normalizar atributos quantitativos\n",
        "\n",
        "# foi identificado que a única coluna possivel de normalização é o ANNUAL_MILEAGE_NORM\n",
        "\n",
        "def normalizado_colunas_quantitativas(nome_coluna):\n",
        "  Q1 = dados[nome_coluna].quantile(0.25)\n",
        "  Q3 = dados[nome_coluna].quantile(0.75)\n",
        "  # normalizando os dados entre 0 e 1\n",
        "  dados[nome_coluna] = dados[nome_coluna].apply(lambda x: (x-Q1)/(Q3-Q1))\n",
        "\n",
        "normalizado_colunas_quantitativas(\"ANNUAL_MILEAGE_NORM\")"
      ]
    },
    {
      "cell_type": "code",
      "execution_count": 51,
      "metadata": {
        "id": "ZU8qHu0k_5ts"
      },
      "outputs": [],
      "source": [
        "# Transforma o atributo Tamanho em dummies\n",
        "dummies = pd.get_dummies(dados[\"AGE_CATEGORY\"], prefix=\"AGE_CATEGORY\")\n",
        "\n",
        "# Concatena os dummies com o DataFrame original\n",
        "dados = pd.concat([dados, dummies], axis=1)"
      ]
    },
    {
      "cell_type": "code",
      "execution_count": 52,
      "metadata": {
        "id": "wUw_ubaqCdh8"
      },
      "outputs": [],
      "source": [
        "# Transforma o atributo Tamanho em dummies\n",
        "dummies = pd.get_dummies(dados[\"DRIVING_EXPERIENCE_CATEGORY\"], prefix=\"DRIVING_EXPERIENCE_CATEGORY\")\n",
        "\n",
        "# Concatena os dummies com o DataFrame original\n",
        "dados = pd.concat([dados, dummies], axis=1)"
      ]
    },
    {
      "cell_type": "code",
      "execution_count": 53,
      "metadata": {
        "id": "TneOzTU9ChX9"
      },
      "outputs": [],
      "source": [
        "# Transforma o atributo Tamanho em dummies\n",
        "dummies = pd.get_dummies(dados[\"INCOME_CATEGORY\"], prefix=\"INCOME_CATEGORY\")\n",
        "\n",
        "# Concatena os dummies com o DataFrame original\n",
        "dados = pd.concat([dados, dummies], axis=1)"
      ]
    },
    {
      "cell_type": "code",
      "execution_count": 54,
      "metadata": {
        "id": "LF84pr3fC0yy"
      },
      "outputs": [],
      "source": [
        "# Transforma o atributo Tamanho em dummies\n",
        "dummies = pd.get_dummies(dados[\"EDUCATION_CATEGORY\"], prefix=\"EDUCATION_CATEGORY\")\n",
        "\n",
        "# Concatena os dummies com o DataFrame original\n",
        "dados = pd.concat([dados, dummies], axis=1)"
      ]
    },
    {
      "cell_type": "code",
      "execution_count": 55,
      "metadata": {
        "id": "Q5fkwyMKCTa8"
      },
      "outputs": [],
      "source": [
        "dados = dados.drop(columns=['DRIVING_EXPERIENCE_CATEGORY', 'INCOME_CATEGORY', 'EDUCATION_CATEGORY', 'AGE_CATEGORY'])"
      ]
    },
    {
      "cell_type": "code",
      "execution_count": 56,
      "metadata": {
        "colab": {
          "base_uri": "https://localhost:8080/"
        },
        "id": "sDdvFL3rBJUW",
        "outputId": "366fe3b6-2838-4266-e6bf-d6fd9c16cfcf"
      },
      "outputs": [
        {
          "data": {
            "text/plain": [
              "0       0.666667\n",
              "1       1.000000\n",
              "2       0.333333\n",
              "3       0.333333\n",
              "4       0.666667\n",
              "          ...   \n",
              "9995    1.000000\n",
              "9996    0.565668\n",
              "9997    1.000000\n",
              "9998    1.000000\n",
              "9999    1.000000\n",
              "Name: ANNUAL_MILEAGE_NORM, Length: 10000, dtype: float64"
            ]
          },
          "execution_count": 56,
          "metadata": {},
          "output_type": "execute_result"
        }
      ],
      "source": [
        "# Transformar o alvo, caso seja necessário (normalizar ou transformar as categorias em números) - OK\n",
        "dados.ANNUAL_MILEAGE_NORM"
      ]
    },
    {
      "cell_type": "code",
      "execution_count": 57,
      "metadata": {
        "colab": {
          "base_uri": "https://localhost:8080/"
        },
        "id": "UoizaendBM_U",
        "outputId": "077e79c2-5b4d-4ecf-a7af-4c37a892b0ff"
      },
      "outputs": [
        {
          "name": "stdout",
          "output_type": "stream",
          "text": [
            "['AGE', 'GENDER', 'DRIVING_EXPERIENCE', 'EDUCATION', 'INCOME', 'VEHICLE_OWNERSHIP', 'VEHICLE_YEAR', 'MARRIED', 'CHILDREN', 'POSTAL_CODE', 'ANNUAL_MILEAGE', 'VEHICLE_TYPE', 'SPEEDING_VIOLATIONS', 'DUIS', 'PAST_ACCIDENTS', 'OUTCOME', 'ANNUAL_MILEAGE_NORM', 'DUIS_CATEGORY', 'SPEEDING_VIOLATIONS_CATEGORY', 'PAST_ACCIDENTS_CATEGORY', 'GENDER_CATEGORY', 'VEHICLE_YEAR_CATEGORY', 'VEHICLE_TYPE_CATEGORY', 'AGE_CATEGORY_0', 'AGE_CATEGORY_1', 'AGE_CATEGORY_2', 'AGE_CATEGORY_3', 'DRIVING_EXPERIENCE_CATEGORY_0', 'DRIVING_EXPERIENCE_CATEGORY_1', 'DRIVING_EXPERIENCE_CATEGORY_2', 'DRIVING_EXPERIENCE_CATEGORY_3', 'INCOME_CATEGORY_0', 'INCOME_CATEGORY_1', 'INCOME_CATEGORY_2', 'INCOME_CATEGORY_3', 'EDUCATION_CATEGORY_0', 'EDUCATION_CATEGORY_1', 'EDUCATION_CATEGORY_2']\n"
          ]
        }
      ],
      "source": [
        "# Crie dois conjuntos: 70% para treinamento e 30% para testes\n",
        "\n",
        "# atributos\n",
        "colunas = list(dados.columns)\n",
        "print(colunas)\n",
        "# indice ddados.columnso alvo\n",
        "idx_alvo = colunas.index('OUTCOME')\n",
        "# selecionar atributos depois do alvo - atributos preparados anteriormente\n",
        "X = dados.iloc[:, idx_alvo+1:]\n",
        "# selecionar ALVO\n",
        "y = dados['OUTCOME']\n",
        "\n",
        "# separação treinamento e testes\n",
        "from sklearn.model_selection import train_test_split\n",
        "X_train, X_test, y_train, y_test = train_test_split(X, y, test_size = 0.30, random_state = 88, stratify=y)\n"
      ]
    },
    {
      "cell_type": "code",
      "execution_count": 58,
      "metadata": {
        "colab": {
          "base_uri": "https://localhost:8080/"
        },
        "id": "ZcnzWZyXUdaR",
        "outputId": "f0e61756-a74e-4b26-9435-05e76a62b536"
      },
      "outputs": [
        {
          "data": {
            "text/plain": [
              "ANNUAL_MILEAGE_NORM              float64\n",
              "DUIS_CATEGORY                      int64\n",
              "SPEEDING_VIOLATIONS_CATEGORY       int64\n",
              "PAST_ACCIDENTS_CATEGORY            int64\n",
              "GENDER_CATEGORY                    int64\n",
              "VEHICLE_YEAR_CATEGORY              int64\n",
              "VEHICLE_TYPE_CATEGORY              int64\n",
              "AGE_CATEGORY_0                     uint8\n",
              "AGE_CATEGORY_1                     uint8\n",
              "AGE_CATEGORY_2                     uint8\n",
              "AGE_CATEGORY_3                     uint8\n",
              "DRIVING_EXPERIENCE_CATEGORY_0      uint8\n",
              "DRIVING_EXPERIENCE_CATEGORY_1      uint8\n",
              "DRIVING_EXPERIENCE_CATEGORY_2      uint8\n",
              "DRIVING_EXPERIENCE_CATEGORY_3      uint8\n",
              "INCOME_CATEGORY_0                  uint8\n",
              "INCOME_CATEGORY_1                  uint8\n",
              "INCOME_CATEGORY_2                  uint8\n",
              "INCOME_CATEGORY_3                  uint8\n",
              "EDUCATION_CATEGORY_0               uint8\n",
              "EDUCATION_CATEGORY_1               uint8\n",
              "EDUCATION_CATEGORY_2               uint8\n",
              "dtype: object"
            ]
          },
          "execution_count": 58,
          "metadata": {},
          "output_type": "execute_result"
        }
      ],
      "source": [
        "X_train.dtypes"
      ]
    },
    {
      "cell_type": "code",
      "execution_count": 59,
      "metadata": {
        "id": "_NdcrTVZBqd3"
      },
      "outputs": [],
      "source": [
        "# Usar dois algoritmos de seleção de atributos no conjunto de treinamento para gerar 4 bases com quantidades de atributos diferentes\n",
        "\n",
        "#Metodo 1 - RFE\n",
        "from sklearn.linear_model import LogisticRegression\n",
        "from sklearn.feature_selection import RFE\n",
        "\n",
        "model = LogisticRegression()\n",
        "selected = RFE(model, step=1, n_features_to_select=5).fit(X_train, y_train)\n",
        "colunas_selecionadas = [X_train.columns[i] for i, c in enumerate(selected.support_) if c]\n",
        "\n",
        "X_train2_RFE, X_test2_RFE = X_train[colunas_selecionadas], X_test[colunas_selecionadas]\n",
        "\n",
        "# Metodo 2 - SelectKBest\n",
        "from sklearn.feature_selection import SelectKBest, chi2\n",
        "selected = SelectKBest(chi2, k=5).fit(X_train, y_train)\n",
        "X_train2_Kbest, X_test2_Kbest = X_train[selected.get_feature_names_out()], X_test[selected.get_feature_names_out()]\n"
      ]
    },
    {
      "cell_type": "code",
      "execution_count": 60,
      "metadata": {
        "id": "Mfm1mN5rBtga"
      },
      "outputs": [],
      "source": [
        "# # Caso o o atributo alvo esteja desbalanceado, use alguma estratégia de oversampling ou undersampling no conjunto de treinamento para gerar a base de treinamento final\n",
        "\n",
        "# X_train['OUTCOME'] = y_train\n",
        "# X_test['OUTCOME'] = y_test\n",
        "\n",
        "# # realizando balancemaneto da base de treinamento\n",
        "# valor_0,valor_1 = X_train.OUTCOME.value_counts()\n",
        "# c3 = X_train[X_train['OUTCOME'] == 0 ]\n",
        "# c1 = X_train[X_train['OUTCOME'] == 1]\n",
        "# df_3 = c3.sample(valor_1)\n",
        "# X_train = pd.concat([df_3,c1],axis=0)"
      ]
    },
    {
      "cell_type": "code",
      "execution_count": 61,
      "metadata": {
        "id": "PwjpsIkpelY8"
      },
      "outputs": [],
      "source": [
        "# # salvar conjuntos\n",
        "\n",
        "# X_train.to_csv('/content/drive/MyDrive/exodia-impacta/7 Semestre/Machine Learning/Hydra/AC03/Car_Insurance_Claim_train.csv', index=False)\n",
        "# X_test.to_csv('/content/drive/MyDrive/exodia-impacta/7 Semestre/Machine Learning/Hydra/AC03/Car_Insurance_Claim_teste.csv', index=False)"
      ]
    },
    {
      "attachments": {},
      "cell_type": "markdown",
      "metadata": {
        "id": "C9WDlZF7Oue0"
      },
      "source": [
        "# Atividade Continua 04"
      ]
    },
    {
      "attachments": {},
      "cell_type": "markdown",
      "metadata": {
        "id": "sEfHHtXUOue6"
      },
      "source": [
        "### Linear Regression"
      ]
    },
    {
      "cell_type": "code",
      "execution_count": 62,
      "metadata": {
        "id": "3f9xhiE5Oue6"
      },
      "outputs": [],
      "source": [
        "from sklearn.linear_model import LinearRegression\n",
        "# criando um objeto LinearRegression\n",
        "model = LinearRegression()\n",
        "\n",
        "# treinando o modelo com o conjunto de treinamento\n",
        "model.fit(X_train, y_train)\n",
        "\n",
        "# fazendo previsões com o conjunto de teste\n",
        "y_pred = model.predict(X_test)"
      ]
    },
    {
      "cell_type": "code",
      "execution_count": 63,
      "metadata": {
        "id": "xKWXOQIfOue6"
      },
      "outputs": [],
      "source": [
        "from sklearn.metrics import mean_absolute_error, mean_squared_error, r2_score, mean_absolute_percentage_error\n",
        "\n",
        "mae = mean_absolute_error(y_test, y_pred)\n",
        "mse = mean_squared_error(y_test, y_pred)\n",
        "rmse = np.sqrt(mse)\n",
        "r2 = r2_score(y_test, y_pred)\n",
        "mape = mean_absolute_percentage_error(y_test, y_pred)"
      ]
    },
    {
      "cell_type": "code",
      "execution_count": 64,
      "metadata": {
        "colab": {
          "base_uri": "https://localhost:8080/"
        },
        "id": "QmXnn99BOue6",
        "outputId": "427c7f97-8dfa-43ab-a7c3-2a83cd780e41"
      },
      "outputs": [
        {
          "name": "stdout",
          "output_type": "stream",
          "text": [
            "mae: 0.28875162760416667\n",
            "mse: 0.13452018197377522\n",
            "rmse: 0.36676993057470675\n",
            "r2: 0.37477709266475057\n",
            "mape: 689461227328722.2\n"
          ]
        }
      ],
      "source": [
        "print(f\"mae: {mae}\")\n",
        "print(f\"mse: {mse}\")\n",
        "print(f\"rmse: {rmse}\")\n",
        "print(f\"r2: {r2}\")\n",
        "print(f\"mape: {mape}\")"
      ]
    },
    {
      "attachments": {},
      "cell_type": "markdown",
      "metadata": {
        "id": "Qw-3SKU1Oue6"
      },
      "source": [
        "Com base nos resultados apresentados, podemos concluir o seguinte:\n",
        "\n",
        "O valor do MAE indica que o modelo, em média, tem um erro absoluto de 0,288. Isso significa que, em média, as previsões estão a cerca de 0,288 unidades de distância dos valores reais.\n",
        "\n",
        "O valor do MSE é 0,134, o que indica que o modelo tem um erro quadrático médio relativamente baixo.\n",
        "\n",
        "O RMSE é 0,367, o que indica que o modelo tem um erro médio de cerca de 0,367 unidades.\n",
        "\n",
        "O valor do R2 é 0,375, o que indica que o modelo explica cerca de 37,5% da variação nos dados de saída.\n",
        "\n",
        "O valor do MAPE é extremamente alto, indicando que o modelo não é bom em fazer previsões precisas e não é recomendado para uso prático. O MAPE de 690463981933254.0 sugere que as previsões estão fora de proporção em relação aos valores reais. Isso pode ser um indicativo de que o modelo precisa de mais dados para treinamento ou que o modelo não é adequado para o conjunto de dados em questão.\n",
        "\n",
        "Portanto, embora o modelo pareça ter um desempenho razoável em termos de MSE, RMSE e R2, o MAPE indica que ele não é preciso o suficiente para ser usado na prática."
      ]
    },
    {
      "attachments": {},
      "cell_type": "markdown",
      "metadata": {
        "id": "IXlKfj63Oue7"
      },
      "source": [
        "### KNN - KNeighborsClassifier"
      ]
    },
    {
      "cell_type": "code",
      "execution_count": 65,
      "metadata": {
        "colab": {
          "base_uri": "https://localhost:8080/"
        },
        "id": "haTkw-WPOue7",
        "outputId": "d364746a-37d6-4cdf-e253-1e23c524c535"
      },
      "outputs": [
        {
          "name": "stdout",
          "output_type": "stream",
          "text": [
            "Acurácia: 0.807\n",
            "Matriz de confusão:\n",
            " [[1835  225]\n",
            " [ 354  586]]\n",
            "Precisão: 0.7225647348951911\n",
            "Revocação: 0.6234042553191489\n"
          ]
        }
      ],
      "source": [
        "from sklearn.neighbors import KNeighborsClassifier\n",
        "from sklearn.metrics import accuracy_score, confusion_matrix, precision_score, recall_score\n",
        "\n",
        "knn = KNeighborsClassifier(n_neighbors=10)\n",
        "knn.fit(X_train, y_train)\n",
        "y_pred = knn.predict(X_test)\n",
        "\n",
        "\n",
        "print(\"Acurácia:\", accuracy_score(y_test, y_pred))\n",
        "print(\"Matriz de confusão:\\n\", confusion_matrix(y_test, y_pred))\n",
        "print(\"Precisão:\", precision_score(y_test, y_pred))\n",
        "print(\"Revocação:\", recall_score(y_test, y_pred))"
      ]
    },
    {
      "attachments": {},
      "cell_type": "markdown",
      "metadata": {
        "id": "EZ00h_-nOue7"
      },
      "source": [
        "Esses resultados indicam que o modelo teve uma acurácia de 80,83%, o que significa que ele classificou corretamente 80,83% de todas as amostras. A matriz de confusão mostra que o modelo classificou corretamente 1837 amostras como verdadeiras positivas (TP) e 588 amostras como verdadeiras negativas (TN), mas errou em 223 amostras, classificando-as como falsas negativas (FN) e em 352 amostras, classificando-as como falsas positivas (FP).\n",
        "\n",
        "A precisão do modelo foi calculada em 72,50%, o que indica que, das amostras classificadas como positivas pelo modelo, 72,50% foram realmente positivas e 27,50% foram classificadas incorretamente como positivas. A revocação, por outro lado, foi de 62,55%, o que indica que o modelo foi capaz de detectar 62,55% de todas as amostras positivas.\n",
        "\n",
        "Em geral, esses resultados indicam que o modelo teve um desempenho razoavelmente bom, mas ainda há espaço para melhorias. Uma precisão mais alta seria desejável para reduzir o número de falsos positivos e uma revocação mais alta para reduzir o número de falsos negativos. Além disso, a análise adicional das amostras classificadas incorretamente pode fornecer insights úteis para aprimorar o modelo."
      ]
    },
    {
      "attachments": {},
      "cell_type": "markdown",
      "metadata": {
        "id": "M10aqiM7Oue7"
      },
      "source": [
        "### Naive Byes"
      ]
    },
    {
      "cell_type": "code",
      "execution_count": 66,
      "metadata": {
        "colab": {
          "base_uri": "https://localhost:8080/"
        },
        "id": "15ycNHdjOue7",
        "outputId": "89f711a8-1297-4437-972a-bd5b6b7aea4e"
      },
      "outputs": [
        {
          "name": "stdout",
          "output_type": "stream",
          "text": [
            "Acurácia: 0.7693333333333333\n",
            "Matriz de confusão:\n",
            " [[1558  502]\n",
            " [ 190  750]]\n",
            "Precisão: 0.5990415335463258\n",
            "Revocação: 0.7978723404255319\n"
          ]
        }
      ],
      "source": [
        "from sklearn.naive_bayes import GaussianNB\n",
        "from sklearn.metrics import accuracy_score, confusion_matrix, precision_score, recall_score\n",
        "\n",
        "\n",
        "model = GaussianNB()\n",
        "model.fit(X_train, y_train)\n",
        "y_pred = model.predict(X_test)\n",
        "\n",
        "\n",
        "print(\"Acurácia:\", accuracy_score(y_test, y_pred))\n",
        "print(\"Matriz de confusão:\\n\", confusion_matrix(y_test, y_pred))\n",
        "print(\"Precisão:\", precision_score(y_test, y_pred))\n",
        "print(\"Revocação:\", recall_score(y_test, y_pred))\n"
      ]
    },
    {
      "attachments": {},
      "cell_type": "markdown",
      "metadata": {
        "id": "DM8pHe1hOue8"
      },
      "source": [
        "\n",
        "Com base nos resultados obtidos com o algoritmo Naive Bayes, pode-se concluir que a acurácia do modelo foi de 0.769, ou seja, ele acertou cerca de 77% das classificações. A matriz de confusão mostra que o modelo classificou corretamente 1558 casos como não acionamento do seguro e 750 casos como acionamento do seguro, porém ele classificou incorretamente 502 casos como acionamento do seguro quando na verdade não houve acionamento e 190 casos como não acionamento do seguro quando na verdade houve acionamento.\n",
        "\n",
        "A precisão do modelo foi de 0.599, o que significa que das classificações positivas (acionamento do seguro), cerca de 60% realmente eram positivas. Já a revocação foi de 0.798, ou seja, o modelo foi capaz de identificar corretamente cerca de 80% dos casos que realmente eram positivos.\n",
        "\n",
        "Em geral, pode-se dizer que o modelo teve um desempenho razoável, mas ainda há espaço para melhorias, principalmente na redução dos falsos positivos (casos em que o modelo classificou incorretamente como acionamento do seguro quando na verdade não houve acionamento)."
      ]
    },
    {
      "attachments": {},
      "cell_type": "markdown",
      "metadata": {
        "id": "HZ4DmEElOue8"
      },
      "source": [
        "### Perceptron "
      ]
    },
    {
      "cell_type": "code",
      "execution_count": 67,
      "metadata": {
        "colab": {
          "base_uri": "https://localhost:8080/"
        },
        "id": "YFsRSoaAOue9",
        "outputId": "7c391b69-0893-440c-c863-fdf271e5465e"
      },
      "outputs": [
        {
          "name": "stdout",
          "output_type": "stream",
          "text": [
            "Acurácia: 0.772\n",
            "Matriz de confusão:\n",
            " [[1897  163]\n",
            " [ 521  419]]\n",
            "Precisão: 0.7199312714776632\n",
            "Revocação: 0.44574468085106383\n"
          ]
        }
      ],
      "source": [
        "from sklearn.linear_model import Perceptron\n",
        "from sklearn.metrics import accuracy_score, confusion_matrix, precision_score, recall_score\n",
        "from sklearn.datasets import load_iris\n",
        "from sklearn.model_selection import train_test_split\n",
        "\n",
        "# instanciando o modelo Perceptron\n",
        "perceptron = Perceptron(penalty='elasticnet')\n",
        "\n",
        "# treinando o modelo\n",
        "perceptron.fit(X_train, y_train)\n",
        "\n",
        "# fazendo previsões com os dados de teste\n",
        "y_pred = perceptron.predict(X_test)\n",
        "\n",
        "print(\"Acurácia:\", accuracy_score(y_test, y_pred))\n",
        "print(\"Matriz de confusão:\\n\", confusion_matrix(y_test, y_pred))\n",
        "print(\"Precisão:\", precision_score(y_test, y_pred))\n",
        "print(\"Revocação:\", recall_score(y_test, y_pred))"
      ]
    },
    {
      "attachments": {},
      "cell_type": "markdown",
      "metadata": {
        "id": "GX5vfzldOue9"
      },
      "source": [
        "\n",
        "Com base nos resultados da análise do modelo Perceptron, pode-se concluir que a acurácia do modelo é razoável, mas pode ser melhorada. A matriz de confusão indica que o modelo tem uma tendência a classificar a maioria das observações como negativas. Isso pode ser evidenciado pelo alto número de verdadeiros negativos e o baixo número de falsos positivos. Por outro lado, o modelo tem um desempenho inferior em relação aos falsos negativos, ou seja, a proporção de casos positivos que foram erroneamente classificados como negativos é relativamente alta. Além disso, a precisão e a revocação do modelo também indicam que há espaço para melhorias, pois a precisão é relativamente alta, mas a revocação é relativamente baixa."
      ]
    },
    {
      "attachments": {},
      "cell_type": "markdown",
      "metadata": {
        "id": "5d7crQeLOue9"
      },
      "source": [
        "### Multi Layer Perceptron - MLP"
      ]
    },
    {
      "cell_type": "code",
      "execution_count": 68,
      "metadata": {
        "colab": {
          "base_uri": "https://localhost:8080/"
        },
        "id": "76m57QkwOue9",
        "outputId": "452ced83-31c4-487b-a32f-3dca25ec3581"
      },
      "outputs": [
        {
          "name": "stdout",
          "output_type": "stream",
          "text": [
            "Acurácia: 0.8143333333333334\n",
            "Matriz de confusão:\n",
            " [[1877  183]\n",
            " [ 374  566]]\n",
            "Precisão: 0.7556742323097463\n",
            "Revocação: 0.6021276595744681\n"
          ]
        }
      ],
      "source": [
        "from sklearn.neural_network import MLPClassifier\n",
        "from sklearn.metrics import accuracy_score, confusion_matrix, precision_score, recall_score\n",
        "\n",
        "\n",
        "# instanciar o modelo MLP\n",
        "mlp = MLPClassifier(hidden_layer_sizes=(30,30,30), max_iter=1000, learning_rate_init=0.08, batch_size=77, random_state = 88)\n",
        "\n",
        "# treinar o modelo\n",
        "mlp.fit(X_train, y_train)\n",
        "\n",
        "# prever com os dados de teste\n",
        "y_pred = mlp.predict(X_test)\n",
        "\n",
        "# acurácia\n",
        "print(\"Acurácia:\", accuracy_score(y_test, y_pred))\n",
        "\n",
        "# matriz de confusão\n",
        "print(\"Matriz de confusão:\\n\", confusion_matrix(y_test, y_pred))\n",
        "\n",
        "# precisão\n",
        "print(\"Precisão:\", precision_score(y_test, y_pred))\n",
        "\n",
        "# revocação\n",
        "print(\"Revocação:\", recall_score(y_test, y_pred))\n"
      ]
    },
    {
      "attachments": {},
      "cell_type": "markdown",
      "metadata": {
        "id": "4kD8CqQ7Oue9"
      },
      "source": [
        "\n",
        "Com base nos resultados obtidos na análise do MLP, podemos concluir que o modelo apresentou uma acurácia de 0,82, o que significa que ele foi capaz de classificar corretamente 82% dos dados. A matriz de confusão mostra que o modelo classificou corretamente 1798 amostras da classe negativa e 662 amostras da classe positiva, mas classificou erroneamente 262 amostras da classe negativa como positivas e 278 amostras da classe positiva como negativas. A precisão foi de 0,716 e a revocação foi de 0,704, o que indica que o modelo teve um bom desempenho na detecção das amostras positivas, mas ainda há espaço para melhorias na classificação das amostras negativas."
      ]
    },
    {
      "attachments": {},
      "cell_type": "markdown",
      "metadata": {
        "id": "NBxoZZEhIZkN"
      },
      "source": [
        "# Atividade Continua 05"
      ]
    },
    {
      "attachments": {},
      "cell_type": "markdown",
      "metadata": {
        "id": "pPwlzFgIPESJ"
      },
      "source": [
        "## Em aula\n",
        "\n",
        "* Aplicar diferentes métodos de avaliação (hold out, holdout repetitivo, cross-validation, leave-one-out) \n",
        "\n",
        "* Usar outras métricas de avaliação parfa avaliar os modelos de classificação\n",
        "\n",
        "  * Utilize precisão, revocação, sensibilidade e especificidade para avaliar o desempenho em cada categoria\n",
        "\n",
        "  * Faça mais testes com os modelos, utilizando diferentes quantidades de atributos. Faça o gráfico de diferentes métricas pela quantidade de atributos utilizado\n",
        "\n",
        "* Para regressão:\n",
        "\n",
        "  * Faça mais testes com os modelos, utilizando diferentes quantidades de atributos. Faça o gráfico do erro pela quantidade de atributos utilizado\n",
        "\n",
        "* Utilizar GridSearchCV (https://scikit-learn.org/stable/modules/generated/sklearn.model_selection.GridSearchCV.html) para encontrar melhores hiperparâmetros utilizando cross-validation\n",
        "\n",
        "  * Utilizar diferentes valores do parâmetro *cv*\n",
        "\n",
        "  * Utilizar diferente valores do parâmetro *scoring*\n",
        "\n",
        "* Volte na modelagem e teste outros modelos, parâmetros e atributos para ver se cosegue alguma melhora\n",
        "\n",
        "* Avalie a o resultados finais e gere as conclusões. Por exemplo, porque o desempenho foi bom ou ruim (lembrem-se do exemplo da acurácia em quase 100%. Há alguma coisa dos dados que conseguem explicar isso?)\n",
        "\n",
        "  \n",
        "\n",
        "### Dicas\n",
        "\n",
        "* Pesquisar sobre conceitos que não conhecem para esclarecer dúvidas e determinar como fazer o entendimento dos dados.\n",
        "\n",
        "* Antes de começar a colocar a mão na massa, leia com atenção o que foi pedido e discuta com seu grupo o que já sabem fazer, o que precisam procurar, pesquisar e estudar e distribuam as tarefas. Aproveite o professor para tirar as dúvidas durante a aula."
      ]
    },
    {
      "attachments": {},
      "cell_type": "markdown",
      "metadata": {
        "id": "nb_q48Q7O0dY"
      },
      "source": [
        "## O que entregar\n",
        "\n",
        "### Documento contendo (pode ser docx, pdf, colab, latex... Sugestão: Colab, facilita para codificar e ver os resultados):\n",
        "\n",
        "* Equipe/Grupo\n",
        "\n",
        "  * Nome da equipe\n",
        "\n",
        "  * Nomes dos alunos\n",
        "\n",
        "  * RA dos alunos\n",
        "\n",
        "* Tema escolhido\n",
        "\n",
        "* Resultados de avaliação para pelo menos 3 diferentes algoritmos de machine learning\n",
        "\n",
        "  * Análise das diferentes métricas e métodos de avaliação\n",
        "\n",
        "  * Matriz de confusão\n",
        "\n",
        "  * Gráfico de métricas de desempenho pela quantidade de atributos selecionados\n",
        "\n",
        "* Conclusões sobre os resultados de avaliação\n",
        "\n",
        "  * Os resultados são satisfatórios para o objetivo de negócio e objetivo de dados definidos?\n",
        "\n",
        "  * Qual a melhor configuração (modelo, atributos e hiperparâmetros) para o problema de negócio definido? A definição deve tomada de acordo com as necessidades de negócio, avaliando diferentes métricas (nem sempre melhor acurácia é a melhor para resolver o problema de negócio). \n",
        "\n",
        "<br/>"
      ]
    },
    {
      "attachments": {},
      "cell_type": "markdown",
      "metadata": {
        "id": "ZFxqf4G6Meg5"
      },
      "source": [
        "## Alterando Quantidade de atributos"
      ]
    },
    {
      "cell_type": "code",
      "execution_count": 69,
      "metadata": {
        "colab": {
          "base_uri": "https://localhost:8080/"
        },
        "id": "ZXjwTJatMlYc",
        "outputId": "f6d32ec9-2235-4362-d966-1b272e4e9faa"
      },
      "outputs": [
        {
          "data": {
            "text/plain": [
              "Index(['ANNUAL_MILEAGE_NORM', 'DUIS_CATEGORY', 'SPEEDING_VIOLATIONS_CATEGORY',\n",
              "       'PAST_ACCIDENTS_CATEGORY', 'GENDER_CATEGORY', 'VEHICLE_YEAR_CATEGORY',\n",
              "       'VEHICLE_TYPE_CATEGORY', 'AGE_CATEGORY_0', 'AGE_CATEGORY_1',\n",
              "       'AGE_CATEGORY_2', 'AGE_CATEGORY_3', 'DRIVING_EXPERIENCE_CATEGORY_0',\n",
              "       'DRIVING_EXPERIENCE_CATEGORY_1', 'DRIVING_EXPERIENCE_CATEGORY_2',\n",
              "       'DRIVING_EXPERIENCE_CATEGORY_3', 'INCOME_CATEGORY_0',\n",
              "       'INCOME_CATEGORY_1', 'INCOME_CATEGORY_2', 'INCOME_CATEGORY_3',\n",
              "       'EDUCATION_CATEGORY_0', 'EDUCATION_CATEGORY_1', 'EDUCATION_CATEGORY_2'],\n",
              "      dtype='object')"
            ]
          },
          "execution_count": 69,
          "metadata": {},
          "output_type": "execute_result"
        }
      ],
      "source": [
        "X_alterado = X.copy()\n",
        "\n",
        "X.columns"
      ]
    },
    {
      "cell_type": "code",
      "execution_count": 70,
      "metadata": {
        "colab": {
          "base_uri": "https://localhost:8080/"
        },
        "id": "8TAXJc3hNkAl",
        "outputId": "71005309-6618-4c08-983e-3ad94e1c7106"
      },
      "outputs": [
        {
          "data": {
            "text/plain": [
              "Index(['ANNUAL_MILEAGE_NORM', 'DUIS_CATEGORY', 'SPEEDING_VIOLATIONS_CATEGORY',\n",
              "       'PAST_ACCIDENTS_CATEGORY', 'GENDER_CATEGORY', 'VEHICLE_YEAR_CATEGORY',\n",
              "       'VEHICLE_TYPE_CATEGORY', 'AGE_CATEGORY_0', 'AGE_CATEGORY_1',\n",
              "       'AGE_CATEGORY_2', 'AGE_CATEGORY_3', 'DRIVING_EXPERIENCE_CATEGORY_0',\n",
              "       'DRIVING_EXPERIENCE_CATEGORY_1', 'DRIVING_EXPERIENCE_CATEGORY_2',\n",
              "       'DRIVING_EXPERIENCE_CATEGORY_3', 'INCOME_CATEGORY_0',\n",
              "       'INCOME_CATEGORY_1', 'INCOME_CATEGORY_2', 'INCOME_CATEGORY_3',\n",
              "       'EDUCATION_CATEGORY_0', 'EDUCATION_CATEGORY_1', 'EDUCATION_CATEGORY_2'],\n",
              "      dtype='object')"
            ]
          },
          "execution_count": 70,
          "metadata": {},
          "output_type": "execute_result"
        }
      ],
      "source": [
        "X_alterado.columns"
      ]
    },
    {
      "attachments": {},
      "cell_type": "markdown",
      "metadata": {
        "id": "b8MFOb6pP5H2"
      },
      "source": [
        "## Avaliação de Algoritmos\n"
      ]
    },
    {
      "attachments": {},
      "cell_type": "markdown",
      "metadata": {
        "id": "cam2ePt4S63x"
      },
      "source": [
        "### Holdout"
      ]
    },
    {
      "cell_type": "code",
      "execution_count": 71,
      "metadata": {
        "id": "Dl1B9UdJS7S2"
      },
      "outputs": [],
      "source": [
        "from sklearn.model_selection import train_test_split\n",
        "from sklearn.metrics import accuracy_score, confusion_matrix, precision_score, recall_score\n",
        "\n",
        "\n",
        "def holdout(X, y, model):\n",
        "\n",
        "\n",
        "    # Dividir os dados em conjunto de treinamento e conjunto de teste\n",
        "    X_train, X_test, y_train, y_test = train_test_split(X, y, test_size = 0.30, random_state = 88, stratify=y)\n",
        "\n",
        "    # treinar o modelo\n",
        "    model.fit(X_train, y_train)\n",
        "\n",
        "    # prever com os dados de teste\n",
        "    y_pred = model.predict(X_test)\n",
        "\n",
        "    accurancy_score_result =  accuracy_score(y_test, y_pred)\n",
        "    confusion_matrix_result =  confusion_matrix(y_test, y_pred)\n",
        "    precision_score_result = precision_score(y_test, y_pred)\n",
        "    recall_score_result =  recall_score(y_test, y_pred)\n",
        "\n",
        "        # acurácia\n",
        "    print(\"Acurácia:\", accurancy_score_result)\n",
        "\n",
        "    # matriz de confusão\n",
        "    print(\"Matriz de confusão:\\n\", confusion_matrix_result)\n",
        "\n",
        "    # precisão\n",
        "    print(\"Precisão:\", precision_score_result)\n",
        "\n",
        "    # revocação\n",
        "    print(\"Revocação:\",recall_score_result)\n",
        "\n",
        "    return {'tipo_validacao': \"Holdout\",'acurancia': accurancy_score_result , 'revogacao': recall_score_result, 'precisao': precision_score_result, 'matriz_validacao':  confusion_matrix_result}"
      ]
    },
    {
      "attachments": {},
      "cell_type": "markdown",
      "metadata": {
        "id": "gDxzuIUETEFo"
      },
      "source": [
        "### Holdout repetitivo"
      ]
    },
    {
      "cell_type": "code",
      "execution_count": 72,
      "metadata": {
        "id": "Vlj_IBV-TD0O"
      },
      "outputs": [],
      "source": [
        "from sklearn.model_selection import train_test_split\n",
        "from sklearn.metrics import accuracy_score, confusion_matrix, precision_score, recall_score\n",
        "\n",
        "def holdout_repetitivo(X, y, model):\n",
        "    n_repeats = 100\n",
        "    accuracies = []\n",
        "    list_precision_score = []\n",
        "    list_recall_score = []\n",
        "    all_confusion_matrices = []  # Lista para armazenar as matrizes de confusão de cada repetição\n",
        "\n",
        "\n",
        "    for _ in range(n_repeats):\n",
        "        # Dividir os dados em conjunto de treinamento e conjunto de teste\n",
        "        X_train, X_test, y_train, y_test = train_test_split(X, y, test_size=0.2)\n",
        "        \n",
        "        \n",
        "        # Treinar e avaliar o modelo usando o conjunto de treinamento e o conjunto de teste\n",
        "        model.fit(X_train, y_train)\n",
        "        y_pred = model.predict(X_test)\n",
        "\n",
        "        accuracy = model.score(X_test, y_test)\n",
        "        accuracies.append(accuracy)\n",
        "        list_precision_score.append(precision_score(y_test, y_pred))\n",
        "        list_recall_score.append(recall_score(y_test, y_pred))\n",
        "\n",
        "         # Calcular e armazenar a matriz de confusão\n",
        "        confusion = confusion_matrix(y_test, y_pred)\n",
        "        all_confusion_matrices.append(confusion)\n",
        "\n",
        "    # Calcular a média das acurácias obtidas\n",
        "    mean_accurancy_scores = np.mean(accuracies)\n",
        "    mean_precision_scores = np.mean(list_precision_score)\n",
        "    mean_recall_scores = np.mean(list_recall_score)\n",
        "\n",
        "    # Calcular a média da matriz de confusão final\n",
        "    mean_confusion_matrix = np.mean(all_confusion_matrices, axis=0)\n",
        "\n",
        "    return {'tipo_validacao': \"Holdout_repetitivo\",'acurancia': mean_accurancy_scores , 'revogacao': mean_recall_scores, 'precisao': mean_precision_scores, 'matriz_validacao':  mean_confusion_matrix}"
      ]
    },
    {
      "attachments": {},
      "cell_type": "markdown",
      "metadata": {
        "id": "bfJCXA5ETIGS"
      },
      "source": [
        "### Cross-validation"
      ]
    },
    {
      "cell_type": "code",
      "execution_count": 73,
      "metadata": {
        "id": "UAXgkmd9TVoh"
      },
      "outputs": [],
      "source": [
        "from sklearn.model_selection import KFold\n",
        "from sklearn.metrics import precision_score, recall_score, confusion_matrix\n",
        "\n",
        "def cross_validation(X, y, model):\n",
        "  # Criar o objeto KFold\n",
        "  kf = KFold(n_splits=5)\n",
        "\n",
        "  # Inicializar listas para armazenar as métricas\n",
        "  precision_scores = []\n",
        "  recall_scores = []\n",
        "  accuracy_scores = []\n",
        "  confusion_matrices = []\n",
        "\n",
        "  for train_index, test_index in kf.split(X):\n",
        "      X_train, X_test = X.iloc[train_index], X.iloc[test_index]\n",
        "      y_train, y_test = y.iloc[train_index], y.iloc[test_index]\n",
        "      \n",
        "      # Treinar o modelo\n",
        "      model.fit(X_train, y_train)\n",
        "      \n",
        "      # Fazer predições no conjunto de teste\n",
        "      y_pred = model.predict(X_test)\n",
        "      \n",
        "      # Calcular e armazenar as métricas\n",
        "      precision_scores.append(precision_score(y_test, y_pred))\n",
        "      recall_scores.append(recall_score(y_test, y_pred))\n",
        "      accuracy_scores.append(accuracy_score(y_test, y_pred))\n",
        "      confusion_matrices.append(confusion_matrix(y_test, y_pred))\n",
        "\n",
        "  mean_precision_scores = np.mean(precision_scores)\n",
        "  mean_recall_scores = np.mean(recall_scores)\n",
        "  mean_accurancy_scores = np.mean(accuracy_scores)\n",
        "  mean_confusion_matrix = np.mean(confusion_matrices, axis=0)\n",
        "\n",
        "    # Imprimir as métricas médias\n",
        "  print('Média da Precisão : ', mean_precision_scores)\n",
        "  print('Média da Revogação : ', mean_recall_scores)\n",
        "  print('Média da Acurácia : ', mean_accurancy_scores)\n",
        "  print(\"Media matriz de validação : \", mean_confusion_matrix)\n",
        "\n",
        "  return {'tipo_validacao': \"cross_validation\",'acurancia': mean_accurancy_scores , 'revogacao': mean_recall_scores, 'precisao': mean_precision_scores, 'matriz_validacao':  mean_confusion_matrix}"
      ]
    },
    {
      "attachments": {},
      "cell_type": "markdown",
      "metadata": {
        "id": "1Wz0wLBZTZgA"
      },
      "source": [
        "### Leave-one-out"
      ]
    },
    {
      "cell_type": "code",
      "execution_count": 74,
      "metadata": {
        "id": "p1fiB5pfp8Gk"
      },
      "outputs": [],
      "source": [
        "from sklearn.model_selection import LeaveOneOut\n",
        "from joblib import Parallel, delayed\n",
        "import numpy as np\n",
        "\n",
        "def train_model(train_index, test_index, X, y, model):\n",
        "    X_train, X_test = X.iloc[train_index], X.iloc[test_index]\n",
        "    y_train, y_test = y.iloc[train_index], y.iloc[test_index]\n",
        "    model.fit(X_train, y_train)\n",
        "    accuracy = model.score(X_test, y_test)\n",
        "    return accuracy\n",
        "\n",
        "def leave_one_out(X, y, model):\n",
        "    loo = LeaveOneOut()\n",
        "    accuracies = Parallel(n_jobs=-1)(delayed(train_model)(train_index, test_index, X, y, model) \n",
        "                                     for train_index, test_index in loo.split(X))\n",
        "\n",
        "    # Calcular a média das acurácias obtidas\n",
        "    mean_accuracy = np.mean(accuracies)\n",
        "\n",
        "    print(\"Média da Acurácia: \", mean_accuracy)\n"
      ]
    },
    {
      "cell_type": "code",
      "execution_count": 91,
      "metadata": {
        "id": "R31H_7SKk0Ae"
      },
      "outputs": [],
      "source": [
        "# dataframe de resultados com todos os atributos\n",
        "resultados = {}\n",
        "for i in range(1,6):\n",
        "  resultados[f\"v{i}\"] = pd.DataFrame()\n"
      ]
    },
    {
      "cell_type": "code",
      "execution_count": 95,
      "metadata": {
        "id": "vX3wOF7IWcSw"
      },
      "outputs": [],
      "source": [
        "def realizar_analise(base, y, model):\n",
        "  df = pd.DataFrame() \n",
        "  df = df.append(holdout(base, y, model), ignore_index=True)\n",
        "  df = df.append(holdout_repetitivo(base, y, model), ignore_index=True)\n",
        "  df = df.append(cross_validation(base, y, model), ignore_index=True)\n",
        "  return df\n"
      ]
    },
    {
      "cell_type": "code",
      "execution_count": 88,
      "metadata": {
        "id": "hm1uQEn1v5dB"
      },
      "outputs": [],
      "source": [
        "def plot_resultados(df):\n",
        "  # Configurações de barras\n",
        "  barWidth = 0.25\n",
        "\n",
        "  # Configuração de posições das barras\n",
        "  r1 = np.arange(len(df['acurancia']))\n",
        "  r2 = [x + barWidth for x in r1]\n",
        "  r3 = [x + barWidth for x in r2]\n",
        "\n",
        "  # Criação das barras\n",
        "  plt.bar(r1, df['acurancia'], color='b', width=barWidth, edgecolor='grey', label='Acurácia')\n",
        "  plt.bar(r2, df['revogacao'], color='g', width=barWidth, edgecolor='grey', label='Revogação')\n",
        "  plt.bar(r3, df['precisao'], color='r', width=barWidth, edgecolor='grey', label='Precisão')\n",
        "\n",
        "  # Adicionando rótulos\n",
        "  plt.xlabel('Tipo de Validação', fontweight='bold', fontsize=15)\n",
        "  plt.xticks([r + barWidth for r in range(len(df['acurancia']))], df['tipo_validacao'])\n",
        "\n",
        "  # Criando a legenda e mostrando o gráfico\n",
        "  plt.legend()\n",
        "  plt.show()"
      ]
    },
    {
      "cell_type": "code",
      "execution_count": 96,
      "metadata": {
        "colab": {
          "base_uri": "https://localhost:8080/"
        },
        "id": "Kom_XAVvHTEn",
        "outputId": "980d1459-0cc8-4030-d3e1-41eb3c0a2603"
      },
      "outputs": [
        {
          "name": "stdout",
          "output_type": "stream",
          "text": [
            "Acurácia: 0.8143333333333334\n",
            "Matriz de confusão:\n",
            " [[1877  183]\n",
            " [ 374  566]]\n",
            "Precisão: 0.7556742323097463\n",
            "Revocação: 0.6021276595744681\n"
          ]
        },
        {
          "name": "stderr",
          "output_type": "stream",
          "text": [
            "/tmp/ipykernel_31892/887837100.py:3: FutureWarning: The frame.append method is deprecated and will be removed from pandas in a future version. Use pandas.concat instead.\n",
            "  df = df.append(holdout(base, y, model), ignore_index=True)\n",
            "/tmp/ipykernel_31892/887837100.py:4: FutureWarning: The frame.append method is deprecated and will be removed from pandas in a future version. Use pandas.concat instead.\n",
            "  df = df.append(holdout_repetitivo(base, y, model), ignore_index=True)\n"
          ]
        },
        {
          "name": "stdout",
          "output_type": "stream",
          "text": [
            "Média da Precisão :  0.7138499717519096\n",
            "Média da Revogação :  0.6628333375905855\n",
            "Média da Acurácia :  0.8085000000000001\n",
            "Media matriz de validação :  [[1201.6  171.8]\n",
            " [ 211.2  415.4]]\n"
          ]
        },
        {
          "name": "stderr",
          "output_type": "stream",
          "text": [
            "/tmp/ipykernel_31892/887837100.py:5: FutureWarning: The frame.append method is deprecated and will be removed from pandas in a future version. Use pandas.concat instead.\n",
            "  df = df.append(cross_validation(base, y, model), ignore_index=True)\n"
          ]
        },
        {
          "name": "stdout",
          "output_type": "stream",
          "text": [
            "Acurácia: 0.8146666666666667\n",
            "Matriz de confusão:\n",
            " [[1842  218]\n",
            " [ 338  602]]\n",
            "Precisão: 0.7341463414634146\n",
            "Revocação: 0.6404255319148936\n"
          ]
        },
        {
          "name": "stderr",
          "output_type": "stream",
          "text": [
            "/tmp/ipykernel_31892/887837100.py:3: FutureWarning: The frame.append method is deprecated and will be removed from pandas in a future version. Use pandas.concat instead.\n",
            "  df = df.append(holdout(base, y, model), ignore_index=True)\n",
            "/tmp/ipykernel_31892/887837100.py:4: FutureWarning: The frame.append method is deprecated and will be removed from pandas in a future version. Use pandas.concat instead.\n",
            "  df = df.append(holdout_repetitivo(base, y, model), ignore_index=True)\n"
          ]
        },
        {
          "name": "stdout",
          "output_type": "stream",
          "text": [
            "Média da Precisão :  0.68840303743976\n",
            "Média da Revogação :  0.6905193987954672\n",
            "Média da Acurácia :  0.7994999999999999\n",
            "Media matriz de validação :  [[1166.   207.4]\n",
            " [ 193.6  433. ]]\n"
          ]
        },
        {
          "name": "stderr",
          "output_type": "stream",
          "text": [
            "/tmp/ipykernel_31892/887837100.py:5: FutureWarning: The frame.append method is deprecated and will be removed from pandas in a future version. Use pandas.concat instead.\n",
            "  df = df.append(cross_validation(base, y, model), ignore_index=True)\n"
          ]
        },
        {
          "name": "stdout",
          "output_type": "stream",
          "text": [
            "Acurácia: 0.817\n",
            "Matriz de confusão:\n",
            " [[1853  207]\n",
            " [ 342  598]]\n",
            "Precisão: 0.7428571428571429\n",
            "Revocação: 0.6361702127659574\n"
          ]
        },
        {
          "name": "stderr",
          "output_type": "stream",
          "text": [
            "/tmp/ipykernel_31892/887837100.py:3: FutureWarning: The frame.append method is deprecated and will be removed from pandas in a future version. Use pandas.concat instead.\n",
            "  df = df.append(holdout(base, y, model), ignore_index=True)\n",
            "/tmp/ipykernel_31892/887837100.py:4: FutureWarning: The frame.append method is deprecated and will be removed from pandas in a future version. Use pandas.concat instead.\n",
            "  df = df.append(holdout_repetitivo(base, y, model), ignore_index=True)\n"
          ]
        },
        {
          "name": "stdout",
          "output_type": "stream",
          "text": [
            "Média da Precisão :  0.7260514948599884\n",
            "Média da Revogação :  0.6368793570984808\n",
            "Média da Acurácia :  0.8101999999999998\n",
            "Media matriz de validação :  [[1221.2  152.2]\n",
            " [ 227.4  399.2]]\n"
          ]
        },
        {
          "name": "stderr",
          "output_type": "stream",
          "text": [
            "/tmp/ipykernel_31892/887837100.py:5: FutureWarning: The frame.append method is deprecated and will be removed from pandas in a future version. Use pandas.concat instead.\n",
            "  df = df.append(cross_validation(base, y, model), ignore_index=True)\n"
          ]
        },
        {
          "name": "stdout",
          "output_type": "stream",
          "text": [
            "Acurácia: 0.8166666666666667\n",
            "Matriz de confusão:\n",
            " [[1834  226]\n",
            " [ 324  616]]\n",
            "Precisão: 0.7315914489311164\n",
            "Revocação: 0.6553191489361702\n"
          ]
        },
        {
          "name": "stderr",
          "output_type": "stream",
          "text": [
            "/tmp/ipykernel_31892/887837100.py:3: FutureWarning: The frame.append method is deprecated and will be removed from pandas in a future version. Use pandas.concat instead.\n",
            "  df = df.append(holdout(base, y, model), ignore_index=True)\n",
            "/tmp/ipykernel_31892/887837100.py:4: FutureWarning: The frame.append method is deprecated and will be removed from pandas in a future version. Use pandas.concat instead.\n",
            "  df = df.append(holdout_repetitivo(base, y, model), ignore_index=True)\n"
          ]
        },
        {
          "name": "stdout",
          "output_type": "stream",
          "text": [
            "Média da Precisão :  0.725895104362328\n",
            "Média da Revogação :  0.6096117166149833\n",
            "Média da Acurácia :  0.8058\n",
            "Media matriz de validação :  [[1229.   144.4]\n",
            " [ 244.   382.6]]\n"
          ]
        },
        {
          "name": "stderr",
          "output_type": "stream",
          "text": [
            "/tmp/ipykernel_31892/887837100.py:5: FutureWarning: The frame.append method is deprecated and will be removed from pandas in a future version. Use pandas.concat instead.\n",
            "  df = df.append(cross_validation(base, y, model), ignore_index=True)\n"
          ]
        },
        {
          "name": "stdout",
          "output_type": "stream",
          "text": [
            "Acurácia: 0.811\n",
            "Matriz de confusão:\n",
            " [[1868  192]\n",
            " [ 375  565]]\n",
            "Precisão: 0.7463672391017173\n",
            "Revocação: 0.601063829787234\n"
          ]
        },
        {
          "name": "stderr",
          "output_type": "stream",
          "text": [
            "/tmp/ipykernel_31892/887837100.py:3: FutureWarning: The frame.append method is deprecated and will be removed from pandas in a future version. Use pandas.concat instead.\n",
            "  df = df.append(holdout(base, y, model), ignore_index=True)\n",
            "/tmp/ipykernel_31892/887837100.py:4: FutureWarning: The frame.append method is deprecated and will be removed from pandas in a future version. Use pandas.concat instead.\n",
            "  df = df.append(holdout_repetitivo(base, y, model), ignore_index=True)\n"
          ]
        },
        {
          "name": "stdout",
          "output_type": "stream",
          "text": [
            "Média da Precisão :  0.7157676297058297\n",
            "Média da Revogação :  0.6526337016207326\n",
            "Média da Acurácia :  0.8097000000000001\n",
            "Media matriz de validação :  [[1210.4  163. ]\n",
            " [ 217.6  409. ]]\n"
          ]
        },
        {
          "name": "stderr",
          "output_type": "stream",
          "text": [
            "/tmp/ipykernel_31892/887837100.py:5: FutureWarning: The frame.append method is deprecated and will be removed from pandas in a future version. Use pandas.concat instead.\n",
            "  df = df.append(cross_validation(base, y, model), ignore_index=True)\n"
          ]
        }
      ],
      "source": [
        "# Analise com todos os dados\n",
        "resultados[\"v1\"] = realizar_analise(X, y, mlp)\n",
        "\n",
        "# Analise removendo 1 atributo\n",
        "X_alterado = X.copy()\n",
        "X_alterado.drop('GENDER_CATEGORY', inplace=True, axis=1) \n",
        "\n",
        "resultados[\"v2\"] = realizar_analise(X_alterado, y, mlp)\n",
        "\n",
        "# Analise removendo 2 atributo\n",
        "X_alterado.drop('VEHICLE_TYPE_CATEGORY', inplace=True, axis=1)\n",
        "\n",
        "resultados[\"v3\"] = realizar_analise(X_alterado, y, mlp)\n",
        "\n",
        "\n",
        "# Analise removendo 3 atributo\n",
        "X_alterado.drop('EDUCATION_CATEGORY_0', inplace=True, axis=1)\n",
        "X_alterado.drop('EDUCATION_CATEGORY_1', inplace=True, axis=1)\n",
        "X_alterado.drop('EDUCATION_CATEGORY_2', inplace=True, axis=1)\n",
        "\n",
        "resultados[\"v4\"] = realizar_analise(X_alterado, y, mlp)\n",
        "\n",
        "# Analise removendo 4 atributo\n",
        "X_alterado.drop('INCOME_CATEGORY_0', inplace=True, axis=1)\n",
        "X_alterado.drop('INCOME_CATEGORY_1', inplace=True, axis=1)\n",
        "X_alterado.drop('INCOME_CATEGORY_2', inplace=True, axis=1)\n",
        "X_alterado.drop('INCOME_CATEGORY_3', inplace=True, axis=1)\n",
        "\n",
        "resultados[\"v5\"] = realizar_analise(X_alterado, y, mlp)\n"
      ]
    },
    {
      "cell_type": "code",
      "execution_count": 99,
      "metadata": {
        "id": "g6EKPaLcJG3J"
      },
      "outputs": [
        {
          "name": "stdout",
          "output_type": "stream",
          "text": [
            "-----------------------------v1----------------------\n"
          ]
        },
        {
          "data": {
            "image/png": "[encoded data removed]",
            "text/plain": [
              "<Figure size 640x480 with 1 Axes>"
            ]
          },
          "metadata": {},
          "output_type": "display_data"
        },
        {
          "name": "stdout",
          "output_type": "stream",
          "text": [
            "-----------------------------v2----------------------\n"
          ]
        },
        {
          "data": {
            "image/png": "[encoded data removed]",
            "text/plain": [
              "<Figure size 640x480 with 1 Axes>"
            ]
          },
          "metadata": {},
          "output_type": "display_data"
        },
        {
          "name": "stdout",
          "output_type": "stream",
          "text": [
            "-----------------------------v3----------------------\n"
          ]
        },
        {
          "data": {
            "image/png": "[encoded data removed]",
            "text/plain": [
              "<Figure size 640x480 with 1 Axes>"
            ]
          },
          "metadata": {},
          "output_type": "display_data"
        },
        {
          "name": "stdout",
          "output_type": "stream",
          "text": [
            "-----------------------------v4----------------------\n"
          ]
        },
        {
          "data": {
            "image/png": "[encoded data removed]",
            "text/plain": [
              "<Figure size 640x480 with 1 Axes>"
            ]
          },
          "metadata": {},
          "output_type": "display_data"
        },
        {
          "name": "stdout",
          "output_type": "stream",
          "text": [
            "-----------------------------v5----------------------\n"
          ]
        },
        {
          "data": {
            "image/png": "[encoded data removed]",
            "text/plain": [
              "<Figure size 640x480 with 1 Axes>"
            ]
          },
          "metadata": {},
          "output_type": "display_data"
        }
      ],
      "source": [
        "for key, value in resultados.items():\n",
        "    print(f\"-----------------------------{key}----------------------\")\n",
        "    plot_resultados(value)"
      ]
    }
  ],
  "metadata": {
    "colab": {
      "provenance": []
    },
    "kernelspec": {
      "display_name": "Python 3",
      "name": "python3"
    },
    "language_info": {
      "codemirror_mode": {
        "name": "ipython",
        "version": 3
      },
      "file_extension": ".py",
      "mimetype": "text/x-python",
      "name": "python",
      "nbconvert_exporter": "python",
      "pygments_lexer": "ipython3",
      "version": "3.10.6"
    }
  },
  "nbformat": 4,
  "nbformat_minor": 0
}
