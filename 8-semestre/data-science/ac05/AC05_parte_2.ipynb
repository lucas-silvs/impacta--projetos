{
  "cells": [
    {
      "cell_type": "markdown",
      "metadata": {
        "id": "5U7DUeYGC0Ky"
      },
      "source": [
        "Classificação de Imagens usando CNNs e Transfer Learning.\n",
        "\n",
        "Autor: Arthur Schneider Figueira"
      ]
    },
    {
      "cell_type": "code",
      "execution_count": null,
      "metadata": {
        "colab": {
          "base_uri": "https://localhost:8080/"
        },
        "id": "kznExv8U-Ywa",
        "outputId": "5f3a7029-84f1-40f2-d851-3c6c40be35d0"
      },
      "outputs": [
        {
          "name": "stdout",
          "output_type": "stream",
          "text": [
            "Mounted at /content/drive\n"
          ]
        }
      ],
      "source": [
        "from google.colab import drive\n",
        "drive.mount('/content/drive')"
      ]
    },
    {
      "cell_type": "markdown",
      "metadata": {
        "id": "ieyWT-cGCxJb"
      },
      "source": [
        "### Importando Bibliotecas"
      ]
    },
    {
      "cell_type": "code",
      "execution_count": 3,
      "metadata": {
        "id": "MGiGomuv7BVU"
      },
      "outputs": [
        {
          "name": "stderr",
          "output_type": "stream",
          "text": [
            "2023-10-31 20:33:41.087006: I tensorflow/core/util/port.cc:111] oneDNN custom operations are on. You may see slightly different numerical results due to floating-point round-off errors from different computation orders. To turn them off, set the environment variable `TF_ENABLE_ONEDNN_OPTS=0`.\n",
            "2023-10-31 20:33:41.184220: I tensorflow/tsl/cuda/cudart_stub.cc:28] Could not find cuda drivers on your machine, GPU will not be used.\n",
            "2023-10-31 20:33:41.573273: E tensorflow/compiler/xla/stream_executor/cuda/cuda_dnn.cc:9342] Unable to register cuDNN factory: Attempting to register factory for plugin cuDNN when one has already been registered\n",
            "2023-10-31 20:33:41.573291: E tensorflow/compiler/xla/stream_executor/cuda/cuda_fft.cc:609] Unable to register cuFFT factory: Attempting to register factory for plugin cuFFT when one has already been registered\n",
            "2023-10-31 20:33:41.575609: E tensorflow/compiler/xla/stream_executor/cuda/cuda_blas.cc:1518] Unable to register cuBLAS factory: Attempting to register factory for plugin cuBLAS when one has already been registered\n",
            "2023-10-31 20:33:41.792725: I tensorflow/tsl/cuda/cudart_stub.cc:28] Could not find cuda drivers on your machine, GPU will not be used.\n",
            "2023-10-31 20:33:41.794649: I tensorflow/core/platform/cpu_feature_guard.cc:182] This TensorFlow binary is optimized to use available CPU instructions in performance-critical operations.\n",
            "To enable the following instructions: AVX2 AVX512F AVX512_VNNI AVX512_BF16 FMA, in other operations, rebuild TensorFlow with the appropriate compiler flags.\n",
            "2023-10-31 20:33:42.677481: W tensorflow/compiler/tf2tensorrt/utils/py_utils.cc:38] TF-TRT Warning: Could not find TensorRT\n"
          ]
        }
      ],
      "source": [
        "import tensorflow as tf\n",
        "from tensorflow.keras.preprocessing.image import ImageDataGenerator"
      ]
    },
    {
      "cell_type": "markdown",
      "metadata": {
        "id": "KcM-1OcqDGhj"
      },
      "source": [
        "[ImageDataGenerator Documentacao](https://www.tensorflow.org/api_docs/python/tf/keras/preprocessing/image/ImageDataGenerator)"
      ]
    },
    {
      "cell_type": "code",
      "execution_count": 4,
      "metadata": {
        "id": "3oZ-nUHd5Bs8"
      },
      "outputs": [],
      "source": [
        "# Caminhos para os diretórios de dados\n",
        "train_dir = './archive/images/'\n",
        "validation_dir = '/content/drive/MyDrive/Data Science/Bases/Imagens/Apple_Tomatoes/test'"
      ]
    },
    {
      "cell_type": "code",
      "execution_count": 5,
      "metadata": {},
      "outputs": [],
      "source": [
        "import os\n",
        "import shutil\n",
        "import random\n",
        "\n",
        "# Definindo as pastas originais e as pastas de destino para treino e teste\n",
        "src_dir = 'archive/images'\n",
        "train_dir = 'archive/train'\n",
        "validation_dir = 'archive/test'\n",
        "\n",
        "# Definindo a proporção de imagens para teste\n",
        "test_ratio = 0.2\n",
        "\n",
        "# Criando pastas de treino e teste se elas não existirem\n",
        "if not os.path.exists(train_dir):\n",
        "    os.makedirs(train_dir)\n",
        "if not os.path.exists(validation_dir):\n",
        "    os.makedirs(validation_dir)\n",
        "\n",
        "# Iterando pelas pastas de categorias (neste caso, chitas e leões)\n",
        "for category in ['Cheetahs', 'Lions']:\n",
        "    image_files = os.listdir(os.path.join(src_dir, category))\n",
        "    \n",
        "    # Embaralhando os nomes dos arquivos para garantir uma divisão aleatória\n",
        "    random.shuffle(image_files)\n",
        "\n",
        "    # Calculando o número de imagens para teste\n",
        "    n_test = int(len(image_files) * test_ratio)\n",
        "    \n",
        "    # Criando pastas de categoria em treino e teste\n",
        "    if not os.path.exists(os.path.join(train_dir, category)):\n",
        "        os.makedirs(os.path.join(train_dir, category))\n",
        "    if not os.path.exists(os.path.join(validation_dir, category)):\n",
        "        os.makedirs(os.path.join(validation_dir, category))\n",
        "    \n",
        "    # Movendo as imagens para as respectivas pastas\n",
        "    for i, img_file in enumerate(image_files):\n",
        "        src_path = os.path.join(src_dir, category, img_file)\n",
        "        if i < n_test:\n",
        "            dst_path = os.path.join(validation_dir, category, img_file)\n",
        "        else:\n",
        "            dst_path = os.path.join(train_dir, category, img_file)\n",
        "        \n",
        "        shutil.move(src_path, dst_path)\n"
      ]
    },
    {
      "cell_type": "markdown",
      "metadata": {
        "id": "L9YmVQ4C8F1z"
      },
      "source": [
        "### ImageDataGenerator\n",
        "\n",
        "Faz com que as imagens sejam manipuladas artificialmente.\n",
        "\n",
        "* rescale: multiplica o valor dos pixels pelos valores;\n",
        "* rotation_range: A imagem poderá sofrer uma rotação;\n",
        "* width_shift_range e height_shift_range: move a imagem horizontalmente e verticalmente;\n",
        "* zoom_range: aplica um zoom na imagem;\n",
        "* horizontal_flip: gira a imagem;\n",
        "* modo para preencher os valores além da borda da imagem.\n"
      ]
    },
    {
      "cell_type": "code",
      "execution_count": 6,
      "metadata": {
        "id": "1pvOsj4q6qA2"
      },
      "outputs": [],
      "source": [
        "#Visto que há pouca amostra, vamos usar o ImageDataGenerator para ampliar a amostragem\n",
        "\n",
        "# Pré-processamento e aumento de dados\n",
        "train_datagen = ImageDataGenerator(\n",
        "    #rescale=1.0/255,\n",
        "    rotation_range=40,\n",
        "    width_shift_range=0.2,\n",
        "    height_shift_range=0.2,\n",
        "    zoom_range=0.2,\n",
        "    horizontal_flip=True,\n",
        "    fill_mode='nearest'\n",
        ")\n",
        "\n",
        "validation_datagen = ImageDataGenerator(rescale=1.0/255)"
      ]
    },
    {
      "cell_type": "code",
      "execution_count": 7,
      "metadata": {
        "colab": {
          "base_uri": "https://localhost:8080/"
        },
        "id": "hRN-nQBM6-Fu",
        "outputId": "b738d8ef-5ca6-41f3-d9cf-c72f1268f4ca"
      },
      "outputs": [
        {
          "name": "stdout",
          "output_type": "stream",
          "text": [
            "Found 160 images belonging to 2 classes.\n",
            "Found 40 images belonging to 2 classes.\n"
          ]
        }
      ],
      "source": [
        "# Carregando imagens do diretório e aplicando o pré-processamento\n",
        "train_generator = train_datagen.flow_from_directory(\n",
        "    train_dir,\n",
        "    target_size=(224, 224),\n",
        "    batch_size=32,\n",
        "    class_mode='binary'\n",
        ")\n",
        "\n",
        "validation_generator = validation_datagen.flow_from_directory(\n",
        "    validation_dir,\n",
        "    target_size=(224, 224),\n",
        "    batch_size=32,\n",
        "    class_mode='binary'\n",
        ")"
      ]
    },
    {
      "cell_type": "code",
      "execution_count": 8,
      "metadata": {
        "colab": {
          "base_uri": "https://localhost:8080/"
        },
        "id": "GV2LEzO97KK6",
        "outputId": "c26229d8-0823-4499-ab12-12316aab460c"
      },
      "outputs": [
        {
          "name": "stderr",
          "output_type": "stream",
          "text": [
            "2023-10-31 20:33:43.962104: I tensorflow/compiler/xla/stream_executor/cuda/cuda_gpu_executor.cc:894] successful NUMA node read from SysFS had negative value (-1), but there must be at least one NUMA node, so returning NUMA node zero. See more at https://github.com/torvalds/linux/blob/v6.0/Documentation/ABI/testing/sysfs-bus-pci#L344-L355\n",
            "2023-10-31 20:33:43.962683: W tensorflow/core/common_runtime/gpu/gpu_device.cc:2211] Cannot dlopen some GPU libraries. Please make sure the missing libraries mentioned above are installed properly if you would like to use GPU. Follow the guide at https://www.tensorflow.org/install/gpu for how to download and setup the required libraries for your platform.\n",
            "Skipping registering GPU devices...\n"
          ]
        },
        {
          "name": "stdout",
          "output_type": "stream",
          "text": [
            "Epoch 1/15\n",
            "5/5 [==============================] - 3s 462ms/step - loss: 5958.0190 - accuracy: 0.5250 - val_loss: 0.8325 - val_accuracy: 0.5000\n",
            "Epoch 2/15\n",
            "5/5 [==============================] - 2s 424ms/step - loss: 45.0106 - accuracy: 0.4250 - val_loss: 0.6943 - val_accuracy: 0.5750\n",
            "Epoch 3/15\n",
            "5/5 [==============================] - 2s 422ms/step - loss: 1.2041 - accuracy: 0.5437 - val_loss: 0.6930 - val_accuracy: 0.4750\n",
            "Epoch 4/15\n",
            "5/5 [==============================] - 2s 423ms/step - loss: 0.9295 - accuracy: 0.5625 - val_loss: 0.6938 - val_accuracy: 0.4500\n",
            "Epoch 5/15\n",
            "5/5 [==============================] - 2s 420ms/step - loss: 1.1690 - accuracy: 0.5188 - val_loss: 0.6933 - val_accuracy: 0.4750\n",
            "Epoch 6/15\n",
            "5/5 [==============================] - 2s 425ms/step - loss: 0.6892 - accuracy: 0.6187 - val_loss: 0.6934 - val_accuracy: 0.4750\n",
            "Epoch 7/15\n",
            "5/5 [==============================] - 2s 427ms/step - loss: 0.8728 - accuracy: 0.5437 - val_loss: 0.6933 - val_accuracy: 0.4500\n",
            "Epoch 8/15\n",
            "5/5 [==============================] - 2s 424ms/step - loss: 0.7302 - accuracy: 0.6125 - val_loss: 0.6939 - val_accuracy: 0.4500\n",
            "Epoch 9/15\n",
            "5/5 [==============================] - 2s 412ms/step - loss: 0.7620 - accuracy: 0.5688 - val_loss: 0.6932 - val_accuracy: 0.5000\n",
            "Epoch 10/15\n",
            "5/5 [==============================] - 2s 431ms/step - loss: 11.7370 - accuracy: 0.5562 - val_loss: 0.6974 - val_accuracy: 0.4500\n",
            "Epoch 11/15\n",
            "5/5 [==============================] - 2s 416ms/step - loss: 38.8910 - accuracy: 0.5188 - val_loss: 0.6936 - val_accuracy: 0.4750\n",
            "Epoch 12/15\n",
            "5/5 [==============================] - 2s 434ms/step - loss: 0.7118 - accuracy: 0.5625 - val_loss: 0.6933 - val_accuracy: 0.5000\n",
            "Epoch 13/15\n",
            "5/5 [==============================] - 2s 420ms/step - loss: 0.7230 - accuracy: 0.5688 - val_loss: 0.6934 - val_accuracy: 0.4750\n",
            "Epoch 14/15\n",
            "5/5 [==============================] - 2s 420ms/step - loss: 0.6739 - accuracy: 0.5500 - val_loss: 0.6936 - val_accuracy: 0.4750\n",
            "Epoch 15/15\n",
            "5/5 [==============================] - 2s 418ms/step - loss: 0.6537 - accuracy: 0.5938 - val_loss: 0.6934 - val_accuracy: 0.4750\n"
          ]
        }
      ],
      "source": [
        "# Construindo a CNN\n",
        "model = tf.keras.models.Sequential([\n",
        "    # Input shape 224x224 e 3 camadas\n",
        "    tf.keras.layers.Conv2D(32, (3, 3), activation='relu', input_shape=(224, 224, 3)),\n",
        "    # Com Conv2D (32), o shape passa a ser 224x224x32. É como se fossem 32 neurônios com output 224x224\n",
        "    tf.keras.layers.MaxPooling2D(2, 2),\n",
        "    # Com o maxpooling (2x2), o shape passa a ser 112x112x32\n",
        "    tf.keras.layers.Conv2D(64, (3, 3), activation='relu'),\n",
        "    # Com Conv2D (64), o shape passa a ser 112x112x64\n",
        "    tf.keras.layers.MaxPooling2D(2, 2),\n",
        "    # Com o maxpooling (2x2), o shape passa a ser 56x56x64\n",
        "    tf.keras.layers.Conv2D(128, (3, 3), activation='relu'),\n",
        "    # Com Conv2D (128), o shape passa a ser 56x56x128\n",
        "    tf.keras.layers.MaxPooling2D(2, 2),\n",
        "    # Com o maxpooling (2x2), o shape passa a ser 28x28x128\n",
        "    tf.keras.layers.Flatten(),\n",
        "    # Com o Flatten, torna-se um vetor 28x28x128 = 100.352\n",
        "    tf.keras.layers.Dense(512, activation='relu'),\n",
        "    # Camada densa com 512 saídas\n",
        "    tf.keras.layers.Dense(1, activation='sigmoid')\n",
        "    #Camada final com 1 saída sigmoid\n",
        "])\n",
        "\n",
        "# Compilando o modelo\n",
        "model.compile(loss='binary_crossentropy',\n",
        "              optimizer=tf.keras.optimizers.RMSprop(learning_rate=0.001),\n",
        "              metrics=['accuracy'])\n",
        "\n",
        "# Treinamento do modelo\n",
        "history = model.fit(\n",
        "    train_generator,\n",
        "    #steps_per_epoch=100,\n",
        "    epochs=15,\n",
        "    validation_data=validation_generator,\n",
        "    #validation_steps=50\n",
        ")"
      ]
    },
    {
      "cell_type": "code",
      "execution_count": 9,
      "metadata": {},
      "outputs": [
        {
          "name": "stdout",
          "output_type": "stream",
          "text": [
            "Epoch 1/15\n",
            "5/5 [==============================] - 3s 437ms/step - loss: 1962.1484 - accuracy: 0.4938 - val_loss: 0.6924 - val_accuracy: 0.5750\n",
            "Epoch 2/15\n",
            "5/5 [==============================] - 2s 393ms/step - loss: 11.6832 - accuracy: 0.4938 - val_loss: 0.6932 - val_accuracy: 0.5000\n",
            "Epoch 3/15\n",
            "5/5 [==============================] - 2s 396ms/step - loss: 0.9279 - accuracy: 0.5125 - val_loss: 0.6932 - val_accuracy: 0.5000\n",
            "Epoch 4/15\n",
            "5/5 [==============================] - 2s 397ms/step - loss: 0.7166 - accuracy: 0.5562 - val_loss: 0.7003 - val_accuracy: 0.5000\n",
            "Epoch 5/15\n",
            "5/5 [==============================] - 2s 390ms/step - loss: 6.7384 - accuracy: 0.4875 - val_loss: 0.6928 - val_accuracy: 0.5250\n",
            "Epoch 6/15\n",
            "5/5 [==============================] - 2s 386ms/step - loss: 0.9458 - accuracy: 0.5562 - val_loss: 0.6930 - val_accuracy: 0.5000\n",
            "Epoch 7/15\n",
            "5/5 [==============================] - 2s 397ms/step - loss: 2.4421 - accuracy: 0.6375 - val_loss: 0.6933 - val_accuracy: 0.5000\n",
            "Epoch 8/15\n",
            "5/5 [==============================] - 2s 385ms/step - loss: 1.3803 - accuracy: 0.5188 - val_loss: 0.6929 - val_accuracy: 0.5000\n",
            "Epoch 9/15\n",
            "5/5 [==============================] - 2s 388ms/step - loss: 0.6654 - accuracy: 0.5688 - val_loss: 0.6925 - val_accuracy: 0.5250\n",
            "Epoch 10/15\n",
            "5/5 [==============================] - 2s 393ms/step - loss: 0.6668 - accuracy: 0.5562 - val_loss: 0.6921 - val_accuracy: 0.5250\n",
            "Epoch 11/15\n",
            "5/5 [==============================] - 2s 393ms/step - loss: 1.2920 - accuracy: 0.6313 - val_loss: 0.6928 - val_accuracy: 0.5000\n",
            "Epoch 12/15\n",
            "5/5 [==============================] - 2s 395ms/step - loss: 3.6225 - accuracy: 0.4875 - val_loss: 0.6911 - val_accuracy: 0.5250\n",
            "Epoch 13/15\n",
            "5/5 [==============================] - 2s 389ms/step - loss: 6.7151 - accuracy: 0.4500 - val_loss: 0.6929 - val_accuracy: 0.5250\n",
            "Epoch 14/15\n",
            "5/5 [==============================] - 2s 390ms/step - loss: 0.7816 - accuracy: 0.5063 - val_loss: 0.6936 - val_accuracy: 0.5000\n",
            "Epoch 15/15\n",
            "5/5 [==============================] - 2s 389ms/step - loss: 1.1282 - accuracy: 0.5375 - val_loss: 0.6929 - val_accuracy: 0.5250\n"
          ]
        }
      ],
      "source": [
        "model2 = tf.keras.models.Sequential([\n",
        "    tf.keras.layers.Conv2D(32, (3, 3), activation='relu', input_shape=(224, 224, 3)),\n",
        "    tf.keras.layers.MaxPooling2D(2, 2),\n",
        "    tf.keras.layers.Conv2D(64, (3, 3), activation='relu'),\n",
        "    tf.keras.layers.MaxPooling2D(2, 2),\n",
        "    tf.keras.layers.Conv2D(128, (3, 3), activation='relu'),\n",
        "    tf.keras.layers.MaxPooling2D(2, 2),\n",
        "    tf.keras.layers.Conv2D(256, (3, 3), activation='relu'),\n",
        "    tf.keras.layers.MaxPooling2D(2, 2),\n",
        "    tf.keras.layers.Flatten(),\n",
        "    tf.keras.layers.Dense(512, activation='relu'),\n",
        "    tf.keras.layers.Dense(1, activation='sigmoid')\n",
        "])\n",
        "\n",
        "\n",
        "model2.compile(loss='binary_crossentropy',\n",
        "              optimizer=tf.keras.optimizers.RMSprop(learning_rate=0.001),\n",
        "              metrics=['accuracy'])\n",
        "\n",
        "# Treinamento do modelo\n",
        "history_2 = model2.fit(\n",
        "    train_generator,\n",
        "    #steps_per_epoch=100,\n",
        "    epochs=15,\n",
        "    validation_data=validation_generator,\n",
        "    #validation_steps=50\n",
        ")"
      ]
    },
    {
      "cell_type": "code",
      "execution_count": 10,
      "metadata": {},
      "outputs": [
        {
          "name": "stdout",
          "output_type": "stream",
          "text": [
            "Epoch 1/15\n",
            "5/5 [==============================] - 3s 442ms/step - loss: 1096.8387 - accuracy: 0.4437 - val_loss: 0.6933 - val_accuracy: 0.5000\n",
            "Epoch 2/15\n",
            "5/5 [==============================] - 2s 394ms/step - loss: 10.0007 - accuracy: 0.5125 - val_loss: 0.6927 - val_accuracy: 0.5000\n",
            "Epoch 3/15\n",
            "5/5 [==============================] - 2s 382ms/step - loss: 1.5363 - accuracy: 0.5125 - val_loss: 0.6931 - val_accuracy: 0.5000\n",
            "Epoch 4/15\n",
            "5/5 [==============================] - 2s 385ms/step - loss: 1.0654 - accuracy: 0.5375 - val_loss: 0.6928 - val_accuracy: 0.5000\n",
            "Epoch 5/15\n",
            "5/5 [==============================] - 2s 391ms/step - loss: 1.8283 - accuracy: 0.4688 - val_loss: 0.6961 - val_accuracy: 0.5000\n",
            "Epoch 6/15\n",
            "5/5 [==============================] - 2s 390ms/step - loss: 3.6595 - accuracy: 0.5063 - val_loss: 0.6931 - val_accuracy: 0.5250\n",
            "Epoch 7/15\n",
            "5/5 [==============================] - 2s 390ms/step - loss: 0.8495 - accuracy: 0.5000 - val_loss: 0.6928 - val_accuracy: 0.5000\n",
            "Epoch 8/15\n",
            "5/5 [==============================] - 2s 391ms/step - loss: 0.7745 - accuracy: 0.5312 - val_loss: 0.6930 - val_accuracy: 0.5750\n",
            "Epoch 9/15\n",
            "5/5 [==============================] - 2s 384ms/step - loss: 0.7055 - accuracy: 0.5000 - val_loss: 0.6929 - val_accuracy: 0.5000\n",
            "Epoch 10/15\n",
            "5/5 [==============================] - 2s 389ms/step - loss: 0.7239 - accuracy: 0.5063 - val_loss: 0.6931 - val_accuracy: 0.5000\n",
            "Epoch 11/15\n",
            "5/5 [==============================] - 2s 389ms/step - loss: 0.6801 - accuracy: 0.5875 - val_loss: 0.6931 - val_accuracy: 0.5000\n",
            "Epoch 12/15\n",
            "5/5 [==============================] - 2s 379ms/step - loss: 1.1244 - accuracy: 0.5625 - val_loss: 0.6925 - val_accuracy: 0.5000\n",
            "Epoch 13/15\n",
            "5/5 [==============================] - 2s 381ms/step - loss: 3.2825 - accuracy: 0.3938 - val_loss: 0.6932 - val_accuracy: 0.5000\n",
            "Epoch 14/15\n",
            "5/5 [==============================] - 2s 379ms/step - loss: 0.6959 - accuracy: 0.5500 - val_loss: 0.6932 - val_accuracy: 0.5000\n",
            "Epoch 15/15\n",
            "5/5 [==============================] - 2s 395ms/step - loss: 0.7021 - accuracy: 0.5437 - val_loss: 0.6933 - val_accuracy: 0.5000\n"
          ]
        }
      ],
      "source": [
        "model3 = tf.keras.models.Sequential([\n",
        "    tf.keras.layers.Conv2D(32, (5, 5), activation='relu', input_shape=(224, 224, 3)),\n",
        "    tf.keras.layers.MaxPooling2D(2, 2),\n",
        "    tf.keras.layers.Conv2D(64, (5, 5), activation='relu'),\n",
        "    tf.keras.layers.MaxPooling2D(2, 2),\n",
        "    tf.keras.layers.Conv2D(64, (3, 3), activation='relu'),\n",
        "    tf.keras.layers.MaxPooling2D(2, 2),\n",
        "    tf.keras.layers.Conv2D(128, (3, 3), activation='relu'),\n",
        "    tf.keras.layers.MaxPooling2D(2, 2),\n",
        "    tf.keras.layers.Flatten(),\n",
        "    tf.keras.layers.Dense(512, activation='relu'),\n",
        "    tf.keras.layers.Dense(1, activation='sigmoid')\n",
        "])\n",
        "\n",
        "model3.compile(loss='binary_crossentropy',\n",
        "              optimizer=tf.keras.optimizers.RMSprop(learning_rate=0.001),\n",
        "              metrics=['accuracy'])\n",
        "\n",
        "# Treinamento do modelo\n",
        "history_3 = model3.fit(\n",
        "    train_generator,\n",
        "    #steps_per_epoch=100,\n",
        "    epochs=15,\n",
        "    validation_data=validation_generator,\n",
        "    #validation_steps=50\n",
        ")"
      ]
    },
    {
      "cell_type": "markdown",
      "metadata": {
        "id": "-DK-ig2L87xc"
      },
      "source": [
        "### **train_generator**\n",
        "\n",
        "A base de treino é composta por 294 imagens.\n",
        "\n",
        "Em **train_generator**, usamos batch size = 32. Portando, estamos capturando de 32 em 32 imagens.\n",
        "\n",
        "No histórico de treinamento (**history = model.fit(epochs=15)**), estamos considerando um treinamento por 15 épocas.\n",
        "\n",
        "A cada época temos:294 imagens sendo treinadas.\n",
        "\n",
        "Ao concluir a época, os inputs passarão novamente por train_generator. Portanto, a tendência é que sejam 294 imagens diferentes.\n",
        "\n",
        "Logo, a quantidade de imagens * epoch = base de treinamento. Logo, teremos 294 x 15 =  4.410 imagens como base de treino.\n",
        "\n",
        "Já o parâmetro **validation_generator** não está alterando as imagens. Estamos usando 97 imagens para validar."
      ]
    },
    {
      "cell_type": "markdown",
      "metadata": {
        "id": "cV-udwVsCuqk"
      },
      "source": [
        "# Transfer Learning\n",
        "\n",
        "[Documentação e exemplos de redes pré-treinadas](https://www.tensorflow.org/api_docs/python/tf/keras/applications)"
      ]
    },
    {
      "cell_type": "markdown",
      "metadata": {
        "id": "zRuTeYCXEjbj"
      },
      "source": [
        "[MobileNetV2](https://www.tensorflow.org/api_docs/python/tf/keras/applications/mobilenet_v2/MobileNetV2)\n",
        "\n",
        "Input Shape:\n",
        "![image.png](data:image/png;base64,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)"
      ]
    },
    {
      "cell_type": "code",
      "execution_count": 11,
      "metadata": {
        "colab": {
          "base_uri": "https://localhost:8080/"
        },
        "id": "AMJ2R11P-hJO",
        "outputId": "ffff481a-032b-4207-8458-003d6782a65e"
      },
      "outputs": [],
      "source": [
        "MobileNetV2 = tf.keras.applications.MobileNetV2(input_shape=(224, 224, 3),\n",
        "                                               include_top=False,\n",
        "                                               weights='imagenet')\n",
        "#Nao vamos permitir que o valor dos pesos/bias sejam alterados nessa rede\n",
        "MobileNetV2.trainable = False"
      ]
    },
    {
      "cell_type": "code",
      "execution_count": 12,
      "metadata": {
        "id": "80wDO_zvFJ7T"
      },
      "outputs": [],
      "source": [
        "model_TransferLearning_MobileNetV2 = tf.keras.Sequential([\n",
        "    MobileNetV2,\n",
        "    tf.keras.layers.GlobalAveragePooling2D(),\n",
        "    tf.keras.layers.Dense(128, activation='relu'),\n",
        "    tf.keras.layers.Dense(1, activation='sigmoid')  # Substitua num_classes pelo número de classes em seu problema\n",
        "])"
      ]
    },
    {
      "cell_type": "code",
      "execution_count": 13,
      "metadata": {
        "colab": {
          "base_uri": "https://localhost:8080/"
        },
        "id": "vjUbkSS7F-82",
        "outputId": "1ecece71-8cc1-46ba-fc23-c1a33c0904b0"
      },
      "outputs": [
        {
          "name": "stdout",
          "output_type": "stream",
          "text": [
            "Epoch 1/15\n",
            "5/5 [==============================] - 3s 444ms/step - loss: 2.0037 - accuracy: 0.4500 - val_loss: 0.8410 - val_accuracy: 0.4500\n",
            "Epoch 2/15\n",
            "5/5 [==============================] - 2s 326ms/step - loss: 0.7777 - accuracy: 0.5562 - val_loss: 0.7510 - val_accuracy: 0.4500\n",
            "Epoch 3/15\n",
            "5/5 [==============================] - 2s 327ms/step - loss: 0.6307 - accuracy: 0.6250 - val_loss: 0.7870 - val_accuracy: 0.5000\n",
            "Epoch 4/15\n",
            "5/5 [==============================] - 2s 330ms/step - loss: 0.7673 - accuracy: 0.5750 - val_loss: 0.8032 - val_accuracy: 0.5000\n",
            "Epoch 5/15\n",
            "5/5 [==============================] - 2s 336ms/step - loss: 0.6783 - accuracy: 0.5875 - val_loss: 0.7411 - val_accuracy: 0.5250\n",
            "Epoch 6/15\n",
            "5/5 [==============================] - 2s 328ms/step - loss: 0.6834 - accuracy: 0.5625 - val_loss: 0.8161 - val_accuracy: 0.5250\n",
            "Epoch 7/15\n",
            "5/5 [==============================] - 2s 332ms/step - loss: 0.7456 - accuracy: 0.5500 - val_loss: 0.7264 - val_accuracy: 0.5750\n",
            "Epoch 8/15\n",
            "5/5 [==============================] - 2s 327ms/step - loss: 0.6043 - accuracy: 0.6500 - val_loss: 1.0317 - val_accuracy: 0.5000\n",
            "Epoch 9/15\n",
            "5/5 [==============================] - 2s 328ms/step - loss: 0.6812 - accuracy: 0.6562 - val_loss: 0.7778 - val_accuracy: 0.5750\n",
            "Epoch 10/15\n",
            "5/5 [==============================] - 2s 329ms/step - loss: 0.5719 - accuracy: 0.6812 - val_loss: 0.8735 - val_accuracy: 0.5500\n",
            "Epoch 11/15\n",
            "5/5 [==============================] - 2s 329ms/step - loss: 0.7620 - accuracy: 0.5813 - val_loss: 0.8489 - val_accuracy: 0.5500\n",
            "Epoch 12/15\n",
            "5/5 [==============================] - 2s 330ms/step - loss: 0.5514 - accuracy: 0.7437 - val_loss: 1.3256 - val_accuracy: 0.5000\n",
            "Epoch 13/15\n",
            "5/5 [==============================] - 2s 327ms/step - loss: 0.6164 - accuracy: 0.6562 - val_loss: 1.0200 - val_accuracy: 0.5000\n",
            "Epoch 14/15\n",
            "5/5 [==============================] - 2s 329ms/step - loss: 0.5634 - accuracy: 0.6875 - val_loss: 0.9438 - val_accuracy: 0.5000\n",
            "Epoch 15/15\n",
            "5/5 [==============================] - 2s 322ms/step - loss: 0.7082 - accuracy: 0.6187 - val_loss: 0.8585 - val_accuracy: 0.5500\n"
          ]
        }
      ],
      "source": [
        "# Compilando o modelo\n",
        "model_TransferLearning_MobileNetV2.compile(loss='binary_crossentropy',\n",
        "              optimizer=tf.keras.optimizers.RMSprop(learning_rate=0.001),\n",
        "              metrics=['accuracy'])\n",
        "\n",
        "# Treinamento do modelo\n",
        "history_MobileNetV2 = model_TransferLearning_MobileNetV2.fit(\n",
        "    train_generator,\n",
        "    #steps_per_epoch=100,\n",
        "    epochs=15,\n",
        "    validation_data=validation_generator,\n",
        "    #validation_steps=50\n",
        ")"
      ]
    },
    {
      "cell_type": "markdown",
      "metadata": {
        "id": "4HvEntWCLmTi"
      },
      "source": [
        "# DenseNEt"
      ]
    },
    {
      "cell_type": "code",
      "execution_count": 14,
      "metadata": {
        "colab": {
          "base_uri": "https://localhost:8080/"
        },
        "id": "fwOEqzO6LnWY",
        "outputId": "b9f029eb-4689-4177-dd05-17ba27503302"
      },
      "outputs": [],
      "source": [
        "DenseNet = tf.keras.applications.densenet.DenseNet201(input_shape=(224, 224, 3),\n",
        "                                               include_top=False,\n",
        "                                               weights='imagenet')\n",
        "#Nao vamos permitir que o valor dos pesos/bias sejam alterados nessa rede\n",
        "DenseNet.trainable = False"
      ]
    },
    {
      "cell_type": "code",
      "execution_count": 15,
      "metadata": {
        "id": "yLm-ZIOtLwj8"
      },
      "outputs": [],
      "source": [
        "model_TransferLearning_DenseNet = tf.keras.Sequential([\n",
        "    DenseNet,\n",
        "    tf.keras.layers.GlobalAveragePooling2D(),\n",
        "    tf.keras.layers.Dense(128, activation='relu'),\n",
        "    tf.keras.layers.Dense(1, activation='sigmoid')  # Substitua num_classes pelo número de classes em seu problema\n",
        "])"
      ]
    },
    {
      "cell_type": "code",
      "execution_count": 16,
      "metadata": {
        "colab": {
          "base_uri": "https://localhost:8080/"
        },
        "id": "9nCE5970L0qo",
        "outputId": "457fae24-cf1f-4516-b635-f0c5dbee5d41"
      },
      "outputs": [
        {
          "name": "stdout",
          "output_type": "stream",
          "text": [
            "Epoch 1/15\n",
            "5/5 [==============================] - 8s 1s/step - loss: 5.1952 - accuracy: 0.5188 - val_loss: 0.9490 - val_accuracy: 0.5000\n",
            "Epoch 2/15\n",
            "5/5 [==============================] - 3s 609ms/step - loss: 1.6801 - accuracy: 0.5938 - val_loss: 0.8071 - val_accuracy: 0.5250\n",
            "Epoch 3/15\n",
            "5/5 [==============================] - 3s 607ms/step - loss: 0.6535 - accuracy: 0.7125 - val_loss: 0.8735 - val_accuracy: 0.5000\n",
            "Epoch 4/15\n",
            "5/5 [==============================] - 3s 603ms/step - loss: 0.9697 - accuracy: 0.6125 - val_loss: 0.7397 - val_accuracy: 0.5500\n",
            "Epoch 5/15\n",
            "5/5 [==============================] - 3s 604ms/step - loss: 0.5703 - accuracy: 0.7125 - val_loss: 0.8032 - val_accuracy: 0.5000\n",
            "Epoch 6/15\n",
            "5/5 [==============================] - 3s 601ms/step - loss: 0.6738 - accuracy: 0.7250 - val_loss: 0.8900 - val_accuracy: 0.5000\n",
            "Epoch 7/15\n",
            "5/5 [==============================] - 3s 601ms/step - loss: 0.6348 - accuracy: 0.7250 - val_loss: 0.6869 - val_accuracy: 0.5750\n",
            "Epoch 8/15\n",
            "5/5 [==============================] - 3s 600ms/step - loss: 0.4460 - accuracy: 0.7812 - val_loss: 0.6960 - val_accuracy: 0.5250\n",
            "Epoch 9/15\n",
            "5/5 [==============================] - 3s 609ms/step - loss: 0.8092 - accuracy: 0.7000 - val_loss: 0.6943 - val_accuracy: 0.5750\n",
            "Epoch 10/15\n",
            "5/5 [==============================] - 3s 594ms/step - loss: 0.4550 - accuracy: 0.7812 - val_loss: 0.8486 - val_accuracy: 0.5000\n",
            "Epoch 11/15\n",
            "5/5 [==============================] - 3s 597ms/step - loss: 0.4096 - accuracy: 0.8188 - val_loss: 0.6667 - val_accuracy: 0.5500\n",
            "Epoch 12/15\n",
            "5/5 [==============================] - 3s 599ms/step - loss: 0.4125 - accuracy: 0.8188 - val_loss: 0.7254 - val_accuracy: 0.5000\n",
            "Epoch 13/15\n",
            "5/5 [==============================] - 3s 603ms/step - loss: 0.3105 - accuracy: 0.8875 - val_loss: 0.6858 - val_accuracy: 0.5750\n",
            "Epoch 14/15\n",
            "5/5 [==============================] - 3s 601ms/step - loss: 0.8740 - accuracy: 0.6687 - val_loss: 0.7024 - val_accuracy: 0.5000\n",
            "Epoch 15/15\n",
            "5/5 [==============================] - 3s 603ms/step - loss: 0.3695 - accuracy: 0.8125 - val_loss: 0.6641 - val_accuracy: 0.6000\n"
          ]
        }
      ],
      "source": [
        "# Compilando o modelo\n",
        "model_TransferLearning_DenseNet.compile(loss='binary_crossentropy',\n",
        "              optimizer=tf.keras.optimizers.RMSprop(learning_rate=0.001),\n",
        "              metrics=['accuracy'])\n",
        "\n",
        "# Treinamento do modelo\n",
        "history_DenseNet = model_TransferLearning_DenseNet.fit(\n",
        "    train_generator,\n",
        "    #steps_per_epoch=100,\n",
        "    epochs=15,\n",
        "    validation_data=validation_generator,\n",
        "    #validation_steps=50\n",
        ")"
      ]
    },
    {
      "cell_type": "markdown",
      "metadata": {
        "id": "qBSIMr4u-xkn"
      },
      "source": [
        "# Avaliando"
      ]
    },
    {
      "cell_type": "code",
      "execution_count": 17,
      "metadata": {
        "id": "yzTdnijz_neB"
      },
      "outputs": [],
      "source": [
        "import os"
      ]
    },
    {
      "cell_type": "code",
      "execution_count": 18,
      "metadata": {
        "id": "HwOhfKXXL65Q"
      },
      "outputs": [],
      "source": [
        "cheetahs = ['archive/test/Cheetahs/'+f for f in os.listdir('archive/test/Cheetahs')]"
      ]
    },
    {
      "cell_type": "code",
      "execution_count": 19,
      "metadata": {
        "id": "I72F7r7Y_flJ"
      },
      "outputs": [],
      "source": [
        "lions = ['archive/test/Lions/'+f for f in os.listdir('archive/test/Lions')]"
      ]
    },
    {
      "cell_type": "code",
      "execution_count": 20,
      "metadata": {
        "colab": {
          "base_uri": "https://localhost:8080/",
          "height": 35
        },
        "id": "SmnYkvQEL0Ey",
        "outputId": "27b57a8d-80ba-49a6-b4ec-85a1cc263605"
      },
      "outputs": [
        {
          "data": {
            "text/plain": [
              "'archive/test/Cheetahs/02a0439923768403.jpg'"
            ]
          },
          "execution_count": 20,
          "metadata": {},
          "output_type": "execute_result"
        }
      ],
      "source": [
        "cheetahs[0]"
      ]
    },
    {
      "cell_type": "code",
      "execution_count": 21,
      "metadata": {
        "id": "ld8VWnsfAIaA"
      },
      "outputs": [],
      "source": [
        "from PIL import Image\n",
        "\n",
        "# Carrega a imagem\n",
        "image_path = cheetahs[0]\n",
        "image = Image.open(image_path).convert(\"RGB\")\n",
        "\n",
        "image = image.resize((224, 224))\n",
        "\n",
        "# Converte a imagem para um array numpy e normaliza os valores de pixel\n",
        "import numpy as np\n",
        "\n",
        "image_array = np.array(image)"
      ]
    },
    {
      "cell_type": "code",
      "execution_count": 22,
      "metadata": {
        "id": "H17cfiuiAUoD"
      },
      "outputs": [],
      "source": [
        "image_array = np.array(image) / 255.0 \n",
        "input_image = np.expand_dims(image_array, axis=0)"
      ]
    },
    {
      "cell_type": "code",
      "execution_count": 23,
      "metadata": {
        "colab": {
          "base_uri": "https://localhost:8080/"
        },
        "id": "INucIq9dAfPh",
        "outputId": "d9ca80ee-8b42-4ead-dbaa-582d71c842c2"
      },
      "outputs": [
        {
          "name": "stdout",
          "output_type": "stream",
          "text": [
            "1/1 [==============================] - 0s 50ms/step\n"
          ]
        }
      ],
      "source": [
        "# Faça a previsão usando o modelo\n",
        "predictions = model.predict(input_image)\n",
        "\n",
        "# Decodifique as previsões (dependendo do seu problema, pode ser necessário um passo adicional de decodificação)\n",
        "classe_predita = np.argmax(predictions, axis=1)[0]"
      ]
    },
    {
      "cell_type": "markdown",
      "metadata": {
        "id": "_nyCxyoqMEd7"
      },
      "source": [
        "# Preditos\n",
        "\n",
        "A classe que aparece primeiro no diretorio vale 0 e a segunda vale 1. Portanto 0 = apple e 1 = tomatoes."
      ]
    },
    {
      "cell_type": "code",
      "execution_count": 26,
      "metadata": {
        "colab": {
          "base_uri": "https://localhost:8080/"
        },
        "id": "K0u2GjHiMFLe",
        "outputId": "82c09535-ce40-4b3e-a42e-03eff07950e9"
      },
      "outputs": [
        {
          "name": "stdout",
          "output_type": "stream",
          "text": [
            "1/1 [==============================] - 0s 14ms/step\n"
          ]
        },
        {
          "name": "stdout",
          "output_type": "stream",
          "text": [
            "1/1 [==============================] - 0s 19ms/step\n",
            "1/1 [==============================] - 0s 42ms/step\n",
            "1/1 [==============================] - 0s 11ms/step\n",
            "1/1 [==============================] - 0s 11ms/step\n",
            "1/1 [==============================] - 0s 13ms/step\n"
          ]
        },
        {
          "name": "stderr",
          "output_type": "stream",
          "text": [
            "/tmp/ipykernel_1132467/3929110284.py:10: DeprecationWarning: Conversion of an array with ndim > 0 to a scalar is deprecated, and will error in future. Ensure you extract a single element from your array before performing this operation. (Deprecated NumPy 1.25.)\n",
            "  if float(predictions) > 0.5:\n",
            "/tmp/ipykernel_1132467/3929110284.py:16: DeprecationWarning: Conversion of an array with ndim > 0 to a scalar is deprecated, and will error in future. Ensure you extract a single element from your array before performing this operation. (Deprecated NumPy 1.25.)\n",
            "  if float(predictions2) > 0.5:\n",
            "/tmp/ipykernel_1132467/3929110284.py:22: DeprecationWarning: Conversion of an array with ndim > 0 to a scalar is deprecated, and will error in future. Ensure you extract a single element from your array before performing this operation. (Deprecated NumPy 1.25.)\n",
            "  if float(predictions3) > 0.5:\n",
            "/tmp/ipykernel_1132467/3929110284.py:28: DeprecationWarning: Conversion of an array with ndim > 0 to a scalar is deprecated, and will error in future. Ensure you extract a single element from your array before performing this operation. (Deprecated NumPy 1.25.)\n",
            "  if float(predictions) > 0.5:\n",
            "/tmp/ipykernel_1132467/3929110284.py:34: DeprecationWarning: Conversion of an array with ndim > 0 to a scalar is deprecated, and will error in future. Ensure you extract a single element from your array before performing this operation. (Deprecated NumPy 1.25.)\n",
            "  if float(predictions) > 0.5:\n"
          ]
        },
        {
          "name": "stdout",
          "output_type": "stream",
          "text": [
            "1/1 [==============================] - 0s 15ms/step\n",
            "1/1 [==============================] - 0s 43ms/step\n",
            "1/1 [==============================] - 0s 11ms/step\n",
            "1/1 [==============================] - 0s 11ms/step\n",
            "1/1 [==============================] - 0s 13ms/step\n",
            "1/1 [==============================] - 0s 14ms/step\n",
            "1/1 [==============================] - 0s 43ms/step\n",
            "1/1 [==============================] - 0s 11ms/step\n",
            "1/1 [==============================] - 0s 11ms/step\n",
            "1/1 [==============================] - 0s 13ms/step\n",
            "1/1 [==============================] - 0s 14ms/step\n",
            "1/1 [==============================] - 0s 43ms/step\n",
            "1/1 [==============================] - 0s 11ms/step\n",
            "1/1 [==============================] - 0s 11ms/step\n",
            "1/1 [==============================] - 0s 12ms/step\n",
            "1/1 [==============================] - 0s 14ms/step\n",
            "1/1 [==============================] - 0s 41ms/step\n",
            "1/1 [==============================] - 0s 12ms/step\n",
            "1/1 [==============================] - 0s 11ms/step\n",
            "1/1 [==============================] - 0s 13ms/step\n",
            "1/1 [==============================] - 0s 14ms/step\n",
            "1/1 [==============================] - 0s 41ms/step\n",
            "1/1 [==============================] - 0s 11ms/step\n",
            "1/1 [==============================] - 0s 10ms/step\n",
            "1/1 [==============================] - 0s 13ms/step\n",
            "1/1 [==============================] - 0s 14ms/step\n",
            "1/1 [==============================] - 0s 46ms/step\n",
            "1/1 [==============================] - 0s 11ms/step\n",
            "1/1 [==============================] - 0s 10ms/step\n",
            "1/1 [==============================] - 0s 12ms/step\n",
            "1/1 [==============================] - 0s 13ms/step\n",
            "1/1 [==============================] - 0s 41ms/step\n",
            "1/1 [==============================] - 0s 11ms/step\n",
            "1/1 [==============================] - 0s 10ms/step\n",
            "1/1 [==============================] - 0s 12ms/step\n",
            "1/1 [==============================] - 0s 14ms/step\n",
            "1/1 [==============================] - 0s 40ms/step\n",
            "1/1 [==============================] - 0s 11ms/step\n",
            "1/1 [==============================] - 0s 10ms/step\n",
            "1/1 [==============================] - 0s 12ms/step\n",
            "1/1 [==============================] - 0s 14ms/step\n",
            "1/1 [==============================] - 0s 40ms/step\n",
            "1/1 [==============================] - 0s 11ms/step\n",
            "1/1 [==============================] - 0s 11ms/step\n",
            "1/1 [==============================] - 0s 13ms/step\n",
            "1/1 [==============================] - 0s 15ms/step\n",
            "1/1 [==============================] - 0s 40ms/step\n",
            "1/1 [==============================] - 0s 11ms/step\n",
            "1/1 [==============================] - 0s 10ms/step\n",
            "1/1 [==============================] - 0s 12ms/step\n",
            "1/1 [==============================] - 0s 14ms/step\n",
            "1/1 [==============================] - 0s 40ms/step\n",
            "1/1 [==============================] - 0s 12ms/step\n",
            "1/1 [==============================] - 0s 11ms/step\n",
            "1/1 [==============================] - 0s 13ms/step\n",
            "1/1 [==============================] - 0s 14ms/step\n",
            "1/1 [==============================] - 0s 43ms/step\n",
            "1/1 [==============================] - 0s 11ms/step\n",
            "1/1 [==============================] - 0s 13ms/step\n",
            "1/1 [==============================] - 0s 13ms/step\n",
            "1/1 [==============================] - 0s 14ms/step\n",
            "1/1 [==============================] - 0s 40ms/step\n",
            "1/1 [==============================] - 0s 11ms/step\n",
            "1/1 [==============================] - 0s 11ms/step\n",
            "1/1 [==============================] - 0s 13ms/step\n",
            "1/1 [==============================] - 0s 14ms/step\n",
            "1/1 [==============================] - 0s 41ms/step\n",
            "1/1 [==============================] - 0s 12ms/step\n",
            "1/1 [==============================] - 0s 10ms/step\n",
            "1/1 [==============================] - 0s 12ms/step\n",
            "1/1 [==============================] - 0s 14ms/step\n",
            "1/1 [==============================] - 0s 39ms/step\n",
            "1/1 [==============================] - 0s 11ms/step\n",
            "1/1 [==============================] - 0s 10ms/step\n",
            "1/1 [==============================] - 0s 12ms/step\n",
            "1/1 [==============================] - 0s 14ms/step\n",
            "1/1 [==============================] - 0s 43ms/step\n",
            "1/1 [==============================] - 0s 12ms/step\n",
            "1/1 [==============================] - 0s 11ms/step\n",
            "1/1 [==============================] - 0s 13ms/step\n",
            "1/1 [==============================] - 0s 14ms/step\n",
            "1/1 [==============================] - 0s 41ms/step\n",
            "1/1 [==============================] - 0s 11ms/step\n",
            "1/1 [==============================] - 0s 10ms/step\n",
            "1/1 [==============================] - 0s 13ms/step\n",
            "1/1 [==============================] - 0s 14ms/step\n",
            "1/1 [==============================] - 0s 39ms/step\n",
            "1/1 [==============================] - 0s 11ms/step\n",
            "1/1 [==============================] - 0s 10ms/step\n",
            "1/1 [==============================] - 0s 13ms/step\n",
            "1/1 [==============================] - 0s 41ms/step\n",
            "1/1 [==============================] - 0s 41ms/step\n",
            "1/1 [==============================] - 0s 11ms/step\n",
            "1/1 [==============================] - 0s 10ms/step\n"
          ]
        }
      ],
      "source": [
        "animals,path,model_1,model_2,model_3,model_Mobile,model_DnsNet = [],[],[],[],[],[],[]\n",
        "\n",
        "for image_path in cheetahs:\n",
        "  image = Image.open(image_path).convert(\"RGB\")\n",
        "  image = image.resize((224, 224))\n",
        "  image_array = np.array(image) / 255.0  # Normalize para [0,1]\n",
        "  input_image = np.expand_dims(image_array, axis=0)\n",
        "\n",
        "  predictions = model.predict(input_image)\n",
        "  if float(predictions) > 0.5:\n",
        "    classe_predita = 1\n",
        "  else:\n",
        "    classe_predita = 0\n",
        "\n",
        "  predictions2 = model_TransferLearning_MobileNetV2.predict(input_image)\n",
        "  if float(predictions2) > 0.5:\n",
        "    classe_predita2 = 1\n",
        "  else:\n",
        "    classe_predita2 = 0\n",
        "\n",
        "  predictions3 = model_TransferLearning_DenseNet.predict(input_image)\n",
        "  if float(predictions3) > 0.5:\n",
        "    classe_predita3 = 1\n",
        "  else:\n",
        "    classe_predita3 = 0\n",
        "  \n",
        "  predictions = model2.predict(input_image)\n",
        "  if float(predictions) > 0.5:\n",
        "    classe_predita4 = 1\n",
        "  else:\n",
        "    classe_predita4 = 0\n",
        "\n",
        "  predictions = model3.predict(input_image)\n",
        "  if float(predictions) > 0.5:\n",
        "    classe_predita5 = 1\n",
        "  else:\n",
        "    classe_predita5 = 0\n",
        "\n",
        "\n",
        "\n",
        "  animals.append('cheetahs')\n",
        "  path.append(image_path)\n",
        "  model_1.append(classe_predita)\n",
        "  model_Mobile.append(classe_predita2)\n",
        "  model_DnsNet.append(classe_predita3)\n",
        "  model_2.append(classe_predita4)\n",
        "  model_3.append(classe_predita5)"
      ]
    },
    {
      "cell_type": "code",
      "execution_count": null,
      "metadata": {
        "colab": {
          "base_uri": "https://localhost:8080/"
        },
        "id": "KoMz0RovM4BA",
        "outputId": "44df9ac9-abc1-4555-ca48-7eec6d544f0b"
      },
      "outputs": [
        {
          "data": {
            "text/plain": [
              "(20, 20, 20, 20, 20, 20)"
            ]
          },
          "execution_count": 39,
          "metadata": {},
          "output_type": "execute_result"
        }
      ],
      "source": [
        "len(animals),len(model_1),len(model_2),len(model_3),len(model_Mobile),len(model_DnsNet)"
      ]
    },
    {
      "cell_type": "code",
      "execution_count": 27,
      "metadata": {
        "colab": {
          "base_uri": "https://localhost:8080/"
        },
        "id": "grM5_vh_MwtQ",
        "outputId": "d66c46fb-f497-405f-e598-705b5a369232"
      },
      "outputs": [
        {
          "name": "stdout",
          "output_type": "stream",
          "text": [
            "1/1 [==============================] - 0s 17ms/step\n",
            "1/1 [==============================] - 0s 16ms/step\n",
            "1/1 [==============================] - 0s 43ms/step\n",
            "1/1 [==============================] - 0s 11ms/step\n",
            "1/1 [==============================] - 0s 11ms/step\n",
            "1/1 [==============================] - 0s 13ms/step\n"
          ]
        },
        {
          "name": "stderr",
          "output_type": "stream",
          "text": [
            "/tmp/ipykernel_1132467/4088419180.py:8: DeprecationWarning: Conversion of an array with ndim > 0 to a scalar is deprecated, and will error in future. Ensure you extract a single element from your array before performing this operation. (Deprecated NumPy 1.25.)\n",
            "  if float(predictions) > 0.5:\n",
            "/tmp/ipykernel_1132467/4088419180.py:14: DeprecationWarning: Conversion of an array with ndim > 0 to a scalar is deprecated, and will error in future. Ensure you extract a single element from your array before performing this operation. (Deprecated NumPy 1.25.)\n",
            "  if float(predictions2) > 0.5:\n",
            "/tmp/ipykernel_1132467/4088419180.py:20: DeprecationWarning: Conversion of an array with ndim > 0 to a scalar is deprecated, and will error in future. Ensure you extract a single element from your array before performing this operation. (Deprecated NumPy 1.25.)\n",
            "  if float(predictions3) > 0.5:\n",
            "/tmp/ipykernel_1132467/4088419180.py:26: DeprecationWarning: Conversion of an array with ndim > 0 to a scalar is deprecated, and will error in future. Ensure you extract a single element from your array before performing this operation. (Deprecated NumPy 1.25.)\n",
            "  if float(predictions) > 0.5:\n",
            "/tmp/ipykernel_1132467/4088419180.py:32: DeprecationWarning: Conversion of an array with ndim > 0 to a scalar is deprecated, and will error in future. Ensure you extract a single element from your array before performing this operation. (Deprecated NumPy 1.25.)\n",
            "  if float(predictions) > 0.5:\n"
          ]
        },
        {
          "name": "stdout",
          "output_type": "stream",
          "text": [
            "1/1 [==============================] - 0s 15ms/step\n",
            "1/1 [==============================] - 0s 43ms/step\n",
            "1/1 [==============================] - 0s 11ms/step\n",
            "1/1 [==============================] - 0s 11ms/step\n",
            "1/1 [==============================] - 0s 13ms/step\n",
            "1/1 [==============================] - 0s 14ms/step\n",
            "1/1 [==============================] - 0s 41ms/step\n",
            "1/1 [==============================] - 0s 11ms/step\n",
            "1/1 [==============================] - 0s 11ms/step\n",
            "1/1 [==============================] - 0s 13ms/step\n",
            "1/1 [==============================] - 0s 14ms/step\n",
            "1/1 [==============================] - 0s 40ms/step\n",
            "1/1 [==============================] - 0s 11ms/step\n",
            "1/1 [==============================] - 0s 10ms/step\n",
            "1/1 [==============================] - 0s 13ms/step\n",
            "1/1 [==============================] - 0s 15ms/step\n",
            "1/1 [==============================] - 0s 43ms/step\n",
            "1/1 [==============================] - 0s 12ms/step\n",
            "1/1 [==============================] - 0s 11ms/step\n",
            "1/1 [==============================] - 0s 12ms/step\n",
            "1/1 [==============================] - 0s 14ms/step\n",
            "1/1 [==============================] - 0s 43ms/step\n",
            "1/1 [==============================] - 0s 12ms/step\n",
            "1/1 [==============================] - 0s 10ms/step\n",
            "1/1 [==============================] - 0s 12ms/step\n",
            "1/1 [==============================] - 0s 14ms/step\n",
            "1/1 [==============================] - 0s 41ms/step\n",
            "1/1 [==============================] - 0s 12ms/step\n",
            "1/1 [==============================] - 0s 10ms/step\n",
            "1/1 [==============================] - 0s 12ms/step\n",
            "1/1 [==============================] - 0s 15ms/step\n",
            "1/1 [==============================] - 0s 41ms/step\n",
            "1/1 [==============================] - 0s 11ms/step\n",
            "1/1 [==============================] - 0s 11ms/step\n",
            "1/1 [==============================] - 0s 13ms/step\n",
            "1/1 [==============================] - 0s 14ms/step\n",
            "1/1 [==============================] - 0s 40ms/step\n",
            "1/1 [==============================] - 0s 11ms/step\n",
            "1/1 [==============================] - 0s 10ms/step\n",
            "1/1 [==============================] - 0s 12ms/step\n",
            "1/1 [==============================] - 0s 15ms/step\n",
            "1/1 [==============================] - 0s 39ms/step\n",
            "1/1 [==============================] - 0s 11ms/step\n",
            "1/1 [==============================] - 0s 11ms/step\n",
            "1/1 [==============================] - 0s 13ms/step\n",
            "1/1 [==============================] - 0s 14ms/step\n",
            "1/1 [==============================] - 0s 49ms/step\n",
            "1/1 [==============================] - 0s 11ms/step\n",
            "1/1 [==============================] - 0s 11ms/step\n",
            "1/1 [==============================] - 0s 12ms/step\n",
            "1/1 [==============================] - 0s 14ms/step\n",
            "1/1 [==============================] - 0s 41ms/step\n",
            "1/1 [==============================] - 0s 11ms/step\n",
            "1/1 [==============================] - 0s 11ms/step\n",
            "1/1 [==============================] - 0s 13ms/step\n",
            "1/1 [==============================] - 0s 14ms/step\n",
            "1/1 [==============================] - 0s 43ms/step\n",
            "1/1 [==============================] - 0s 12ms/step\n",
            "1/1 [==============================] - 0s 10ms/step\n",
            "1/1 [==============================] - 0s 12ms/step\n",
            "1/1 [==============================] - 0s 14ms/step\n",
            "1/1 [==============================] - 0s 41ms/step\n",
            "1/1 [==============================] - 0s 11ms/step\n",
            "1/1 [==============================] - 0s 10ms/step\n",
            "1/1 [==============================] - 0s 12ms/step\n",
            "1/1 [==============================] - 0s 14ms/step\n",
            "1/1 [==============================] - 0s 40ms/step\n",
            "1/1 [==============================] - 0s 11ms/step\n",
            "1/1 [==============================] - 0s 10ms/step\n",
            "1/1 [==============================] - 0s 13ms/step\n",
            "1/1 [==============================] - 0s 14ms/step\n",
            "1/1 [==============================] - 0s 39ms/step\n",
            "1/1 [==============================] - 0s 11ms/step\n",
            "1/1 [==============================] - 0s 10ms/step\n",
            "1/1 [==============================] - 0s 12ms/step\n",
            "1/1 [==============================] - 0s 14ms/step\n",
            "1/1 [==============================] - 0s 40ms/step\n",
            "1/1 [==============================] - 0s 12ms/step\n",
            "1/1 [==============================] - 0s 11ms/step\n",
            "1/1 [==============================] - 0s 12ms/step\n",
            "1/1 [==============================] - 0s 14ms/step\n",
            "1/1 [==============================] - 0s 41ms/step\n",
            "1/1 [==============================] - 0s 11ms/step\n",
            "1/1 [==============================] - 0s 11ms/step\n",
            "1/1 [==============================] - 0s 12ms/step\n",
            "1/1 [==============================] - 0s 14ms/step\n",
            "1/1 [==============================] - 0s 40ms/step\n",
            "1/1 [==============================] - 0s 11ms/step\n",
            "1/1 [==============================] - 0s 11ms/step\n",
            "1/1 [==============================] - 0s 13ms/step\n",
            "1/1 [==============================] - 0s 15ms/step\n",
            "1/1 [==============================] - 0s 42ms/step\n",
            "1/1 [==============================] - 0s 11ms/step\n",
            "1/1 [==============================] - 0s 10ms/step\n"
          ]
        }
      ],
      "source": [
        "for image_path in lions:\n",
        "  image = Image.open(image_path).convert(\"RGB\")\n",
        "  image = image.resize((224, 224))\n",
        "  image_array = np.array(image) / 255.0  # Normalize para [0,1]\n",
        "  input_image = np.expand_dims(image_array, axis=0)\n",
        "\n",
        "  predictions = model.predict(input_image)\n",
        "  if float(predictions) > 0.5:\n",
        "    classe_predita = 1\n",
        "  else:\n",
        "    classe_predita = 0\n",
        "\n",
        "  predictions2 = model_TransferLearning_MobileNetV2.predict(input_image)\n",
        "  if float(predictions2) > 0.5:\n",
        "    classe_predita2 = 1\n",
        "  else:\n",
        "    classe_predita2 = 0\n",
        "\n",
        "  predictions3 = model_TransferLearning_DenseNet.predict(input_image)\n",
        "  if float(predictions3) > 0.5:\n",
        "    classe_predita3 = 1\n",
        "  else:\n",
        "    classe_predita3 = 0\n",
        "\n",
        "  predictions = model2.predict(input_image)\n",
        "  if float(predictions) > 0.5:\n",
        "    classe_predita4 = 1\n",
        "  else:\n",
        "    classe_predita4 = 0\n",
        "\n",
        "  predictions = model3.predict(input_image)\n",
        "  if float(predictions) > 0.5:\n",
        "    classe_predita5 = 1\n",
        "  else:\n",
        "    classe_predita5 = 0\n",
        "\n",
        "\n",
        "\n",
        "  animals.append('lions')\n",
        "  path.append(image_path)\n",
        "  model_1.append(classe_predita)\n",
        "  model_Mobile.append(classe_predita2)\n",
        "  model_DnsNet.append(classe_predita3)\n",
        "  model_2.append(classe_predita4)\n",
        "  model_3.append(classe_predita5)"
      ]
    },
    {
      "cell_type": "code",
      "execution_count": 28,
      "metadata": {
        "colab": {
          "base_uri": "https://localhost:8080/"
        },
        "id": "3GXB4rWkM-nw",
        "outputId": "814c5d22-7856-4276-84ec-2bb779573ed7"
      },
      "outputs": [
        {
          "data": {
            "text/plain": [
              "(40, 40, 40, 40, 40, 40)"
            ]
          },
          "execution_count": 28,
          "metadata": {},
          "output_type": "execute_result"
        }
      ],
      "source": [
        "len(animals),len(model_1),len(model_2),len(model_3),len(model_Mobile),len(model_DnsNet)"
      ]
    },
    {
      "cell_type": "code",
      "execution_count": 29,
      "metadata": {
        "colab": {
          "base_uri": "https://localhost:8080/",
          "height": 423
        },
        "id": "olxIfzHBM-3W",
        "outputId": "8d549ff5-06d1-4465-8583-5080c8b0dcd7"
      },
      "outputs": [
        {
          "data": {
            "text/html": [
              "<div>\n",
              "<style scoped>\n",
              "    .dataframe tbody tr th:only-of-type {\n",
              "        vertical-align: middle;\n",
              "    }\n",
              "\n",
              "    .dataframe tbody tr th {\n",
              "        vertical-align: top;\n",
              "    }\n",
              "\n",
              "    .dataframe thead th {\n",
              "        text-align: right;\n",
              "    }\n",
              "</style>\n",
              "<table border=\"1\" class=\"dataframe\">\n",
              "  <thead>\n",
              "    <tr style=\"text-align: right;\">\n",
              "      <th></th>\n",
              "      <th>animals</th>\n",
              "      <th>model_1</th>\n",
              "      <th>model_2</th>\n",
              "      <th>model_3</th>\n",
              "      <th>model_Mobile</th>\n",
              "      <th>model_DnsNet</th>\n",
              "      <th>path</th>\n",
              "    </tr>\n",
              "  </thead>\n",
              "  <tbody>\n",
              "    <tr>\n",
              "      <th>0</th>\n",
              "      <td>cheetahs</td>\n",
              "      <td>0</td>\n",
              "      <td>1</td>\n",
              "      <td>0</td>\n",
              "      <td>1</td>\n",
              "      <td>1</td>\n",
              "      <td>archive/test/Cheetahs/02a0439923768403.jpg</td>\n",
              "    </tr>\n",
              "    <tr>\n",
              "      <th>1</th>\n",
              "      <td>cheetahs</td>\n",
              "      <td>1</td>\n",
              "      <td>1</td>\n",
              "      <td>0</td>\n",
              "      <td>1</td>\n",
              "      <td>0</td>\n",
              "      <td>archive/test/Cheetahs/0db6601682a368e8.jpg</td>\n",
              "    </tr>\n",
              "    <tr>\n",
              "      <th>2</th>\n",
              "      <td>cheetahs</td>\n",
              "      <td>0</td>\n",
              "      <td>0</td>\n",
              "      <td>0</td>\n",
              "      <td>0</td>\n",
              "      <td>1</td>\n",
              "      <td>archive/test/Cheetahs/a9be4e0ac3ff7f4e.jpg</td>\n",
              "    </tr>\n",
              "    <tr>\n",
              "      <th>3</th>\n",
              "      <td>cheetahs</td>\n",
              "      <td>0</td>\n",
              "      <td>1</td>\n",
              "      <td>0</td>\n",
              "      <td>1</td>\n",
              "      <td>0</td>\n",
              "      <td>archive/test/Cheetahs/c65aae5dd1d75984.jpg</td>\n",
              "    </tr>\n",
              "    <tr>\n",
              "      <th>4</th>\n",
              "      <td>cheetahs</td>\n",
              "      <td>0</td>\n",
              "      <td>1</td>\n",
              "      <td>0</td>\n",
              "      <td>1</td>\n",
              "      <td>1</td>\n",
              "      <td>archive/test/Cheetahs/7f33de86429cef7f.jpg</td>\n",
              "    </tr>\n",
              "    <tr>\n",
              "      <th>5</th>\n",
              "      <td>cheetahs</td>\n",
              "      <td>0</td>\n",
              "      <td>0</td>\n",
              "      <td>0</td>\n",
              "      <td>1</td>\n",
              "      <td>0</td>\n",
              "      <td>archive/test/Cheetahs/0c6e90e19f2b2bbc.jpg</td>\n",
              "    </tr>\n",
              "    <tr>\n",
              "      <th>6</th>\n",
              "      <td>cheetahs</td>\n",
              "      <td>0</td>\n",
              "      <td>0</td>\n",
              "      <td>0</td>\n",
              "      <td>1</td>\n",
              "      <td>0</td>\n",
              "      <td>archive/test/Cheetahs/0c20fa69621a2e6c.jpg</td>\n",
              "    </tr>\n",
              "    <tr>\n",
              "      <th>7</th>\n",
              "      <td>cheetahs</td>\n",
              "      <td>0</td>\n",
              "      <td>1</td>\n",
              "      <td>0</td>\n",
              "      <td>1</td>\n",
              "      <td>1</td>\n",
              "      <td>archive/test/Cheetahs/02a5846a35629f1d.jpg</td>\n",
              "    </tr>\n",
              "    <tr>\n",
              "      <th>8</th>\n",
              "      <td>cheetahs</td>\n",
              "      <td>0</td>\n",
              "      <td>1</td>\n",
              "      <td>0</td>\n",
              "      <td>1</td>\n",
              "      <td>0</td>\n",
              "      <td>archive/test/Cheetahs/ebd1867dacf535c7.jpg</td>\n",
              "    </tr>\n",
              "    <tr>\n",
              "      <th>9</th>\n",
              "      <td>cheetahs</td>\n",
              "      <td>0</td>\n",
              "      <td>1</td>\n",
              "      <td>0</td>\n",
              "      <td>1</td>\n",
              "      <td>1</td>\n",
              "      <td>archive/test/Cheetahs/4a15bd602934d7aa.jpg</td>\n",
              "    </tr>\n",
              "    <tr>\n",
              "      <th>10</th>\n",
              "      <td>cheetahs</td>\n",
              "      <td>0</td>\n",
              "      <td>1</td>\n",
              "      <td>0</td>\n",
              "      <td>1</td>\n",
              "      <td>1</td>\n",
              "      <td>archive/test/Cheetahs/c351170c56ae37fb.jpg</td>\n",
              "    </tr>\n",
              "    <tr>\n",
              "      <th>11</th>\n",
              "      <td>cheetahs</td>\n",
              "      <td>0</td>\n",
              "      <td>1</td>\n",
              "      <td>0</td>\n",
              "      <td>1</td>\n",
              "      <td>0</td>\n",
              "      <td>archive/test/Cheetahs/ed51aa4321f10a21.jpg</td>\n",
              "    </tr>\n",
              "    <tr>\n",
              "      <th>12</th>\n",
              "      <td>cheetahs</td>\n",
              "      <td>0</td>\n",
              "      <td>1</td>\n",
              "      <td>0</td>\n",
              "      <td>1</td>\n",
              "      <td>1</td>\n",
              "      <td>archive/test/Cheetahs/03f680447efaccfe.jpg</td>\n",
              "    </tr>\n",
              "    <tr>\n",
              "      <th>13</th>\n",
              "      <td>cheetahs</td>\n",
              "      <td>0</td>\n",
              "      <td>1</td>\n",
              "      <td>0</td>\n",
              "      <td>1</td>\n",
              "      <td>0</td>\n",
              "      <td>archive/test/Cheetahs/012f5ecbf49e1da0.jpg</td>\n",
              "    </tr>\n",
              "    <tr>\n",
              "      <th>14</th>\n",
              "      <td>cheetahs</td>\n",
              "      <td>0</td>\n",
              "      <td>0</td>\n",
              "      <td>0</td>\n",
              "      <td>1</td>\n",
              "      <td>1</td>\n",
              "      <td>archive/test/Cheetahs/767e3c2968ff1890.jpg</td>\n",
              "    </tr>\n",
              "    <tr>\n",
              "      <th>15</th>\n",
              "      <td>cheetahs</td>\n",
              "      <td>0</td>\n",
              "      <td>1</td>\n",
              "      <td>0</td>\n",
              "      <td>1</td>\n",
              "      <td>0</td>\n",
              "      <td>archive/test/Cheetahs/784940fed90cccc2.jpg</td>\n",
              "    </tr>\n",
              "    <tr>\n",
              "      <th>16</th>\n",
              "      <td>cheetahs</td>\n",
              "      <td>0</td>\n",
              "      <td>0</td>\n",
              "      <td>0</td>\n",
              "      <td>1</td>\n",
              "      <td>0</td>\n",
              "      <td>archive/test/Cheetahs/02871f24d5abe59c.jpg</td>\n",
              "    </tr>\n",
              "    <tr>\n",
              "      <th>17</th>\n",
              "      <td>cheetahs</td>\n",
              "      <td>0</td>\n",
              "      <td>0</td>\n",
              "      <td>0</td>\n",
              "      <td>1</td>\n",
              "      <td>0</td>\n",
              "      <td>archive/test/Cheetahs/b3d2f85dee085875.jpg</td>\n",
              "    </tr>\n",
              "    <tr>\n",
              "      <th>18</th>\n",
              "      <td>cheetahs</td>\n",
              "      <td>0</td>\n",
              "      <td>0</td>\n",
              "      <td>0</td>\n",
              "      <td>1</td>\n",
              "      <td>1</td>\n",
              "      <td>archive/test/Cheetahs/6795bb2c553f4981.jpg</td>\n",
              "    </tr>\n",
              "    <tr>\n",
              "      <th>19</th>\n",
              "      <td>cheetahs</td>\n",
              "      <td>0</td>\n",
              "      <td>1</td>\n",
              "      <td>0</td>\n",
              "      <td>1</td>\n",
              "      <td>1</td>\n",
              "      <td>archive/test/Cheetahs/519587ae1f0b5160.jpg</td>\n",
              "    </tr>\n",
              "    <tr>\n",
              "      <th>20</th>\n",
              "      <td>lions</td>\n",
              "      <td>0</td>\n",
              "      <td>1</td>\n",
              "      <td>0</td>\n",
              "      <td>1</td>\n",
              "      <td>1</td>\n",
              "      <td>archive/test/Lions/eb226814a3585764.jpg</td>\n",
              "    </tr>\n",
              "    <tr>\n",
              "      <th>21</th>\n",
              "      <td>lions</td>\n",
              "      <td>0</td>\n",
              "      <td>1</td>\n",
              "      <td>0</td>\n",
              "      <td>1</td>\n",
              "      <td>0</td>\n",
              "      <td>archive/test/Lions/691ec9943cac126b.jpg</td>\n",
              "    </tr>\n",
              "    <tr>\n",
              "      <th>22</th>\n",
              "      <td>lions</td>\n",
              "      <td>0</td>\n",
              "      <td>1</td>\n",
              "      <td>0</td>\n",
              "      <td>1</td>\n",
              "      <td>1</td>\n",
              "      <td>archive/test/Lions/c60eec6c2fd32c18.jpg</td>\n",
              "    </tr>\n",
              "    <tr>\n",
              "      <th>23</th>\n",
              "      <td>lions</td>\n",
              "      <td>0</td>\n",
              "      <td>1</td>\n",
              "      <td>0</td>\n",
              "      <td>1</td>\n",
              "      <td>0</td>\n",
              "      <td>archive/test/Lions/c48af09db98b16e2.jpg</td>\n",
              "    </tr>\n",
              "    <tr>\n",
              "      <th>24</th>\n",
              "      <td>lions</td>\n",
              "      <td>0</td>\n",
              "      <td>0</td>\n",
              "      <td>0</td>\n",
              "      <td>1</td>\n",
              "      <td>1</td>\n",
              "      <td>archive/test/Lions/d35eb436350a6c04.jpg</td>\n",
              "    </tr>\n",
              "    <tr>\n",
              "      <th>25</th>\n",
              "      <td>lions</td>\n",
              "      <td>0</td>\n",
              "      <td>1</td>\n",
              "      <td>0</td>\n",
              "      <td>1</td>\n",
              "      <td>1</td>\n",
              "      <td>archive/test/Lions/388a91732c5f45f0.jpg</td>\n",
              "    </tr>\n",
              "    <tr>\n",
              "      <th>26</th>\n",
              "      <td>lions</td>\n",
              "      <td>0</td>\n",
              "      <td>1</td>\n",
              "      <td>0</td>\n",
              "      <td>1</td>\n",
              "      <td>0</td>\n",
              "      <td>archive/test/Lions/002b54a615993dca.jpg</td>\n",
              "    </tr>\n",
              "    <tr>\n",
              "      <th>27</th>\n",
              "      <td>lions</td>\n",
              "      <td>0</td>\n",
              "      <td>1</td>\n",
              "      <td>0</td>\n",
              "      <td>1</td>\n",
              "      <td>1</td>\n",
              "      <td>archive/test/Lions/2224360ced682d66.jpg</td>\n",
              "    </tr>\n",
              "    <tr>\n",
              "      <th>28</th>\n",
              "      <td>lions</td>\n",
              "      <td>0</td>\n",
              "      <td>0</td>\n",
              "      <td>0</td>\n",
              "      <td>1</td>\n",
              "      <td>1</td>\n",
              "      <td>archive/test/Lions/c24e6cc6c56d9bf2.jpg</td>\n",
              "    </tr>\n",
              "    <tr>\n",
              "      <th>29</th>\n",
              "      <td>lions</td>\n",
              "      <td>0</td>\n",
              "      <td>0</td>\n",
              "      <td>0</td>\n",
              "      <td>1</td>\n",
              "      <td>1</td>\n",
              "      <td>archive/test/Lions/70116560e280ac2c.jpg</td>\n",
              "    </tr>\n",
              "    <tr>\n",
              "      <th>30</th>\n",
              "      <td>lions</td>\n",
              "      <td>0</td>\n",
              "      <td>0</td>\n",
              "      <td>0</td>\n",
              "      <td>1</td>\n",
              "      <td>1</td>\n",
              "      <td>archive/test/Lions/03a0ceb0342e6ef9.jpg</td>\n",
              "    </tr>\n",
              "    <tr>\n",
              "      <th>31</th>\n",
              "      <td>lions</td>\n",
              "      <td>0</td>\n",
              "      <td>0</td>\n",
              "      <td>0</td>\n",
              "      <td>1</td>\n",
              "      <td>0</td>\n",
              "      <td>archive/test/Lions/eb551b1c169fe188.jpg</td>\n",
              "    </tr>\n",
              "    <tr>\n",
              "      <th>32</th>\n",
              "      <td>lions</td>\n",
              "      <td>0</td>\n",
              "      <td>0</td>\n",
              "      <td>0</td>\n",
              "      <td>1</td>\n",
              "      <td>1</td>\n",
              "      <td>archive/test/Lions/0920d7dbdc425032.jpg</td>\n",
              "    </tr>\n",
              "    <tr>\n",
              "      <th>33</th>\n",
              "      <td>lions</td>\n",
              "      <td>0</td>\n",
              "      <td>0</td>\n",
              "      <td>0</td>\n",
              "      <td>1</td>\n",
              "      <td>1</td>\n",
              "      <td>archive/test/Lions/a8aca8797ef17da2.jpg</td>\n",
              "    </tr>\n",
              "    <tr>\n",
              "      <th>34</th>\n",
              "      <td>lions</td>\n",
              "      <td>0</td>\n",
              "      <td>1</td>\n",
              "      <td>0</td>\n",
              "      <td>1</td>\n",
              "      <td>1</td>\n",
              "      <td>archive/test/Lions/d98cdfe22eb405d8.jpg</td>\n",
              "    </tr>\n",
              "    <tr>\n",
              "      <th>35</th>\n",
              "      <td>lions</td>\n",
              "      <td>0</td>\n",
              "      <td>0</td>\n",
              "      <td>0</td>\n",
              "      <td>1</td>\n",
              "      <td>1</td>\n",
              "      <td>archive/test/Lions/db3c6efce3109e80.jpg</td>\n",
              "    </tr>\n",
              "    <tr>\n",
              "      <th>36</th>\n",
              "      <td>lions</td>\n",
              "      <td>0</td>\n",
              "      <td>1</td>\n",
              "      <td>0</td>\n",
              "      <td>1</td>\n",
              "      <td>1</td>\n",
              "      <td>archive/test/Lions/06c269f657184270.jpg</td>\n",
              "    </tr>\n",
              "    <tr>\n",
              "      <th>37</th>\n",
              "      <td>lions</td>\n",
              "      <td>0</td>\n",
              "      <td>1</td>\n",
              "      <td>0</td>\n",
              "      <td>1</td>\n",
              "      <td>1</td>\n",
              "      <td>archive/test/Lions/ccea45f05d866cd6.jpg</td>\n",
              "    </tr>\n",
              "    <tr>\n",
              "      <th>38</th>\n",
              "      <td>lions</td>\n",
              "      <td>0</td>\n",
              "      <td>1</td>\n",
              "      <td>0</td>\n",
              "      <td>1</td>\n",
              "      <td>1</td>\n",
              "      <td>archive/test/Lions/0f0e1c3f75d2a442.jpg</td>\n",
              "    </tr>\n",
              "    <tr>\n",
              "      <th>39</th>\n",
              "      <td>lions</td>\n",
              "      <td>0</td>\n",
              "      <td>1</td>\n",
              "      <td>0</td>\n",
              "      <td>1</td>\n",
              "      <td>1</td>\n",
              "      <td>archive/test/Lions/0c6d0c1a263244b9.jpg</td>\n",
              "    </tr>\n",
              "  </tbody>\n",
              "</table>\n",
              "</div>"
            ],
            "text/plain": [
              "     animals  model_1  model_2  model_3  model_Mobile  model_DnsNet  \\\n",
              "0   cheetahs        0        1        0             1             1   \n",
              "1   cheetahs        1        1        0             1             0   \n",
              "2   cheetahs        0        0        0             0             1   \n",
              "3   cheetahs        0        1        0             1             0   \n",
              "4   cheetahs        0        1        0             1             1   \n",
              "5   cheetahs        0        0        0             1             0   \n",
              "6   cheetahs        0        0        0             1             0   \n",
              "7   cheetahs        0        1        0             1             1   \n",
              "8   cheetahs        0        1        0             1             0   \n",
              "9   cheetahs        0        1        0             1             1   \n",
              "10  cheetahs        0        1        0             1             1   \n",
              "11  cheetahs        0        1        0             1             0   \n",
              "12  cheetahs        0        1        0             1             1   \n",
              "13  cheetahs        0        1        0             1             0   \n",
              "14  cheetahs        0        0        0             1             1   \n",
              "15  cheetahs        0        1        0             1             0   \n",
              "16  cheetahs        0        0        0             1             0   \n",
              "17  cheetahs        0        0        0             1             0   \n",
              "18  cheetahs        0        0        0             1             1   \n",
              "19  cheetahs        0        1        0             1             1   \n",
              "20     lions        0        1        0             1             1   \n",
              "21     lions        0        1        0             1             0   \n",
              "22     lions        0        1        0             1             1   \n",
              "23     lions        0        1        0             1             0   \n",
              "24     lions        0        0        0             1             1   \n",
              "25     lions        0        1        0             1             1   \n",
              "26     lions        0        1        0             1             0   \n",
              "27     lions        0        1        0             1             1   \n",
              "28     lions        0        0        0             1             1   \n",
              "29     lions        0        0        0             1             1   \n",
              "30     lions        0        0        0             1             1   \n",
              "31     lions        0        0        0             1             0   \n",
              "32     lions        0        0        0             1             1   \n",
              "33     lions        0        0        0             1             1   \n",
              "34     lions        0        1        0             1             1   \n",
              "35     lions        0        0        0             1             1   \n",
              "36     lions        0        1        0             1             1   \n",
              "37     lions        0        1        0             1             1   \n",
              "38     lions        0        1        0             1             1   \n",
              "39     lions        0        1        0             1             1   \n",
              "\n",
              "                                          path  \n",
              "0   archive/test/Cheetahs/02a0439923768403.jpg  \n",
              "1   archive/test/Cheetahs/0db6601682a368e8.jpg  \n",
              "2   archive/test/Cheetahs/a9be4e0ac3ff7f4e.jpg  \n",
              "3   archive/test/Cheetahs/c65aae5dd1d75984.jpg  \n",
              "4   archive/test/Cheetahs/7f33de86429cef7f.jpg  \n",
              "5   archive/test/Cheetahs/0c6e90e19f2b2bbc.jpg  \n",
              "6   archive/test/Cheetahs/0c20fa69621a2e6c.jpg  \n",
              "7   archive/test/Cheetahs/02a5846a35629f1d.jpg  \n",
              "8   archive/test/Cheetahs/ebd1867dacf535c7.jpg  \n",
              "9   archive/test/Cheetahs/4a15bd602934d7aa.jpg  \n",
              "10  archive/test/Cheetahs/c351170c56ae37fb.jpg  \n",
              "11  archive/test/Cheetahs/ed51aa4321f10a21.jpg  \n",
              "12  archive/test/Cheetahs/03f680447efaccfe.jpg  \n",
              "13  archive/test/Cheetahs/012f5ecbf49e1da0.jpg  \n",
              "14  archive/test/Cheetahs/767e3c2968ff1890.jpg  \n",
              "15  archive/test/Cheetahs/784940fed90cccc2.jpg  \n",
              "16  archive/test/Cheetahs/02871f24d5abe59c.jpg  \n",
              "17  archive/test/Cheetahs/b3d2f85dee085875.jpg  \n",
              "18  archive/test/Cheetahs/6795bb2c553f4981.jpg  \n",
              "19  archive/test/Cheetahs/519587ae1f0b5160.jpg  \n",
              "20     archive/test/Lions/eb226814a3585764.jpg  \n",
              "21     archive/test/Lions/691ec9943cac126b.jpg  \n",
              "22     archive/test/Lions/c60eec6c2fd32c18.jpg  \n",
              "23     archive/test/Lions/c48af09db98b16e2.jpg  \n",
              "24     archive/test/Lions/d35eb436350a6c04.jpg  \n",
              "25     archive/test/Lions/388a91732c5f45f0.jpg  \n",
              "26     archive/test/Lions/002b54a615993dca.jpg  \n",
              "27     archive/test/Lions/2224360ced682d66.jpg  \n",
              "28     archive/test/Lions/c24e6cc6c56d9bf2.jpg  \n",
              "29     archive/test/Lions/70116560e280ac2c.jpg  \n",
              "30     archive/test/Lions/03a0ceb0342e6ef9.jpg  \n",
              "31     archive/test/Lions/eb551b1c169fe188.jpg  \n",
              "32     archive/test/Lions/0920d7dbdc425032.jpg  \n",
              "33     archive/test/Lions/a8aca8797ef17da2.jpg  \n",
              "34     archive/test/Lions/d98cdfe22eb405d8.jpg  \n",
              "35     archive/test/Lions/db3c6efce3109e80.jpg  \n",
              "36     archive/test/Lions/06c269f657184270.jpg  \n",
              "37     archive/test/Lions/ccea45f05d866cd6.jpg  \n",
              "38     archive/test/Lions/0f0e1c3f75d2a442.jpg  \n",
              "39     archive/test/Lions/0c6d0c1a263244b9.jpg  "
            ]
          },
          "execution_count": 29,
          "metadata": {},
          "output_type": "execute_result"
        }
      ],
      "source": [
        "import pandas as pd\n",
        "data = {'animals': animals, 'model_1': model_1, 'model_2': model_2, 'model_3': model_3, 'model_Mobile':model_Mobile,'model_DnsNet':model_DnsNet,'path':path}\n",
        "df_resultado = pd.DataFrame.from_dict(data)\n",
        "df_resultado"
      ]
    },
    {
      "cell_type": "code",
      "execution_count": 30,
      "metadata": {
        "colab": {
          "base_uri": "https://localhost:8080/",
          "height": 143
        },
        "id": "S3coSyZ9NP-0",
        "outputId": "479f789d-276b-4d7e-82ee-3ff8a4c5f7d2"
      },
      "outputs": [
        {
          "data": {
            "text/html": [
              "<div>\n",
              "<style scoped>\n",
              "    .dataframe tbody tr th:only-of-type {\n",
              "        vertical-align: middle;\n",
              "    }\n",
              "\n",
              "    .dataframe tbody tr th {\n",
              "        vertical-align: top;\n",
              "    }\n",
              "\n",
              "    .dataframe thead th {\n",
              "        text-align: right;\n",
              "    }\n",
              "</style>\n",
              "<table border=\"1\" class=\"dataframe\">\n",
              "  <thead>\n",
              "    <tr style=\"text-align: right;\">\n",
              "      <th></th>\n",
              "      <th></th>\n",
              "      <th>count</th>\n",
              "    </tr>\n",
              "    <tr>\n",
              "      <th>animals</th>\n",
              "      <th>model_1</th>\n",
              "      <th></th>\n",
              "    </tr>\n",
              "  </thead>\n",
              "  <tbody>\n",
              "    <tr>\n",
              "      <th rowspan=\"2\" valign=\"top\">cheetahs</th>\n",
              "      <th>0</th>\n",
              "      <td>19</td>\n",
              "    </tr>\n",
              "    <tr>\n",
              "      <th>1</th>\n",
              "      <td>1</td>\n",
              "    </tr>\n",
              "    <tr>\n",
              "      <th>lions</th>\n",
              "      <th>0</th>\n",
              "      <td>20</td>\n",
              "    </tr>\n",
              "  </tbody>\n",
              "</table>\n",
              "</div>"
            ],
            "text/plain": [
              "                  count\n",
              "animals  model_1       \n",
              "cheetahs 0           19\n",
              "         1            1\n",
              "lions    0           20"
            ]
          },
          "execution_count": 30,
          "metadata": {},
          "output_type": "execute_result"
        }
      ],
      "source": [
        "df_resultado.groupby(['animals','model_1'])['model_1'].agg(['count'])"
      ]
    },
    {
      "cell_type": "code",
      "execution_count": 31,
      "metadata": {},
      "outputs": [
        {
          "data": {
            "text/html": [
              "<div>\n",
              "<style scoped>\n",
              "    .dataframe tbody tr th:only-of-type {\n",
              "        vertical-align: middle;\n",
              "    }\n",
              "\n",
              "    .dataframe tbody tr th {\n",
              "        vertical-align: top;\n",
              "    }\n",
              "\n",
              "    .dataframe thead th {\n",
              "        text-align: right;\n",
              "    }\n",
              "</style>\n",
              "<table border=\"1\" class=\"dataframe\">\n",
              "  <thead>\n",
              "    <tr style=\"text-align: right;\">\n",
              "      <th></th>\n",
              "      <th></th>\n",
              "      <th>count</th>\n",
              "    </tr>\n",
              "    <tr>\n",
              "      <th>animals</th>\n",
              "      <th>model_2</th>\n",
              "      <th></th>\n",
              "    </tr>\n",
              "  </thead>\n",
              "  <tbody>\n",
              "    <tr>\n",
              "      <th rowspan=\"2\" valign=\"top\">cheetahs</th>\n",
              "      <th>0</th>\n",
              "      <td>7</td>\n",
              "    </tr>\n",
              "    <tr>\n",
              "      <th>1</th>\n",
              "      <td>13</td>\n",
              "    </tr>\n",
              "    <tr>\n",
              "      <th rowspan=\"2\" valign=\"top\">lions</th>\n",
              "      <th>0</th>\n",
              "      <td>8</td>\n",
              "    </tr>\n",
              "    <tr>\n",
              "      <th>1</th>\n",
              "      <td>12</td>\n",
              "    </tr>\n",
              "  </tbody>\n",
              "</table>\n",
              "</div>"
            ],
            "text/plain": [
              "                  count\n",
              "animals  model_2       \n",
              "cheetahs 0            7\n",
              "         1           13\n",
              "lions    0            8\n",
              "         1           12"
            ]
          },
          "execution_count": 31,
          "metadata": {},
          "output_type": "execute_result"
        }
      ],
      "source": [
        "df_resultado.groupby(['animals','model_2'])['model_2'].agg(['count'])"
      ]
    },
    {
      "cell_type": "code",
      "execution_count": 32,
      "metadata": {},
      "outputs": [
        {
          "data": {
            "text/html": [
              "<div>\n",
              "<style scoped>\n",
              "    .dataframe tbody tr th:only-of-type {\n",
              "        vertical-align: middle;\n",
              "    }\n",
              "\n",
              "    .dataframe tbody tr th {\n",
              "        vertical-align: top;\n",
              "    }\n",
              "\n",
              "    .dataframe thead th {\n",
              "        text-align: right;\n",
              "    }\n",
              "</style>\n",
              "<table border=\"1\" class=\"dataframe\">\n",
              "  <thead>\n",
              "    <tr style=\"text-align: right;\">\n",
              "      <th></th>\n",
              "      <th></th>\n",
              "      <th>count</th>\n",
              "    </tr>\n",
              "    <tr>\n",
              "      <th>animals</th>\n",
              "      <th>model_3</th>\n",
              "      <th></th>\n",
              "    </tr>\n",
              "  </thead>\n",
              "  <tbody>\n",
              "    <tr>\n",
              "      <th>cheetahs</th>\n",
              "      <th>0</th>\n",
              "      <td>20</td>\n",
              "    </tr>\n",
              "    <tr>\n",
              "      <th>lions</th>\n",
              "      <th>0</th>\n",
              "      <td>20</td>\n",
              "    </tr>\n",
              "  </tbody>\n",
              "</table>\n",
              "</div>"
            ],
            "text/plain": [
              "                  count\n",
              "animals  model_3       \n",
              "cheetahs 0           20\n",
              "lions    0           20"
            ]
          },
          "execution_count": 32,
          "metadata": {},
          "output_type": "execute_result"
        }
      ],
      "source": [
        "df_resultado.groupby(['animals','model_3'])['model_3'].agg(['count'])"
      ]
    },
    {
      "cell_type": "code",
      "execution_count": 33,
      "metadata": {
        "colab": {
          "base_uri": "https://localhost:8080/",
          "height": 206
        },
        "id": "zCj8iR9JNhvI",
        "outputId": "c7822883-a338-43e4-cf17-695a4443804b"
      },
      "outputs": [
        {
          "data": {
            "text/html": [
              "<div>\n",
              "<style scoped>\n",
              "    .dataframe tbody tr th:only-of-type {\n",
              "        vertical-align: middle;\n",
              "    }\n",
              "\n",
              "    .dataframe tbody tr th {\n",
              "        vertical-align: top;\n",
              "    }\n",
              "\n",
              "    .dataframe thead th {\n",
              "        text-align: right;\n",
              "    }\n",
              "</style>\n",
              "<table border=\"1\" class=\"dataframe\">\n",
              "  <thead>\n",
              "    <tr style=\"text-align: right;\">\n",
              "      <th></th>\n",
              "      <th></th>\n",
              "      <th>count</th>\n",
              "    </tr>\n",
              "    <tr>\n",
              "      <th>animals</th>\n",
              "      <th>model_Mobile</th>\n",
              "      <th></th>\n",
              "    </tr>\n",
              "  </thead>\n",
              "  <tbody>\n",
              "    <tr>\n",
              "      <th rowspan=\"2\" valign=\"top\">cheetahs</th>\n",
              "      <th>0</th>\n",
              "      <td>1</td>\n",
              "    </tr>\n",
              "    <tr>\n",
              "      <th>1</th>\n",
              "      <td>19</td>\n",
              "    </tr>\n",
              "    <tr>\n",
              "      <th>lions</th>\n",
              "      <th>1</th>\n",
              "      <td>20</td>\n",
              "    </tr>\n",
              "  </tbody>\n",
              "</table>\n",
              "</div>"
            ],
            "text/plain": [
              "                       count\n",
              "animals  model_Mobile       \n",
              "cheetahs 0                 1\n",
              "         1                19\n",
              "lions    1                20"
            ]
          },
          "execution_count": 33,
          "metadata": {},
          "output_type": "execute_result"
        }
      ],
      "source": [
        "df_resultado.groupby(['animals','model_Mobile'])['model_Mobile'].agg(['count'])"
      ]
    },
    {
      "cell_type": "code",
      "execution_count": 42,
      "metadata": {
        "colab": {
          "base_uri": "https://localhost:8080/",
          "height": 206
        },
        "id": "bElHKQNTNh7s",
        "outputId": "c8885a2a-c3f9-4829-f659-b7fea10d9736"
      },
      "outputs": [
        {
          "data": {
            "text/html": [
              "<div>\n",
              "<style scoped>\n",
              "    .dataframe tbody tr th:only-of-type {\n",
              "        vertical-align: middle;\n",
              "    }\n",
              "\n",
              "    .dataframe tbody tr th {\n",
              "        vertical-align: top;\n",
              "    }\n",
              "\n",
              "    .dataframe thead th {\n",
              "        text-align: right;\n",
              "    }\n",
              "</style>\n",
              "<table border=\"1\" class=\"dataframe\">\n",
              "  <thead>\n",
              "    <tr style=\"text-align: right;\">\n",
              "      <th></th>\n",
              "      <th></th>\n",
              "      <th>count</th>\n",
              "    </tr>\n",
              "    <tr>\n",
              "      <th>animals</th>\n",
              "      <th>model_DnsNet</th>\n",
              "      <th></th>\n",
              "    </tr>\n",
              "  </thead>\n",
              "  <tbody>\n",
              "    <tr>\n",
              "      <th rowspan=\"2\" valign=\"top\">cheetahs</th>\n",
              "      <th>0</th>\n",
              "      <td>10</td>\n",
              "    </tr>\n",
              "    <tr>\n",
              "      <th>1</th>\n",
              "      <td>10</td>\n",
              "    </tr>\n",
              "    <tr>\n",
              "      <th rowspan=\"2\" valign=\"top\">lions</th>\n",
              "      <th>0</th>\n",
              "      <td>4</td>\n",
              "    </tr>\n",
              "    <tr>\n",
              "      <th>1</th>\n",
              "      <td>16</td>\n",
              "    </tr>\n",
              "  </tbody>\n",
              "</table>\n",
              "</div>"
            ],
            "text/plain": [
              "                       count\n",
              "animals  model_DnsNet       \n",
              "cheetahs 0                10\n",
              "         1                10\n",
              "lions    0                 4\n",
              "         1                16"
            ]
          },
          "execution_count": 42,
          "metadata": {},
          "output_type": "execute_result"
        }
      ],
      "source": [
        "df_resultado.groupby(['animals','model_DnsNet'])['model_DnsNet'].agg(['count'])"
      ]
    },
    {
      "cell_type": "markdown",
      "metadata": {
        "id": "ZX9y0Qp1Ql_v"
      },
      "source": [
        "## Conclusão:\n",
        "\n",
        "O melhor modelo foi o **model_DnsNet**."
      ]
    },
    {
      "cell_type": "code",
      "execution_count": 35,
      "metadata": {
        "id": "b19sZ8VaOGMh"
      },
      "outputs": [],
      "source": [
        "# from google.colab.patches import cv2_imshow\n",
        "import cv2"
      ]
    },
    {
      "cell_type": "code",
      "execution_count": 36,
      "metadata": {},
      "outputs": [
        {
          "data": {
            "text/html": [
              "<div>\n",
              "<style scoped>\n",
              "    .dataframe tbody tr th:only-of-type {\n",
              "        vertical-align: middle;\n",
              "    }\n",
              "\n",
              "    .dataframe tbody tr th {\n",
              "        vertical-align: top;\n",
              "    }\n",
              "\n",
              "    .dataframe thead th {\n",
              "        text-align: right;\n",
              "    }\n",
              "</style>\n",
              "<table border=\"1\" class=\"dataframe\">\n",
              "  <thead>\n",
              "    <tr style=\"text-align: right;\">\n",
              "      <th></th>\n",
              "      <th>animals</th>\n",
              "      <th>model_1</th>\n",
              "      <th>model_2</th>\n",
              "      <th>model_3</th>\n",
              "      <th>model_Mobile</th>\n",
              "      <th>model_DnsNet</th>\n",
              "      <th>path</th>\n",
              "    </tr>\n",
              "  </thead>\n",
              "  <tbody>\n",
              "    <tr>\n",
              "      <th>35</th>\n",
              "      <td>lions</td>\n",
              "      <td>0</td>\n",
              "      <td>0</td>\n",
              "      <td>0</td>\n",
              "      <td>1</td>\n",
              "      <td>1</td>\n",
              "      <td>archive/test/Lions/db3c6efce3109e80.jpg</td>\n",
              "    </tr>\n",
              "    <tr>\n",
              "      <th>36</th>\n",
              "      <td>lions</td>\n",
              "      <td>0</td>\n",
              "      <td>1</td>\n",
              "      <td>0</td>\n",
              "      <td>1</td>\n",
              "      <td>1</td>\n",
              "      <td>archive/test/Lions/06c269f657184270.jpg</td>\n",
              "    </tr>\n",
              "    <tr>\n",
              "      <th>37</th>\n",
              "      <td>lions</td>\n",
              "      <td>0</td>\n",
              "      <td>1</td>\n",
              "      <td>0</td>\n",
              "      <td>1</td>\n",
              "      <td>1</td>\n",
              "      <td>archive/test/Lions/ccea45f05d866cd6.jpg</td>\n",
              "    </tr>\n",
              "    <tr>\n",
              "      <th>38</th>\n",
              "      <td>lions</td>\n",
              "      <td>0</td>\n",
              "      <td>1</td>\n",
              "      <td>0</td>\n",
              "      <td>1</td>\n",
              "      <td>1</td>\n",
              "      <td>archive/test/Lions/0f0e1c3f75d2a442.jpg</td>\n",
              "    </tr>\n",
              "    <tr>\n",
              "      <th>39</th>\n",
              "      <td>lions</td>\n",
              "      <td>0</td>\n",
              "      <td>1</td>\n",
              "      <td>0</td>\n",
              "      <td>1</td>\n",
              "      <td>1</td>\n",
              "      <td>archive/test/Lions/0c6d0c1a263244b9.jpg</td>\n",
              "    </tr>\n",
              "  </tbody>\n",
              "</table>\n",
              "</div>"
            ],
            "text/plain": [
              "   animals  model_1  model_2  model_3  model_Mobile  model_DnsNet  \\\n",
              "35   lions        0        0        0             1             1   \n",
              "36   lions        0        1        0             1             1   \n",
              "37   lions        0        1        0             1             1   \n",
              "38   lions        0        1        0             1             1   \n",
              "39   lions        0        1        0             1             1   \n",
              "\n",
              "                                       path  \n",
              "35  archive/test/Lions/db3c6efce3109e80.jpg  \n",
              "36  archive/test/Lions/06c269f657184270.jpg  \n",
              "37  archive/test/Lions/ccea45f05d866cd6.jpg  \n",
              "38  archive/test/Lions/0f0e1c3f75d2a442.jpg  \n",
              "39  archive/test/Lions/0c6d0c1a263244b9.jpg  "
            ]
          },
          "execution_count": 36,
          "metadata": {},
          "output_type": "execute_result"
        }
      ],
      "source": [
        "df_resultado.tail()"
      ]
    },
    {
      "cell_type": "code",
      "execution_count": 44,
      "metadata": {
        "colab": {
          "base_uri": "https://localhost:8080/",
          "height": 35
        },
        "id": "-EID4sNjRBUP",
        "outputId": "b70bc4c3-0fa4-4928-f1e0-b926e700d549"
      },
      "outputs": [
        {
          "data": {
            "text/plain": [
              "21    archive/test/Lions/691ec9943cac126b.jpg\n",
              "23    archive/test/Lions/c48af09db98b16e2.jpg\n",
              "26    archive/test/Lions/002b54a615993dca.jpg\n",
              "31    archive/test/Lions/eb551b1c169fe188.jpg\n",
              "Name: path, dtype: object"
            ]
          },
          "execution_count": 44,
          "metadata": {},
          "output_type": "execute_result"
        }
      ],
      "source": [
        "#0 = apple e fruta = tomate. Portanto, foi um erro\n",
        "df_resultado.loc[(df_resultado.model_DnsNet == 0) & (df_resultado.animals == 'lions'),'path']"
      ]
    },
    {
      "cell_type": "markdown",
      "metadata": {
        "id": "kJi47zVlRvmu"
      },
      "source": [
        "Acertos"
      ]
    }
  ],
  "metadata": {
    "colab": {
      "provenance": []
    },
    "kernelspec": {
      "display_name": "Python 3",
      "name": "python3"
    },
    "language_info": {
      "codemirror_mode": {
        "name": "ipython",
        "version": 3
      },
      "file_extension": ".py",
      "mimetype": "text/x-python",
      "name": "python",
      "nbconvert_exporter": "python",
      "pygments_lexer": "ipython3",
      "version": "3.11.4"
    }
  },
  "nbformat": 4,
  "nbformat_minor": 0
}
